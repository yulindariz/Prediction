{
  "cells": [
    {
      "cell_type": "markdown",
      "metadata": {
        "id": "66wfeHclondL"
      },
      "source": [
        "<h1 align=center><font size = 5>Sesi Live 5 - Clustering with Python</font></h1>"
      ]
    },
    {
      "cell_type": "markdown",
      "metadata": {
        "id": "RhLonc2kVdGI"
      },
      "source": [
        "> link data download di :\n",
        "articles.csv - https://www.kaggle.com/competitions/h-and-m-personalized-fashion-recommendations/data?select=articles.csv\n",
        "\n",
        "> customers.csv - https://www.kaggle.com/competitions/h-and-m-personalized-fashion-recommendations/data?select=customers.csv\n",
        "\n",
        "> transactions_train.csv - https://www.kaggle.com/competitions/h-and-m-personalized-fashion-recommendations/data?select=transactions_train.csv\n",
        "Outline:\n",
        "* **Part I**\n",
        "    * Load & Explore Data\n",
        "        * Data Understanding\n",
        "    * Data Analysis\n",
        "        * Exploratory Data Analysis\n",
        "        * Data Preparation\n",
        "* **Part II**\n",
        "    * Model Development\n",
        "        * Data Preparation\n",
        "        * Modelling\n",
        "    * Model Evaluation\n",
        "        * Cluster Cardinality & Magnitude\n",
        "        * Elbow Method\n",
        "        * Silhouette Score"
      ]
    },
    {
      "cell_type": "markdown",
      "metadata": {
        "id": "C3dXQSXwpDgO"
      },
      "source": [
        "# Clustering with Python - Part 1"
      ]
    },
    {
      "cell_type": "markdown",
      "metadata": {
        "id": "t-DZRyJrCCOC"
      },
      "source": [
        "## **0 Libraries**\n",
        "\n",
        "Cell berikut berisi semua _library_ yang akan kita gunakan dan diurutkan mengikuti konvensi [PEP8](https://peps.python.org/pep-0008/)."
      ]
    },
    {
      "cell_type": "code",
      "execution_count": null,
      "metadata": {
        "id": "9VM4pYWaVNRX"
      },
      "outputs": [],
      "source": [
        "from pprint import pprint\n",
        "from time import time\n",
        "\n",
        "import matplotlib.pyplot as plt\n",
        "import numpy as np\n",
        "import pandas as pd\n",
        "import seaborn as sns\n",
        "from sklearn.cluster import KMeans, MiniBatchKMeans\n",
        "from sklearn.metrics import silhouette_score\n",
        "from sklearn.preprocessing import StandardScaler, OneHotEncoder"
      ]
    },
    {
      "cell_type": "markdown",
      "metadata": {
        "id": "YVXfDaCD-aQd"
      },
      "source": [
        "## **1 Data Loading & Exploration**"
      ]
    },
    {
      "cell_type": "code",
      "execution_count": null,
      "metadata": {
        "colab": {
          "base_uri": "https://localhost:8080/"
        },
        "id": "hEzOK82LCWz9",
        "outputId": "65898041-b093-45c1-e7fb-3b95bd78e11f"
      },
      "outputs": [
        {
          "output_type": "stream",
          "name": "stdout",
          "text": [
            "Done loading all datasets in 0.567s\n"
          ]
        }
      ],
      "source": [
        "start = time()\n",
        "df_articles = pd.read_csv(\"articles.csv\")\n",
        "df_customers = pd.read_csv(\"customers.csv\")\n",
        "df_transactions = pd.read_csv(\"transactions_train.csv\")\n",
        "end = time()\n",
        "\n",
        "print(\"Done loading all datasets in {:.3f}s\".format(end-start))"
      ]
    },
    {
      "cell_type": "code",
      "execution_count": null,
      "metadata": {
        "colab": {
          "base_uri": "https://localhost:8080/"
        },
        "id": "ooETSIVQUO9e",
        "outputId": "6716e031-451e-4967-a88c-3435ee48d518"
      },
      "outputs": [
        {
          "name": "stdout",
          "output_type": "stream",
          "text": [
            "num of articles: 105542\n",
            "num of customers: 1371980\n",
            "num of transactions: 31788324\n"
          ]
        }
      ],
      "source": [
        "print(\"num of articles:\", df_articles.shape[0])\n",
        "print(\"num of customers:\", df_customers.shape[0])\n",
        "print(\"num of transactions:\", df_transactions.shape[0])"
      ]
    },
    {
      "cell_type": "markdown",
      "metadata": {
        "id": "KYb7elQKVxx1"
      },
      "source": [
        "> **Insights:**\n",
        "\n",
        "Dari angka di atas, terdapat total kurang lebih **3 juta** transaksi yang dilakukan oleh sekitar **1 juta** customer untuk **100 ribuan** artikel."
      ]
    },
    {
      "cell_type": "markdown",
      "metadata": {
        "id": "_qm41uqL-tNw"
      },
      "source": [
        "### 1.1 Article"
      ]
    },
    {
      "cell_type": "code",
      "execution_count": null,
      "metadata": {
        "colab": {
          "base_uri": "https://localhost:8080/",
          "height": 530
        },
        "id": "MVkxrjsEPGVi",
        "outputId": "d3633d15-6455-4fde-dc63-e33c33f252ac"
      },
      "outputs": [
        {
          "data": {
            "text/html": [
              "\n",
              "  <div id=\"df-a9133163-6f7c-4203-a6a2-29e031368729\">\n",
              "    <div class=\"colab-df-container\">\n",
              "      <div>\n",
              "<style scoped>\n",
              "    .dataframe tbody tr th:only-of-type {\n",
              "        vertical-align: middle;\n",
              "    }\n",
              "\n",
              "    .dataframe tbody tr th {\n",
              "        vertical-align: top;\n",
              "    }\n",
              "\n",
              "    .dataframe thead th {\n",
              "        text-align: right;\n",
              "    }\n",
              "</style>\n",
              "<table border=\"1\" class=\"dataframe\">\n",
              "  <thead>\n",
              "    <tr style=\"text-align: right;\">\n",
              "      <th></th>\n",
              "      <th>article_id</th>\n",
              "      <th>product_code</th>\n",
              "      <th>prod_name</th>\n",
              "      <th>product_type_no</th>\n",
              "      <th>product_type_name</th>\n",
              "      <th>product_group_name</th>\n",
              "      <th>graphical_appearance_no</th>\n",
              "      <th>graphical_appearance_name</th>\n",
              "      <th>colour_group_code</th>\n",
              "      <th>colour_group_name</th>\n",
              "      <th>perceived_colour_value_id</th>\n",
              "      <th>perceived_colour_value_name</th>\n",
              "      <th>perceived_colour_master_id</th>\n",
              "      <th>perceived_colour_master_name</th>\n",
              "      <th>department_no</th>\n",
              "      <th>department_name</th>\n",
              "      <th>index_code</th>\n",
              "      <th>index_name</th>\n",
              "      <th>index_group_no</th>\n",
              "      <th>index_group_name</th>\n",
              "      <th>section_no</th>\n",
              "      <th>section_name</th>\n",
              "      <th>garment_group_no</th>\n",
              "      <th>garment_group_name</th>\n",
              "      <th>detail_desc</th>\n",
              "    </tr>\n",
              "  </thead>\n",
              "  <tbody>\n",
              "    <tr>\n",
              "      <th>0</th>\n",
              "      <td>108775015</td>\n",
              "      <td>108775</td>\n",
              "      <td>Strap top</td>\n",
              "      <td>253</td>\n",
              "      <td>Vest top</td>\n",
              "      <td>Garment Upper body</td>\n",
              "      <td>1010016</td>\n",
              "      <td>Solid</td>\n",
              "      <td>9</td>\n",
              "      <td>Black</td>\n",
              "      <td>4</td>\n",
              "      <td>Dark</td>\n",
              "      <td>5</td>\n",
              "      <td>Black</td>\n",
              "      <td>1676</td>\n",
              "      <td>Jersey Basic</td>\n",
              "      <td>A</td>\n",
              "      <td>Ladieswear</td>\n",
              "      <td>1</td>\n",
              "      <td>Ladieswear</td>\n",
              "      <td>16</td>\n",
              "      <td>Womens Everyday Basics</td>\n",
              "      <td>1002</td>\n",
              "      <td>Jersey Basic</td>\n",
              "      <td>Jersey top with narrow shoulder straps.</td>\n",
              "    </tr>\n",
              "    <tr>\n",
              "      <th>1</th>\n",
              "      <td>108775044</td>\n",
              "      <td>108775</td>\n",
              "      <td>Strap top</td>\n",
              "      <td>253</td>\n",
              "      <td>Vest top</td>\n",
              "      <td>Garment Upper body</td>\n",
              "      <td>1010016</td>\n",
              "      <td>Solid</td>\n",
              "      <td>10</td>\n",
              "      <td>White</td>\n",
              "      <td>3</td>\n",
              "      <td>Light</td>\n",
              "      <td>9</td>\n",
              "      <td>White</td>\n",
              "      <td>1676</td>\n",
              "      <td>Jersey Basic</td>\n",
              "      <td>A</td>\n",
              "      <td>Ladieswear</td>\n",
              "      <td>1</td>\n",
              "      <td>Ladieswear</td>\n",
              "      <td>16</td>\n",
              "      <td>Womens Everyday Basics</td>\n",
              "      <td>1002</td>\n",
              "      <td>Jersey Basic</td>\n",
              "      <td>Jersey top with narrow shoulder straps.</td>\n",
              "    </tr>\n",
              "    <tr>\n",
              "      <th>2</th>\n",
              "      <td>108775051</td>\n",
              "      <td>108775</td>\n",
              "      <td>Strap top (1)</td>\n",
              "      <td>253</td>\n",
              "      <td>Vest top</td>\n",
              "      <td>Garment Upper body</td>\n",
              "      <td>1010017</td>\n",
              "      <td>Stripe</td>\n",
              "      <td>11</td>\n",
              "      <td>Off White</td>\n",
              "      <td>1</td>\n",
              "      <td>Dusty Light</td>\n",
              "      <td>9</td>\n",
              "      <td>White</td>\n",
              "      <td>1676</td>\n",
              "      <td>Jersey Basic</td>\n",
              "      <td>A</td>\n",
              "      <td>Ladieswear</td>\n",
              "      <td>1</td>\n",
              "      <td>Ladieswear</td>\n",
              "      <td>16</td>\n",
              "      <td>Womens Everyday Basics</td>\n",
              "      <td>1002</td>\n",
              "      <td>Jersey Basic</td>\n",
              "      <td>Jersey top with narrow shoulder straps.</td>\n",
              "    </tr>\n",
              "    <tr>\n",
              "      <th>3</th>\n",
              "      <td>110065001</td>\n",
              "      <td>110065</td>\n",
              "      <td>OP T-shirt (Idro)</td>\n",
              "      <td>306</td>\n",
              "      <td>Bra</td>\n",
              "      <td>Underwear</td>\n",
              "      <td>1010016</td>\n",
              "      <td>Solid</td>\n",
              "      <td>9</td>\n",
              "      <td>Black</td>\n",
              "      <td>4</td>\n",
              "      <td>Dark</td>\n",
              "      <td>5</td>\n",
              "      <td>Black</td>\n",
              "      <td>1339</td>\n",
              "      <td>Clean Lingerie</td>\n",
              "      <td>B</td>\n",
              "      <td>Lingeries/Tights</td>\n",
              "      <td>1</td>\n",
              "      <td>Ladieswear</td>\n",
              "      <td>61</td>\n",
              "      <td>Womens Lingerie</td>\n",
              "      <td>1017</td>\n",
              "      <td>Under-, Nightwear</td>\n",
              "      <td>Microfibre T-shirt bra with underwired, moulde...</td>\n",
              "    </tr>\n",
              "    <tr>\n",
              "      <th>4</th>\n",
              "      <td>110065002</td>\n",
              "      <td>110065</td>\n",
              "      <td>OP T-shirt (Idro)</td>\n",
              "      <td>306</td>\n",
              "      <td>Bra</td>\n",
              "      <td>Underwear</td>\n",
              "      <td>1010016</td>\n",
              "      <td>Solid</td>\n",
              "      <td>10</td>\n",
              "      <td>White</td>\n",
              "      <td>3</td>\n",
              "      <td>Light</td>\n",
              "      <td>9</td>\n",
              "      <td>White</td>\n",
              "      <td>1339</td>\n",
              "      <td>Clean Lingerie</td>\n",
              "      <td>B</td>\n",
              "      <td>Lingeries/Tights</td>\n",
              "      <td>1</td>\n",
              "      <td>Ladieswear</td>\n",
              "      <td>61</td>\n",
              "      <td>Womens Lingerie</td>\n",
              "      <td>1017</td>\n",
              "      <td>Under-, Nightwear</td>\n",
              "      <td>Microfibre T-shirt bra with underwired, moulde...</td>\n",
              "    </tr>\n",
              "  </tbody>\n",
              "</table>\n",
              "</div>\n",
              "      <button class=\"colab-df-convert\" onclick=\"convertToInteractive('df-a9133163-6f7c-4203-a6a2-29e031368729')\"\n",
              "              title=\"Convert this dataframe to an interactive table.\"\n",
              "              style=\"display:none;\">\n",
              "        \n",
              "  <svg xmlns=\"http://www.w3.org/2000/svg\" height=\"24px\"viewBox=\"0 0 24 24\"\n",
              "       width=\"24px\">\n",
              "    <path d=\"M0 0h24v24H0V0z\" fill=\"none\"/>\n",
              "    <path d=\"M18.56 5.44l.94 2.06.94-2.06 2.06-.94-2.06-.94-.94-2.06-.94 2.06-2.06.94zm-11 1L8.5 8.5l.94-2.06 2.06-.94-2.06-.94L8.5 2.5l-.94 2.06-2.06.94zm10 10l.94 2.06.94-2.06 2.06-.94-2.06-.94-.94-2.06-.94 2.06-2.06.94z\"/><path d=\"M17.41 7.96l-1.37-1.37c-.4-.4-.92-.59-1.43-.59-.52 0-1.04.2-1.43.59L10.3 9.45l-7.72 7.72c-.78.78-.78 2.05 0 2.83L4 21.41c.39.39.9.59 1.41.59.51 0 1.02-.2 1.41-.59l7.78-7.78 2.81-2.81c.8-.78.8-2.07 0-2.86zM5.41 20L4 18.59l7.72-7.72 1.47 1.35L5.41 20z\"/>\n",
              "  </svg>\n",
              "      </button>\n",
              "      \n",
              "  <style>\n",
              "    .colab-df-container {\n",
              "      display:flex;\n",
              "      flex-wrap:wrap;\n",
              "      gap: 12px;\n",
              "    }\n",
              "\n",
              "    .colab-df-convert {\n",
              "      background-color: #E8F0FE;\n",
              "      border: none;\n",
              "      border-radius: 50%;\n",
              "      cursor: pointer;\n",
              "      display: none;\n",
              "      fill: #1967D2;\n",
              "      height: 32px;\n",
              "      padding: 0 0 0 0;\n",
              "      width: 32px;\n",
              "    }\n",
              "\n",
              "    .colab-df-convert:hover {\n",
              "      background-color: #E2EBFA;\n",
              "      box-shadow: 0px 1px 2px rgba(60, 64, 67, 0.3), 0px 1px 3px 1px rgba(60, 64, 67, 0.15);\n",
              "      fill: #174EA6;\n",
              "    }\n",
              "\n",
              "    [theme=dark] .colab-df-convert {\n",
              "      background-color: #3B4455;\n",
              "      fill: #D2E3FC;\n",
              "    }\n",
              "\n",
              "    [theme=dark] .colab-df-convert:hover {\n",
              "      background-color: #434B5C;\n",
              "      box-shadow: 0px 1px 3px 1px rgba(0, 0, 0, 0.15);\n",
              "      filter: drop-shadow(0px 1px 2px rgba(0, 0, 0, 0.3));\n",
              "      fill: #FFFFFF;\n",
              "    }\n",
              "  </style>\n",
              "\n",
              "      <script>\n",
              "        const buttonEl =\n",
              "          document.querySelector('#df-a9133163-6f7c-4203-a6a2-29e031368729 button.colab-df-convert');\n",
              "        buttonEl.style.display =\n",
              "          google.colab.kernel.accessAllowed ? 'block' : 'none';\n",
              "\n",
              "        async function convertToInteractive(key) {\n",
              "          const element = document.querySelector('#df-a9133163-6f7c-4203-a6a2-29e031368729');\n",
              "          const dataTable =\n",
              "            await google.colab.kernel.invokeFunction('convertToInteractive',\n",
              "                                                     [key], {});\n",
              "          if (!dataTable) return;\n",
              "\n",
              "          const docLinkHtml = 'Like what you see? Visit the ' +\n",
              "            '<a target=\"_blank\" href=https://colab.research.google.com/notebooks/data_table.ipynb>data table notebook</a>'\n",
              "            + ' to learn more about interactive tables.';\n",
              "          element.innerHTML = '';\n",
              "          dataTable['output_type'] = 'display_data';\n",
              "          await google.colab.output.renderOutput(dataTable, element);\n",
              "          const docLink = document.createElement('div');\n",
              "          docLink.innerHTML = docLinkHtml;\n",
              "          element.appendChild(docLink);\n",
              "        }\n",
              "      </script>\n",
              "    </div>\n",
              "  </div>\n",
              "  "
            ],
            "text/plain": [
              "   article_id  product_code          prod_name  product_type_no  \\\n",
              "0   108775015        108775          Strap top              253   \n",
              "1   108775044        108775          Strap top              253   \n",
              "2   108775051        108775      Strap top (1)              253   \n",
              "3   110065001        110065  OP T-shirt (Idro)              306   \n",
              "4   110065002        110065  OP T-shirt (Idro)              306   \n",
              "\n",
              "  product_type_name  product_group_name  graphical_appearance_no  \\\n",
              "0          Vest top  Garment Upper body                  1010016   \n",
              "1          Vest top  Garment Upper body                  1010016   \n",
              "2          Vest top  Garment Upper body                  1010017   \n",
              "3               Bra           Underwear                  1010016   \n",
              "4               Bra           Underwear                  1010016   \n",
              "\n",
              "  graphical_appearance_name  colour_group_code colour_group_name  \\\n",
              "0                     Solid                  9             Black   \n",
              "1                     Solid                 10             White   \n",
              "2                    Stripe                 11         Off White   \n",
              "3                     Solid                  9             Black   \n",
              "4                     Solid                 10             White   \n",
              "\n",
              "   perceived_colour_value_id perceived_colour_value_name  \\\n",
              "0                          4                        Dark   \n",
              "1                          3                       Light   \n",
              "2                          1                 Dusty Light   \n",
              "3                          4                        Dark   \n",
              "4                          3                       Light   \n",
              "\n",
              "   perceived_colour_master_id perceived_colour_master_name  department_no  \\\n",
              "0                           5                        Black           1676   \n",
              "1                           9                        White           1676   \n",
              "2                           9                        White           1676   \n",
              "3                           5                        Black           1339   \n",
              "4                           9                        White           1339   \n",
              "\n",
              "  department_name index_code        index_name  index_group_no  \\\n",
              "0    Jersey Basic          A        Ladieswear               1   \n",
              "1    Jersey Basic          A        Ladieswear               1   \n",
              "2    Jersey Basic          A        Ladieswear               1   \n",
              "3  Clean Lingerie          B  Lingeries/Tights               1   \n",
              "4  Clean Lingerie          B  Lingeries/Tights               1   \n",
              "\n",
              "  index_group_name  section_no            section_name  garment_group_no  \\\n",
              "0       Ladieswear          16  Womens Everyday Basics              1002   \n",
              "1       Ladieswear          16  Womens Everyday Basics              1002   \n",
              "2       Ladieswear          16  Womens Everyday Basics              1002   \n",
              "3       Ladieswear          61         Womens Lingerie              1017   \n",
              "4       Ladieswear          61         Womens Lingerie              1017   \n",
              "\n",
              "  garment_group_name                                        detail_desc  \n",
              "0       Jersey Basic            Jersey top with narrow shoulder straps.  \n",
              "1       Jersey Basic            Jersey top with narrow shoulder straps.  \n",
              "2       Jersey Basic            Jersey top with narrow shoulder straps.  \n",
              "3  Under-, Nightwear  Microfibre T-shirt bra with underwired, moulde...  \n",
              "4  Under-, Nightwear  Microfibre T-shirt bra with underwired, moulde...  "
            ]
          },
          "metadata": {},
          "output_type": "display_data"
        }
      ],
      "source": [
        "with pd.option_context(\"display.max_columns\", None):\n",
        "    display(df_articles.head())"
      ]
    },
    {
      "cell_type": "code",
      "execution_count": null,
      "metadata": {
        "colab": {
          "base_uri": "https://localhost:8080/"
        },
        "id": "HuZNaxOa_IcU",
        "outputId": "582f115f-45c5-4b6b-963b-09314f90c0ae"
      },
      "outputs": [
        {
          "data": {
            "text/plain": [
              "article_id                                                    108775015\n",
              "product_code                                                     108775\n",
              "prod_name                                                     Strap top\n",
              "product_type_no                                                     253\n",
              "product_type_name                                              Vest top\n",
              "product_group_name                                   Garment Upper body\n",
              "graphical_appearance_no                                         1010016\n",
              "graphical_appearance_name                                         Solid\n",
              "colour_group_code                                                     9\n",
              "colour_group_name                                                 Black\n",
              "perceived_colour_value_id                                             4\n",
              "perceived_colour_value_name                                        Dark\n",
              "perceived_colour_master_id                                            5\n",
              "perceived_colour_master_name                                      Black\n",
              "department_no                                                      1676\n",
              "department_name                                            Jersey Basic\n",
              "index_code                                                            A\n",
              "index_name                                                   Ladieswear\n",
              "index_group_no                                                        1\n",
              "index_group_name                                             Ladieswear\n",
              "section_no                                                           16\n",
              "section_name                                     Womens Everyday Basics\n",
              "garment_group_no                                                   1002\n",
              "garment_group_name                                         Jersey Basic\n",
              "detail_desc                     Jersey top with narrow shoulder straps.\n",
              "Name: 0, dtype: object"
            ]
          },
          "execution_count": 5,
          "metadata": {},
          "output_type": "execute_result"
        }
      ],
      "source": [
        "# Pilih indeks pertama pada df_article\n",
        "df_articles.loc[0]"
      ]
    },
    {
      "cell_type": "code",
      "execution_count": null,
      "metadata": {
        "colab": {
          "base_uri": "https://localhost:8080/"
        },
        "id": "k-9sVGWbPIiu",
        "outputId": "82b1540e-84a1-4ce5-d9c8-34d81804b79f"
      },
      "outputs": [
        {
          "name": "stdout",
          "output_type": "stream",
          "text": [
            "<class 'pandas.core.frame.DataFrame'>\n",
            "RangeIndex: 105542 entries, 0 to 105541\n",
            "Data columns (total 25 columns):\n",
            " #   Column                        Non-Null Count   Dtype \n",
            "---  ------                        --------------   ----- \n",
            " 0   article_id                    105542 non-null  int64 \n",
            " 1   product_code                  105542 non-null  int64 \n",
            " 2   prod_name                     105542 non-null  object\n",
            " 3   product_type_no               105542 non-null  int64 \n",
            " 4   product_type_name             105542 non-null  object\n",
            " 5   product_group_name            105542 non-null  object\n",
            " 6   graphical_appearance_no       105542 non-null  int64 \n",
            " 7   graphical_appearance_name     105542 non-null  object\n",
            " 8   colour_group_code             105542 non-null  int64 \n",
            " 9   colour_group_name             105542 non-null  object\n",
            " 10  perceived_colour_value_id     105542 non-null  int64 \n",
            " 11  perceived_colour_value_name   105542 non-null  object\n",
            " 12  perceived_colour_master_id    105542 non-null  int64 \n",
            " 13  perceived_colour_master_name  105542 non-null  object\n",
            " 14  department_no                 105542 non-null  int64 \n",
            " 15  department_name               105542 non-null  object\n",
            " 16  index_code                    105542 non-null  object\n",
            " 17  index_name                    105542 non-null  object\n",
            " 18  index_group_no                105542 non-null  int64 \n",
            " 19  index_group_name              105542 non-null  object\n",
            " 20  section_no                    105542 non-null  int64 \n",
            " 21  section_name                  105542 non-null  object\n",
            " 22  garment_group_no              105542 non-null  int64 \n",
            " 23  garment_group_name            105542 non-null  object\n",
            " 24  detail_desc                   105126 non-null  object\n",
            "dtypes: int64(11), object(14)\n",
            "memory usage: 20.1+ MB\n"
          ]
        }
      ],
      "source": [
        "df_articles.info()"
      ]
    },
    {
      "cell_type": "markdown",
      "metadata": {
        "id": "5-RYNLugJ2i2"
      },
      "source": [
        "> **Insights:**\n",
        "\n",
        "Untuk missing values, terlihat bahwa hanya terdapat 1 fitur saja (`detail_desc`) yang memiliki _missing values_ (105126 dari 105542)"
      ]
    },
    {
      "cell_type": "markdown",
      "metadata": {
        "id": "0Jj-heyq-xS-"
      },
      "source": [
        "### 1.2 Customer"
      ]
    },
    {
      "cell_type": "code",
      "execution_count": null,
      "metadata": {
        "colab": {
          "base_uri": "https://localhost:8080/",
          "height": 226
        },
        "id": "6-KsjvpP_FXV",
        "outputId": "0525c463-9c99-4e76-8958-473f80f2e716"
      },
      "outputs": [
        {
          "output_type": "execute_result",
          "data": {
            "text/plain": [
              "                                         customer_id   FN  Active  \\\n",
              "0  00000dbacae5abe5e23885899a1fa44253a17956c6d1c3...  NaN     NaN   \n",
              "1  0000423b00ade91418cceaf3b26c6af3dd342b51fd051e...  NaN     NaN   \n",
              "2  000058a12d5b43e67d225668fa1f8d618c13dc232df0ca...  NaN     NaN   \n",
              "3  00005ca1c9ed5f5146b52ac8639a40ca9d57aeff4d1bd2...  NaN     NaN   \n",
              "4  00006413d8573cd20ed7128e53b7b13819fe5cfc2d801f...  1.0     1.0   \n",
              "\n",
              "  club_member_status fashion_news_frequency   age  \\\n",
              "0             ACTIVE                   NONE  49.0   \n",
              "1             ACTIVE                   NONE  25.0   \n",
              "2             ACTIVE                   NONE  24.0   \n",
              "3             ACTIVE                   NONE  54.0   \n",
              "4             ACTIVE              Regularly  52.0   \n",
              "\n",
              "                                         postal_code  \n",
              "0  52043ee2162cf5aa7ee79974281641c6f11a68d276429a...  \n",
              "1  2973abc54daa8a5f8ccfe9362140c63247c5eee03f1d93...  \n",
              "2  64f17e6a330a85798e4998f62d0930d14db8db1c054af6...  \n",
              "3  5d36574f52495e81f019b680c843c443bd343d5ca5b1c2...  \n",
              "4  25fa5ddee9aac01b35208d01736e57942317d756b32ddd...  "
            ],
            "text/html": [
              "\n",
              "  <div id=\"df-3c1bac7d-db08-41e8-b4f9-0e91d1442c09\" class=\"colab-df-container\">\n",
              "    <div>\n",
              "<style scoped>\n",
              "    .dataframe tbody tr th:only-of-type {\n",
              "        vertical-align: middle;\n",
              "    }\n",
              "\n",
              "    .dataframe tbody tr th {\n",
              "        vertical-align: top;\n",
              "    }\n",
              "\n",
              "    .dataframe thead th {\n",
              "        text-align: right;\n",
              "    }\n",
              "</style>\n",
              "<table border=\"1\" class=\"dataframe\">\n",
              "  <thead>\n",
              "    <tr style=\"text-align: right;\">\n",
              "      <th></th>\n",
              "      <th>customer_id</th>\n",
              "      <th>FN</th>\n",
              "      <th>Active</th>\n",
              "      <th>club_member_status</th>\n",
              "      <th>fashion_news_frequency</th>\n",
              "      <th>age</th>\n",
              "      <th>postal_code</th>\n",
              "    </tr>\n",
              "  </thead>\n",
              "  <tbody>\n",
              "    <tr>\n",
              "      <th>0</th>\n",
              "      <td>00000dbacae5abe5e23885899a1fa44253a17956c6d1c3...</td>\n",
              "      <td>NaN</td>\n",
              "      <td>NaN</td>\n",
              "      <td>ACTIVE</td>\n",
              "      <td>NONE</td>\n",
              "      <td>49.0</td>\n",
              "      <td>52043ee2162cf5aa7ee79974281641c6f11a68d276429a...</td>\n",
              "    </tr>\n",
              "    <tr>\n",
              "      <th>1</th>\n",
              "      <td>0000423b00ade91418cceaf3b26c6af3dd342b51fd051e...</td>\n",
              "      <td>NaN</td>\n",
              "      <td>NaN</td>\n",
              "      <td>ACTIVE</td>\n",
              "      <td>NONE</td>\n",
              "      <td>25.0</td>\n",
              "      <td>2973abc54daa8a5f8ccfe9362140c63247c5eee03f1d93...</td>\n",
              "    </tr>\n",
              "    <tr>\n",
              "      <th>2</th>\n",
              "      <td>000058a12d5b43e67d225668fa1f8d618c13dc232df0ca...</td>\n",
              "      <td>NaN</td>\n",
              "      <td>NaN</td>\n",
              "      <td>ACTIVE</td>\n",
              "      <td>NONE</td>\n",
              "      <td>24.0</td>\n",
              "      <td>64f17e6a330a85798e4998f62d0930d14db8db1c054af6...</td>\n",
              "    </tr>\n",
              "    <tr>\n",
              "      <th>3</th>\n",
              "      <td>00005ca1c9ed5f5146b52ac8639a40ca9d57aeff4d1bd2...</td>\n",
              "      <td>NaN</td>\n",
              "      <td>NaN</td>\n",
              "      <td>ACTIVE</td>\n",
              "      <td>NONE</td>\n",
              "      <td>54.0</td>\n",
              "      <td>5d36574f52495e81f019b680c843c443bd343d5ca5b1c2...</td>\n",
              "    </tr>\n",
              "    <tr>\n",
              "      <th>4</th>\n",
              "      <td>00006413d8573cd20ed7128e53b7b13819fe5cfc2d801f...</td>\n",
              "      <td>1.0</td>\n",
              "      <td>1.0</td>\n",
              "      <td>ACTIVE</td>\n",
              "      <td>Regularly</td>\n",
              "      <td>52.0</td>\n",
              "      <td>25fa5ddee9aac01b35208d01736e57942317d756b32ddd...</td>\n",
              "    </tr>\n",
              "  </tbody>\n",
              "</table>\n",
              "</div>\n",
              "    <div class=\"colab-df-buttons\">\n",
              "\n",
              "  <div class=\"colab-df-container\">\n",
              "    <button class=\"colab-df-convert\" onclick=\"convertToInteractive('df-3c1bac7d-db08-41e8-b4f9-0e91d1442c09')\"\n",
              "            title=\"Convert this dataframe to an interactive table.\"\n",
              "            style=\"display:none;\">\n",
              "\n",
              "  <svg xmlns=\"http://www.w3.org/2000/svg\" height=\"24px\" viewBox=\"0 -960 960 960\">\n",
              "    <path d=\"M120-120v-720h720v720H120Zm60-500h600v-160H180v160Zm220 220h160v-160H400v160Zm0 220h160v-160H400v160ZM180-400h160v-160H180v160Zm440 0h160v-160H620v160ZM180-180h160v-160H180v160Zm440 0h160v-160H620v160Z\"/>\n",
              "  </svg>\n",
              "    </button>\n",
              "\n",
              "  <style>\n",
              "    .colab-df-container {\n",
              "      display:flex;\n",
              "      gap: 12px;\n",
              "    }\n",
              "\n",
              "    .colab-df-convert {\n",
              "      background-color: #E8F0FE;\n",
              "      border: none;\n",
              "      border-radius: 50%;\n",
              "      cursor: pointer;\n",
              "      display: none;\n",
              "      fill: #1967D2;\n",
              "      height: 32px;\n",
              "      padding: 0 0 0 0;\n",
              "      width: 32px;\n",
              "    }\n",
              "\n",
              "    .colab-df-convert:hover {\n",
              "      background-color: #E2EBFA;\n",
              "      box-shadow: 0px 1px 2px rgba(60, 64, 67, 0.3), 0px 1px 3px 1px rgba(60, 64, 67, 0.15);\n",
              "      fill: #174EA6;\n",
              "    }\n",
              "\n",
              "    .colab-df-buttons div {\n",
              "      margin-bottom: 4px;\n",
              "    }\n",
              "\n",
              "    [theme=dark] .colab-df-convert {\n",
              "      background-color: #3B4455;\n",
              "      fill: #D2E3FC;\n",
              "    }\n",
              "\n",
              "    [theme=dark] .colab-df-convert:hover {\n",
              "      background-color: #434B5C;\n",
              "      box-shadow: 0px 1px 3px 1px rgba(0, 0, 0, 0.15);\n",
              "      filter: drop-shadow(0px 1px 2px rgba(0, 0, 0, 0.3));\n",
              "      fill: #FFFFFF;\n",
              "    }\n",
              "  </style>\n",
              "\n",
              "    <script>\n",
              "      const buttonEl =\n",
              "        document.querySelector('#df-3c1bac7d-db08-41e8-b4f9-0e91d1442c09 button.colab-df-convert');\n",
              "      buttonEl.style.display =\n",
              "        google.colab.kernel.accessAllowed ? 'block' : 'none';\n",
              "\n",
              "      async function convertToInteractive(key) {\n",
              "        const element = document.querySelector('#df-3c1bac7d-db08-41e8-b4f9-0e91d1442c09');\n",
              "        const dataTable =\n",
              "          await google.colab.kernel.invokeFunction('convertToInteractive',\n",
              "                                                    [key], {});\n",
              "        if (!dataTable) return;\n",
              "\n",
              "        const docLinkHtml = 'Like what you see? Visit the ' +\n",
              "          '<a target=\"_blank\" href=https://colab.research.google.com/notebooks/data_table.ipynb>data table notebook</a>'\n",
              "          + ' to learn more about interactive tables.';\n",
              "        element.innerHTML = '';\n",
              "        dataTable['output_type'] = 'display_data';\n",
              "        await google.colab.output.renderOutput(dataTable, element);\n",
              "        const docLink = document.createElement('div');\n",
              "        docLink.innerHTML = docLinkHtml;\n",
              "        element.appendChild(docLink);\n",
              "      }\n",
              "    </script>\n",
              "  </div>\n",
              "\n",
              "\n",
              "<div id=\"df-2b58f2cb-31df-4a7c-8567-fbc6aa7d2229\">\n",
              "  <button class=\"colab-df-quickchart\" onclick=\"quickchart('df-2b58f2cb-31df-4a7c-8567-fbc6aa7d2229')\"\n",
              "            title=\"Suggest charts.\"\n",
              "            style=\"display:none;\">\n",
              "\n",
              "<svg xmlns=\"http://www.w3.org/2000/svg\" height=\"24px\"viewBox=\"0 0 24 24\"\n",
              "     width=\"24px\">\n",
              "    <g>\n",
              "        <path d=\"M19 3H5c-1.1 0-2 .9-2 2v14c0 1.1.9 2 2 2h14c1.1 0 2-.9 2-2V5c0-1.1-.9-2-2-2zM9 17H7v-7h2v7zm4 0h-2V7h2v10zm4 0h-2v-4h2v4z\"/>\n",
              "    </g>\n",
              "</svg>\n",
              "  </button>\n",
              "\n",
              "<style>\n",
              "  .colab-df-quickchart {\n",
              "      --bg-color: #E8F0FE;\n",
              "      --fill-color: #1967D2;\n",
              "      --hover-bg-color: #E2EBFA;\n",
              "      --hover-fill-color: #174EA6;\n",
              "      --disabled-fill-color: #AAA;\n",
              "      --disabled-bg-color: #DDD;\n",
              "  }\n",
              "\n",
              "  [theme=dark] .colab-df-quickchart {\n",
              "      --bg-color: #3B4455;\n",
              "      --fill-color: #D2E3FC;\n",
              "      --hover-bg-color: #434B5C;\n",
              "      --hover-fill-color: #FFFFFF;\n",
              "      --disabled-bg-color: #3B4455;\n",
              "      --disabled-fill-color: #666;\n",
              "  }\n",
              "\n",
              "  .colab-df-quickchart {\n",
              "    background-color: var(--bg-color);\n",
              "    border: none;\n",
              "    border-radius: 50%;\n",
              "    cursor: pointer;\n",
              "    display: none;\n",
              "    fill: var(--fill-color);\n",
              "    height: 32px;\n",
              "    padding: 0;\n",
              "    width: 32px;\n",
              "  }\n",
              "\n",
              "  .colab-df-quickchart:hover {\n",
              "    background-color: var(--hover-bg-color);\n",
              "    box-shadow: 0 1px 2px rgba(60, 64, 67, 0.3), 0 1px 3px 1px rgba(60, 64, 67, 0.15);\n",
              "    fill: var(--button-hover-fill-color);\n",
              "  }\n",
              "\n",
              "  .colab-df-quickchart-complete:disabled,\n",
              "  .colab-df-quickchart-complete:disabled:hover {\n",
              "    background-color: var(--disabled-bg-color);\n",
              "    fill: var(--disabled-fill-color);\n",
              "    box-shadow: none;\n",
              "  }\n",
              "\n",
              "  .colab-df-spinner {\n",
              "    border: 2px solid var(--fill-color);\n",
              "    border-color: transparent;\n",
              "    border-bottom-color: var(--fill-color);\n",
              "    animation:\n",
              "      spin 1s steps(1) infinite;\n",
              "  }\n",
              "\n",
              "  @keyframes spin {\n",
              "    0% {\n",
              "      border-color: transparent;\n",
              "      border-bottom-color: var(--fill-color);\n",
              "      border-left-color: var(--fill-color);\n",
              "    }\n",
              "    20% {\n",
              "      border-color: transparent;\n",
              "      border-left-color: var(--fill-color);\n",
              "      border-top-color: var(--fill-color);\n",
              "    }\n",
              "    30% {\n",
              "      border-color: transparent;\n",
              "      border-left-color: var(--fill-color);\n",
              "      border-top-color: var(--fill-color);\n",
              "      border-right-color: var(--fill-color);\n",
              "    }\n",
              "    40% {\n",
              "      border-color: transparent;\n",
              "      border-right-color: var(--fill-color);\n",
              "      border-top-color: var(--fill-color);\n",
              "    }\n",
              "    60% {\n",
              "      border-color: transparent;\n",
              "      border-right-color: var(--fill-color);\n",
              "    }\n",
              "    80% {\n",
              "      border-color: transparent;\n",
              "      border-right-color: var(--fill-color);\n",
              "      border-bottom-color: var(--fill-color);\n",
              "    }\n",
              "    90% {\n",
              "      border-color: transparent;\n",
              "      border-bottom-color: var(--fill-color);\n",
              "    }\n",
              "  }\n",
              "</style>\n",
              "\n",
              "  <script>\n",
              "    async function quickchart(key) {\n",
              "      const quickchartButtonEl =\n",
              "        document.querySelector('#' + key + ' button');\n",
              "      quickchartButtonEl.disabled = true;  // To prevent multiple clicks.\n",
              "      quickchartButtonEl.classList.add('colab-df-spinner');\n",
              "      try {\n",
              "        const charts = await google.colab.kernel.invokeFunction(\n",
              "            'suggestCharts', [key], {});\n",
              "      } catch (error) {\n",
              "        console.error('Error during call to suggestCharts:', error);\n",
              "      }\n",
              "      quickchartButtonEl.classList.remove('colab-df-spinner');\n",
              "      quickchartButtonEl.classList.add('colab-df-quickchart-complete');\n",
              "    }\n",
              "    (() => {\n",
              "      let quickchartButtonEl =\n",
              "        document.querySelector('#df-2b58f2cb-31df-4a7c-8567-fbc6aa7d2229 button');\n",
              "      quickchartButtonEl.style.display =\n",
              "        google.colab.kernel.accessAllowed ? 'block' : 'none';\n",
              "    })();\n",
              "  </script>\n",
              "</div>\n",
              "    </div>\n",
              "  </div>\n"
            ]
          },
          "metadata": {},
          "execution_count": 5
        }
      ],
      "source": [
        "df_customers.head()"
      ]
    },
    {
      "cell_type": "code",
      "execution_count": null,
      "metadata": {
        "colab": {
          "base_uri": "https://localhost:8080/",
          "height": 270
        },
        "id": "tP_m9eg4__zF",
        "outputId": "d636ea5f-aad0-45da-875f-9390a9a8a9d4"
      },
      "outputs": [
        {
          "data": {
            "text/html": [
              "\n",
              "  <div id=\"df-dafbbcb0-361e-4a64-b024-e16796bfe62c\">\n",
              "    <div class=\"colab-df-container\">\n",
              "      <div>\n",
              "<style scoped>\n",
              "    .dataframe tbody tr th:only-of-type {\n",
              "        vertical-align: middle;\n",
              "    }\n",
              "\n",
              "    .dataframe tbody tr th {\n",
              "        vertical-align: top;\n",
              "    }\n",
              "\n",
              "    .dataframe thead th {\n",
              "        text-align: right;\n",
              "    }\n",
              "</style>\n",
              "<table border=\"1\" class=\"dataframe\">\n",
              "  <thead>\n",
              "    <tr style=\"text-align: right;\">\n",
              "      <th></th>\n",
              "      <th>customer_id</th>\n",
              "      <th>FN</th>\n",
              "      <th>Active</th>\n",
              "      <th>club_member_status</th>\n",
              "      <th>fashion_news_frequency</th>\n",
              "      <th>age</th>\n",
              "      <th>postal_code</th>\n",
              "    </tr>\n",
              "  </thead>\n",
              "  <tbody>\n",
              "    <tr>\n",
              "      <th>1371975</th>\n",
              "      <td>ffffbbf78b6eaac697a8a5dfbfd2bfa8113ee5b403e474...</td>\n",
              "      <td>NaN</td>\n",
              "      <td>NaN</td>\n",
              "      <td>ACTIVE</td>\n",
              "      <td>NONE</td>\n",
              "      <td>24.0</td>\n",
              "      <td>7aa399f7e669990daba2d92c577b52237380662f36480b...</td>\n",
              "    </tr>\n",
              "    <tr>\n",
              "      <th>1371976</th>\n",
              "      <td>ffffcd5046a6143d29a04fb8c424ce494a76e5cdf4fab5...</td>\n",
              "      <td>NaN</td>\n",
              "      <td>NaN</td>\n",
              "      <td>ACTIVE</td>\n",
              "      <td>NONE</td>\n",
              "      <td>21.0</td>\n",
              "      <td>3f47f1279beb72215f4de557d950e0bfa73789d24acb5e...</td>\n",
              "    </tr>\n",
              "    <tr>\n",
              "      <th>1371977</th>\n",
              "      <td>ffffcf35913a0bee60e8741cb2b4e78b8a98ee5ff2e6a1...</td>\n",
              "      <td>1.0</td>\n",
              "      <td>1.0</td>\n",
              "      <td>ACTIVE</td>\n",
              "      <td>Regularly</td>\n",
              "      <td>21.0</td>\n",
              "      <td>4563fc79215672cd6a863f2b4bf56b8f898f2d96ed590e...</td>\n",
              "    </tr>\n",
              "    <tr>\n",
              "      <th>1371978</th>\n",
              "      <td>ffffd7744cebcf3aca44ae7049d2a94b87074c3d4ffe38...</td>\n",
              "      <td>1.0</td>\n",
              "      <td>1.0</td>\n",
              "      <td>ACTIVE</td>\n",
              "      <td>Regularly</td>\n",
              "      <td>18.0</td>\n",
              "      <td>8892c18e9bc3dca6aa4000cb8094fc4b51ee8db2ed14d7...</td>\n",
              "    </tr>\n",
              "    <tr>\n",
              "      <th>1371979</th>\n",
              "      <td>ffffd9ac14e89946416d80e791d064701994755c3ab686...</td>\n",
              "      <td>NaN</td>\n",
              "      <td>NaN</td>\n",
              "      <td>PRE-CREATE</td>\n",
              "      <td>NONE</td>\n",
              "      <td>65.0</td>\n",
              "      <td>0a1a03306fb2f62164c2a439b38c0caa64b40deaae8687...</td>\n",
              "    </tr>\n",
              "  </tbody>\n",
              "</table>\n",
              "</div>\n",
              "      <button class=\"colab-df-convert\" onclick=\"convertToInteractive('df-dafbbcb0-361e-4a64-b024-e16796bfe62c')\"\n",
              "              title=\"Convert this dataframe to an interactive table.\"\n",
              "              style=\"display:none;\">\n",
              "        \n",
              "  <svg xmlns=\"http://www.w3.org/2000/svg\" height=\"24px\"viewBox=\"0 0 24 24\"\n",
              "       width=\"24px\">\n",
              "    <path d=\"M0 0h24v24H0V0z\" fill=\"none\"/>\n",
              "    <path d=\"M18.56 5.44l.94 2.06.94-2.06 2.06-.94-2.06-.94-.94-2.06-.94 2.06-2.06.94zm-11 1L8.5 8.5l.94-2.06 2.06-.94-2.06-.94L8.5 2.5l-.94 2.06-2.06.94zm10 10l.94 2.06.94-2.06 2.06-.94-2.06-.94-.94-2.06-.94 2.06-2.06.94z\"/><path d=\"M17.41 7.96l-1.37-1.37c-.4-.4-.92-.59-1.43-.59-.52 0-1.04.2-1.43.59L10.3 9.45l-7.72 7.72c-.78.78-.78 2.05 0 2.83L4 21.41c.39.39.9.59 1.41.59.51 0 1.02-.2 1.41-.59l7.78-7.78 2.81-2.81c.8-.78.8-2.07 0-2.86zM5.41 20L4 18.59l7.72-7.72 1.47 1.35L5.41 20z\"/>\n",
              "  </svg>\n",
              "      </button>\n",
              "      \n",
              "  <style>\n",
              "    .colab-df-container {\n",
              "      display:flex;\n",
              "      flex-wrap:wrap;\n",
              "      gap: 12px;\n",
              "    }\n",
              "\n",
              "    .colab-df-convert {\n",
              "      background-color: #E8F0FE;\n",
              "      border: none;\n",
              "      border-radius: 50%;\n",
              "      cursor: pointer;\n",
              "      display: none;\n",
              "      fill: #1967D2;\n",
              "      height: 32px;\n",
              "      padding: 0 0 0 0;\n",
              "      width: 32px;\n",
              "    }\n",
              "\n",
              "    .colab-df-convert:hover {\n",
              "      background-color: #E2EBFA;\n",
              "      box-shadow: 0px 1px 2px rgba(60, 64, 67, 0.3), 0px 1px 3px 1px rgba(60, 64, 67, 0.15);\n",
              "      fill: #174EA6;\n",
              "    }\n",
              "\n",
              "    [theme=dark] .colab-df-convert {\n",
              "      background-color: #3B4455;\n",
              "      fill: #D2E3FC;\n",
              "    }\n",
              "\n",
              "    [theme=dark] .colab-df-convert:hover {\n",
              "      background-color: #434B5C;\n",
              "      box-shadow: 0px 1px 3px 1px rgba(0, 0, 0, 0.15);\n",
              "      filter: drop-shadow(0px 1px 2px rgba(0, 0, 0, 0.3));\n",
              "      fill: #FFFFFF;\n",
              "    }\n",
              "  </style>\n",
              "\n",
              "      <script>\n",
              "        const buttonEl =\n",
              "          document.querySelector('#df-dafbbcb0-361e-4a64-b024-e16796bfe62c button.colab-df-convert');\n",
              "        buttonEl.style.display =\n",
              "          google.colab.kernel.accessAllowed ? 'block' : 'none';\n",
              "\n",
              "        async function convertToInteractive(key) {\n",
              "          const element = document.querySelector('#df-dafbbcb0-361e-4a64-b024-e16796bfe62c');\n",
              "          const dataTable =\n",
              "            await google.colab.kernel.invokeFunction('convertToInteractive',\n",
              "                                                     [key], {});\n",
              "          if (!dataTable) return;\n",
              "\n",
              "          const docLinkHtml = 'Like what you see? Visit the ' +\n",
              "            '<a target=\"_blank\" href=https://colab.research.google.com/notebooks/data_table.ipynb>data table notebook</a>'\n",
              "            + ' to learn more about interactive tables.';\n",
              "          element.innerHTML = '';\n",
              "          dataTable['output_type'] = 'display_data';\n",
              "          await google.colab.output.renderOutput(dataTable, element);\n",
              "          const docLink = document.createElement('div');\n",
              "          docLink.innerHTML = docLinkHtml;\n",
              "          element.appendChild(docLink);\n",
              "        }\n",
              "      </script>\n",
              "    </div>\n",
              "  </div>\n",
              "  "
            ],
            "text/plain": [
              "                                               customer_id   FN  Active  \\\n",
              "1371975  ffffbbf78b6eaac697a8a5dfbfd2bfa8113ee5b403e474...  NaN     NaN   \n",
              "1371976  ffffcd5046a6143d29a04fb8c424ce494a76e5cdf4fab5...  NaN     NaN   \n",
              "1371977  ffffcf35913a0bee60e8741cb2b4e78b8a98ee5ff2e6a1...  1.0     1.0   \n",
              "1371978  ffffd7744cebcf3aca44ae7049d2a94b87074c3d4ffe38...  1.0     1.0   \n",
              "1371979  ffffd9ac14e89946416d80e791d064701994755c3ab686...  NaN     NaN   \n",
              "\n",
              "        club_member_status fashion_news_frequency   age  \\\n",
              "1371975             ACTIVE                   NONE  24.0   \n",
              "1371976             ACTIVE                   NONE  21.0   \n",
              "1371977             ACTIVE              Regularly  21.0   \n",
              "1371978             ACTIVE              Regularly  18.0   \n",
              "1371979         PRE-CREATE                   NONE  65.0   \n",
              "\n",
              "                                               postal_code  \n",
              "1371975  7aa399f7e669990daba2d92c577b52237380662f36480b...  \n",
              "1371976  3f47f1279beb72215f4de557d950e0bfa73789d24acb5e...  \n",
              "1371977  4563fc79215672cd6a863f2b4bf56b8f898f2d96ed590e...  \n",
              "1371978  8892c18e9bc3dca6aa4000cb8094fc4b51ee8db2ed14d7...  \n",
              "1371979  0a1a03306fb2f62164c2a439b38c0caa64b40deaae8687...  "
            ]
          },
          "execution_count": 8,
          "metadata": {},
          "output_type": "execute_result"
        }
      ],
      "source": [
        "df_customers.tail()"
      ]
    },
    {
      "cell_type": "code",
      "execution_count": null,
      "metadata": {
        "colab": {
          "base_uri": "https://localhost:8080/"
        },
        "id": "ikb1ZiER2kZz",
        "outputId": "46958406-23e7-4e5d-95d6-b4f6e2b69d32"
      },
      "outputs": [
        {
          "name": "stdout",
          "output_type": "stream",
          "text": [
            "<class 'pandas.core.frame.DataFrame'>\n",
            "RangeIndex: 1371980 entries, 0 to 1371979\n",
            "Data columns (total 7 columns):\n",
            " #   Column                  Non-Null Count    Dtype  \n",
            "---  ------                  --------------    -----  \n",
            " 0   customer_id             1371980 non-null  object \n",
            " 1   FN                      476930 non-null   float64\n",
            " 2   Active                  464404 non-null   float64\n",
            " 3   club_member_status      1365918 non-null  object \n",
            " 4   fashion_news_frequency  1355971 non-null  object \n",
            " 5   age                     1356119 non-null  float64\n",
            " 6   postal_code             1371980 non-null  object \n",
            "dtypes: float64(3), object(4)\n",
            "memory usage: 73.3+ MB\n"
          ]
        }
      ],
      "source": [
        "df_customers.info()"
      ]
    },
    {
      "cell_type": "markdown",
      "metadata": {
        "id": "oFu6cBlMKD29"
      },
      "source": [
        "> **Insights:**\n",
        "\n",
        "* Dari informasi di atas, terlihat bahwa hampir semua fitur yang ada pada `df_customers` memiliki _missing values_.\n",
        "\n",
        "* Fitur yang paling banyak memiliki _missing values_ adalah `Active`, sedangkan fitur yang tidak memiliki _missing values_ adalah `customer_id` dan `postal_code`."
      ]
    },
    {
      "cell_type": "markdown",
      "metadata": {
        "id": "WS7_GW14DXBF"
      },
      "source": [
        "### 1.3 Transactions"
      ]
    },
    {
      "cell_type": "code",
      "execution_count": null,
      "metadata": {
        "colab": {
          "base_uri": "https://localhost:8080/",
          "height": 206
        },
        "id": "mkIlclao-0A8",
        "outputId": "bb583be6-1065-4301-b83d-0a3fbc41b58e"
      },
      "outputs": [
        {
          "data": {
            "text/html": [
              "\n",
              "  <div id=\"df-533e2132-7fa5-49ba-bcfe-98ffb0a1c13e\">\n",
              "    <div class=\"colab-df-container\">\n",
              "      <div>\n",
              "<style scoped>\n",
              "    .dataframe tbody tr th:only-of-type {\n",
              "        vertical-align: middle;\n",
              "    }\n",
              "\n",
              "    .dataframe tbody tr th {\n",
              "        vertical-align: top;\n",
              "    }\n",
              "\n",
              "    .dataframe thead th {\n",
              "        text-align: right;\n",
              "    }\n",
              "</style>\n",
              "<table border=\"1\" class=\"dataframe\">\n",
              "  <thead>\n",
              "    <tr style=\"text-align: right;\">\n",
              "      <th></th>\n",
              "      <th>t_dat</th>\n",
              "      <th>customer_id</th>\n",
              "      <th>article_id</th>\n",
              "      <th>price</th>\n",
              "      <th>sales_channel_id</th>\n",
              "    </tr>\n",
              "  </thead>\n",
              "  <tbody>\n",
              "    <tr>\n",
              "      <th>0</th>\n",
              "      <td>2018-09-20</td>\n",
              "      <td>000058a12d5b43e67d225668fa1f8d618c13dc232df0ca...</td>\n",
              "      <td>663713001</td>\n",
              "      <td>0.050831</td>\n",
              "      <td>2</td>\n",
              "    </tr>\n",
              "    <tr>\n",
              "      <th>1</th>\n",
              "      <td>2018-09-20</td>\n",
              "      <td>000058a12d5b43e67d225668fa1f8d618c13dc232df0ca...</td>\n",
              "      <td>541518023</td>\n",
              "      <td>0.030492</td>\n",
              "      <td>2</td>\n",
              "    </tr>\n",
              "    <tr>\n",
              "      <th>2</th>\n",
              "      <td>2018-09-20</td>\n",
              "      <td>00007d2de826758b65a93dd24ce629ed66842531df6699...</td>\n",
              "      <td>505221004</td>\n",
              "      <td>0.015237</td>\n",
              "      <td>2</td>\n",
              "    </tr>\n",
              "    <tr>\n",
              "      <th>3</th>\n",
              "      <td>2018-09-20</td>\n",
              "      <td>00007d2de826758b65a93dd24ce629ed66842531df6699...</td>\n",
              "      <td>685687003</td>\n",
              "      <td>0.016932</td>\n",
              "      <td>2</td>\n",
              "    </tr>\n",
              "    <tr>\n",
              "      <th>4</th>\n",
              "      <td>2018-09-20</td>\n",
              "      <td>00007d2de826758b65a93dd24ce629ed66842531df6699...</td>\n",
              "      <td>685687004</td>\n",
              "      <td>0.016932</td>\n",
              "      <td>2</td>\n",
              "    </tr>\n",
              "  </tbody>\n",
              "</table>\n",
              "</div>\n",
              "      <button class=\"colab-df-convert\" onclick=\"convertToInteractive('df-533e2132-7fa5-49ba-bcfe-98ffb0a1c13e')\"\n",
              "              title=\"Convert this dataframe to an interactive table.\"\n",
              "              style=\"display:none;\">\n",
              "        \n",
              "  <svg xmlns=\"http://www.w3.org/2000/svg\" height=\"24px\"viewBox=\"0 0 24 24\"\n",
              "       width=\"24px\">\n",
              "    <path d=\"M0 0h24v24H0V0z\" fill=\"none\"/>\n",
              "    <path d=\"M18.56 5.44l.94 2.06.94-2.06 2.06-.94-2.06-.94-.94-2.06-.94 2.06-2.06.94zm-11 1L8.5 8.5l.94-2.06 2.06-.94-2.06-.94L8.5 2.5l-.94 2.06-2.06.94zm10 10l.94 2.06.94-2.06 2.06-.94-2.06-.94-.94-2.06-.94 2.06-2.06.94z\"/><path d=\"M17.41 7.96l-1.37-1.37c-.4-.4-.92-.59-1.43-.59-.52 0-1.04.2-1.43.59L10.3 9.45l-7.72 7.72c-.78.78-.78 2.05 0 2.83L4 21.41c.39.39.9.59 1.41.59.51 0 1.02-.2 1.41-.59l7.78-7.78 2.81-2.81c.8-.78.8-2.07 0-2.86zM5.41 20L4 18.59l7.72-7.72 1.47 1.35L5.41 20z\"/>\n",
              "  </svg>\n",
              "      </button>\n",
              "      \n",
              "  <style>\n",
              "    .colab-df-container {\n",
              "      display:flex;\n",
              "      flex-wrap:wrap;\n",
              "      gap: 12px;\n",
              "    }\n",
              "\n",
              "    .colab-df-convert {\n",
              "      background-color: #E8F0FE;\n",
              "      border: none;\n",
              "      border-radius: 50%;\n",
              "      cursor: pointer;\n",
              "      display: none;\n",
              "      fill: #1967D2;\n",
              "      height: 32px;\n",
              "      padding: 0 0 0 0;\n",
              "      width: 32px;\n",
              "    }\n",
              "\n",
              "    .colab-df-convert:hover {\n",
              "      background-color: #E2EBFA;\n",
              "      box-shadow: 0px 1px 2px rgba(60, 64, 67, 0.3), 0px 1px 3px 1px rgba(60, 64, 67, 0.15);\n",
              "      fill: #174EA6;\n",
              "    }\n",
              "\n",
              "    [theme=dark] .colab-df-convert {\n",
              "      background-color: #3B4455;\n",
              "      fill: #D2E3FC;\n",
              "    }\n",
              "\n",
              "    [theme=dark] .colab-df-convert:hover {\n",
              "      background-color: #434B5C;\n",
              "      box-shadow: 0px 1px 3px 1px rgba(0, 0, 0, 0.15);\n",
              "      filter: drop-shadow(0px 1px 2px rgba(0, 0, 0, 0.3));\n",
              "      fill: #FFFFFF;\n",
              "    }\n",
              "  </style>\n",
              "\n",
              "      <script>\n",
              "        const buttonEl =\n",
              "          document.querySelector('#df-533e2132-7fa5-49ba-bcfe-98ffb0a1c13e button.colab-df-convert');\n",
              "        buttonEl.style.display =\n",
              "          google.colab.kernel.accessAllowed ? 'block' : 'none';\n",
              "\n",
              "        async function convertToInteractive(key) {\n",
              "          const element = document.querySelector('#df-533e2132-7fa5-49ba-bcfe-98ffb0a1c13e');\n",
              "          const dataTable =\n",
              "            await google.colab.kernel.invokeFunction('convertToInteractive',\n",
              "                                                     [key], {});\n",
              "          if (!dataTable) return;\n",
              "\n",
              "          const docLinkHtml = 'Like what you see? Visit the ' +\n",
              "            '<a target=\"_blank\" href=https://colab.research.google.com/notebooks/data_table.ipynb>data table notebook</a>'\n",
              "            + ' to learn more about interactive tables.';\n",
              "          element.innerHTML = '';\n",
              "          dataTable['output_type'] = 'display_data';\n",
              "          await google.colab.output.renderOutput(dataTable, element);\n",
              "          const docLink = document.createElement('div');\n",
              "          docLink.innerHTML = docLinkHtml;\n",
              "          element.appendChild(docLink);\n",
              "        }\n",
              "      </script>\n",
              "    </div>\n",
              "  </div>\n",
              "  "
            ],
            "text/plain": [
              "        t_dat                                        customer_id  article_id  \\\n",
              "0  2018-09-20  000058a12d5b43e67d225668fa1f8d618c13dc232df0ca...   663713001   \n",
              "1  2018-09-20  000058a12d5b43e67d225668fa1f8d618c13dc232df0ca...   541518023   \n",
              "2  2018-09-20  00007d2de826758b65a93dd24ce629ed66842531df6699...   505221004   \n",
              "3  2018-09-20  00007d2de826758b65a93dd24ce629ed66842531df6699...   685687003   \n",
              "4  2018-09-20  00007d2de826758b65a93dd24ce629ed66842531df6699...   685687004   \n",
              "\n",
              "      price  sales_channel_id  \n",
              "0  0.050831                 2  \n",
              "1  0.030492                 2  \n",
              "2  0.015237                 2  \n",
              "3  0.016932                 2  \n",
              "4  0.016932                 2  "
            ]
          },
          "metadata": {},
          "output_type": "display_data"
        }
      ],
      "source": [
        "with pd.option_context(\"display.max_columns\", None):\n",
        "    display(df_transactions.head())"
      ]
    },
    {
      "cell_type": "code",
      "execution_count": null,
      "metadata": {
        "colab": {
          "base_uri": "https://localhost:8080/"
        },
        "id": "lPZEqgEdDeij",
        "outputId": "ba221ad2-1b58-4a65-c18f-62bdc36545a4"
      },
      "outputs": [
        {
          "name": "stdout",
          "output_type": "stream",
          "text": [
            "<class 'pandas.core.frame.DataFrame'>\n",
            "RangeIndex: 31788324 entries, 0 to 31788323\n",
            "Data columns (total 5 columns):\n",
            " #   Column            Dtype  \n",
            "---  ------            -----  \n",
            " 0   t_dat             object \n",
            " 1   customer_id       object \n",
            " 2   article_id        int64  \n",
            " 3   price             float64\n",
            " 4   sales_channel_id  int64  \n",
            "dtypes: float64(1), int64(2), object(2)\n",
            "memory usage: 1.2+ GB\n"
          ]
        }
      ],
      "source": [
        "df_transactions.info()"
      ]
    },
    {
      "cell_type": "code",
      "execution_count": null,
      "metadata": {
        "colab": {
          "base_uri": "https://localhost:8080/"
        },
        "id": "OkQStlwBD5jL",
        "outputId": "31edaa9e-6e37-4f48-8130-733610deeac6"
      },
      "outputs": [
        {
          "data": {
            "text/plain": [
              "t_dat               0\n",
              "customer_id         0\n",
              "article_id          0\n",
              "price               0\n",
              "sales_channel_id    0\n",
              "dtype: int64"
            ]
          },
          "execution_count": 12,
          "metadata": {},
          "output_type": "execute_result"
        }
      ],
      "source": [
        "df_transactions.isna().sum()"
      ]
    },
    {
      "cell_type": "markdown",
      "metadata": {
        "id": "wUj9kWeRIvwk"
      },
      "source": [
        "## **2 Exploratory Data Analysis**\n",
        "\n",
        "Pertama-tama, kita akan coba eksplor data artikel terlebih dahulu."
      ]
    },
    {
      "cell_type": "markdown",
      "metadata": {
        "id": "-7VqB6JQ_O5M"
      },
      "source": [
        "### 2.1 Articles\n",
        "Jika kita perhatikan dari tipe data tiap fitur, fitur-fitur yang berisi kode atau identifier produk dianggap sebagai integer, sedangkan secara konteks adalah bukan integer. Oleh karena itu, kita akan mengubah beberapa fitur tersebut menjadi tipe data `object`."
      ]
    },
    {
      "cell_type": "code",
      "execution_count": null,
      "metadata": {
        "colab": {
          "base_uri": "https://localhost:8080/"
        },
        "id": "XrHy780f4MM5",
        "outputId": "d262b9cf-5517-42ed-830d-2c0be1b4e686"
      },
      "outputs": [
        {
          "data": {
            "text/plain": [
              "article_id                       int64\n",
              "product_code                     int64\n",
              "prod_name                       object\n",
              "product_type_no                  int64\n",
              "product_type_name               object\n",
              "product_group_name              object\n",
              "graphical_appearance_no          int64\n",
              "graphical_appearance_name       object\n",
              "colour_group_code                int64\n",
              "colour_group_name               object\n",
              "perceived_colour_value_id        int64\n",
              "perceived_colour_value_name     object\n",
              "perceived_colour_master_id       int64\n",
              "perceived_colour_master_name    object\n",
              "department_no                    int64\n",
              "department_name                 object\n",
              "index_code                      object\n",
              "index_name                      object\n",
              "index_group_no                   int64\n",
              "index_group_name                object\n",
              "section_no                       int64\n",
              "section_name                    object\n",
              "garment_group_no                 int64\n",
              "garment_group_name              object\n",
              "detail_desc                     object\n",
              "dtype: object"
            ]
          },
          "execution_count": 13,
          "metadata": {},
          "output_type": "execute_result"
        }
      ],
      "source": [
        "df_articles.dtypes"
      ]
    },
    {
      "cell_type": "code",
      "execution_count": null,
      "metadata": {
        "id": "msH5KW5o39u_"
      },
      "outputs": [],
      "source": [
        "# Instruksi looping untuk mengubah tipe data pada kolom yang berakhiran dengan 'id','no', dan 'code' menggunakan function astype()\n",
        "for feature in df_articles.columns:\n",
        "    if (\n",
        "        feature.endswith(\"id\")\n",
        "        or feature.endswith(\"no\")\n",
        "        or feature.endswith(\"code\")\n",
        "    ):\n",
        "        df_articles[feature] = df_articles[feature].astype(\"object\")"
      ]
    },
    {
      "cell_type": "code",
      "execution_count": null,
      "metadata": {
        "colab": {
          "base_uri": "https://localhost:8080/"
        },
        "id": "LbR3UYg8_Bcb",
        "outputId": "dbe22d8d-b91c-4d9c-d799-4124e86691f5"
      },
      "outputs": [
        {
          "name": "stdout",
          "output_type": "stream",
          "text": [
            "<class 'pandas.core.frame.DataFrame'>\n",
            "RangeIndex: 105542 entries, 0 to 105541\n",
            "Data columns (total 25 columns):\n",
            " #   Column                        Non-Null Count   Dtype \n",
            "---  ------                        --------------   ----- \n",
            " 0   article_id                    105542 non-null  object\n",
            " 1   product_code                  105542 non-null  object\n",
            " 2   prod_name                     105542 non-null  object\n",
            " 3   product_type_no               105542 non-null  object\n",
            " 4   product_type_name             105542 non-null  object\n",
            " 5   product_group_name            105542 non-null  object\n",
            " 6   graphical_appearance_no       105542 non-null  object\n",
            " 7   graphical_appearance_name     105542 non-null  object\n",
            " 8   colour_group_code             105542 non-null  object\n",
            " 9   colour_group_name             105542 non-null  object\n",
            " 10  perceived_colour_value_id     105542 non-null  object\n",
            " 11  perceived_colour_value_name   105542 non-null  object\n",
            " 12  perceived_colour_master_id    105542 non-null  object\n",
            " 13  perceived_colour_master_name  105542 non-null  object\n",
            " 14  department_no                 105542 non-null  object\n",
            " 15  department_name               105542 non-null  object\n",
            " 16  index_code                    105542 non-null  object\n",
            " 17  index_name                    105542 non-null  object\n",
            " 18  index_group_no                105542 non-null  object\n",
            " 19  index_group_name              105542 non-null  object\n",
            " 20  section_no                    105542 non-null  object\n",
            " 21  section_name                  105542 non-null  object\n",
            " 22  garment_group_no              105542 non-null  object\n",
            " 23  garment_group_name            105542 non-null  object\n",
            " 24  detail_desc                   105126 non-null  object\n",
            "dtypes: object(25)\n",
            "memory usage: 20.1+ MB\n"
          ]
        }
      ],
      "source": [
        "df_articles.info()"
      ]
    },
    {
      "cell_type": "markdown",
      "metadata": {
        "id": "OsBfoqU4_DE7"
      },
      "source": [
        "* Setelah konversi tipe data, terlihat bahwa semua fitur dalam data artikel tidak ada yang berjenis numerik."
      ]
    },
    {
      "cell_type": "code",
      "execution_count": null,
      "metadata": {
        "colab": {
          "base_uri": "https://localhost:8080/"
        },
        "id": "wyBpNfcxzMqX",
        "outputId": "5340e48a-b3a1-4318-92c9-6cd1a6c9fa86"
      },
      "outputs": [
        {
          "name": "stdout",
          "output_type": "stream",
          "text": [
            "- num of unique values in `article_id`: 105542\n",
            "- num of unique values in `product_code`: 47224\n",
            "- num of unique values in `prod_name`: 45875\n",
            "- num of unique values in `product_type_no`: 132\n",
            "- num of unique values in `product_type_name`: 131\n",
            "- num of unique values in `product_group_name`: 19\n",
            "- num of unique values in `graphical_appearance_no`: 30\n",
            "- num of unique values in `graphical_appearance_name`: 30\n",
            "- num of unique values in `colour_group_code`: 50\n",
            "- num of unique values in `colour_group_name`: 50\n",
            "- num of unique values in `perceived_colour_value_id`: 8\n",
            "- num of unique values in `perceived_colour_value_name`: 8\n",
            "- num of unique values in `perceived_colour_master_id`: 20\n",
            "- num of unique values in `perceived_colour_master_name`: 20\n",
            "- num of unique values in `department_no`: 299\n",
            "- num of unique values in `department_name`: 250\n",
            "- num of unique values in `index_code`: 10\n",
            "- num of unique values in `index_name`: 10\n",
            "- num of unique values in `index_group_no`: 5\n",
            "- num of unique values in `index_group_name`: 5\n",
            "- num of unique values in `section_no`: 57\n",
            "- num of unique values in `section_name`: 56\n",
            "- num of unique values in `garment_group_no`: 21\n",
            "- num of unique values in `garment_group_name`: 21\n",
            "- num of unique values in `detail_desc`: 43404\n"
          ]
        }
      ],
      "source": [
        "for feature in df_articles.columns:\n",
        "    print(\n",
        "        f\"- num of unique values in `{feature}`:\",\n",
        "        df_articles[feature].nunique()\n",
        "    )"
      ]
    },
    {
      "cell_type": "markdown",
      "metadata": {
        "id": "eVPZv3ERA6IX"
      },
      "source": [
        "> **Insights:**\n",
        "\n",
        "Dari informasi di atas:\n",
        "* terdapat perbedaan jumlah nilai unik antara beberapa pasangan kode dan nama, seperti `product_code` dengan `prod_name`, `product_type_no` dengan `product_type_name`, `department_no` dengan `department_name`, dan lainnya. Sehingga kita mungkin perlu melihat **two-way table** antara kedua fitur tersebut\n",
        "* karena `index_group_name` adalah fitur dengan jumlah nilai unik paling sedikit, yang mungkin berarti ada 5 grup besar yang membagi produk H&M\n",
        "* apa lagi yang bisa kamu ambil dari informasi di atas?\n",
        "\n",
        "Agar lebih mudah untuk diamati, kita akan buat visualisasi menggunakan fungsi berikut."
      ]
    },
    {
      "cell_type": "code",
      "execution_count": null,
      "metadata": {
        "id": "c6rza9bY5Xev"
      },
      "outputs": [],
      "source": [
        "def plot_count(data, x=None, y=None, palette=None, figsize=(12, 6), **kwargs):\n",
        "    column_order = data[x or y].value_counts().index\n",
        "\n",
        "    plt.figure(figsize=figsize)\n",
        "    sns.countplot(\n",
        "        x=x, y=y, data=data, order=column_order,\n",
        "        palette=palette, **kwargs\n",
        "    )\n",
        "    plt.grid(False)\n",
        "\n",
        "\n",
        "MAIN_COLOR = [\"#29B5BF\"]    # warna utama untuk visualisasi\n",
        "OTHER_COLOR = [\"#777777\"]    # warna lainnya untuk visualisasi"
      ]
    },
    {
      "cell_type": "code",
      "execution_count": null,
      "metadata": {
        "colab": {
          "base_uri": "https://localhost:8080/",
          "height": 389
        },
        "id": "r0C7szOT--ra",
        "outputId": "dde99de1-b5f6-4250-889c-7657b318ce40"
      },
      "outputs": [
        {
          "data": {
            "image/png": "[encoded data removed]",
            "text/plain": [
              "<Figure size 864x432 with 1 Axes>"
            ]
          },
          "metadata": {},
          "output_type": "display_data"
        }
      ],
      "source": [
        "plot_count(x=\"index_group_name\", data=df_articles)"
      ]
    },
    {
      "cell_type": "markdown",
      "metadata": {
        "id": "vTmBE7KJFkRF"
      },
      "source": [
        "> **Insights:**\n",
        "\n",
        "Dari visualisasi di atas, diperoleh:\n",
        "* `Ladieswear` atau pakaian untuk perempuan menjadi kelompok grup yang paling banyak disediakan oleh H&M\n",
        "* sebaliknya, ketersediaan pakaian olahraga oleh H&M paling sedikit dibandingkan dengan yang kelompok pakaian lainnya\n",
        "\n",
        "Selanjutnya, karena nama fitur yang mirip, kita akan coba bandingkan `index_group_name` dengan `index_name`."
      ]
    },
    {
      "cell_type": "code",
      "execution_count": null,
      "metadata": {
        "colab": {
          "base_uri": "https://localhost:8080/",
          "height": 389
        },
        "id": "D9bytBMjFVxu",
        "outputId": "940551a4-5fc8-45e0-edfd-a30c766295f4"
      },
      "outputs": [
        {
          "data": {
            "image/png": "[encoded data removed]",
            "text/plain": [
              "<Figure size 1080x432 with 1 Axes>"
            ]
          },
          "metadata": {},
          "output_type": "display_data"
        }
      ],
      "source": [
        "plot_count(x=\"index_group_name\", hue=\"index_name\",data=df_articles, figsize=(15, 6))\n",
        "plt.legend(loc=\"upper right\")\n",
        "plt.show()"
      ]
    },
    {
      "cell_type": "markdown",
      "metadata": {
        "id": "MCE40KsUG8XL"
      },
      "source": [
        "> **Insights:**\n",
        "\n",
        "Dari visualisasi di atas:\n",
        "* hanya kelompok `Ladieswear` dan `Baby/Children` yang memiliki sub-kelompok indeks\n",
        "* sub-kelompok dari `Ladieswear` terdiri dari:\n",
        "    * `Ladieswear`\n",
        "    * `Lingeries/Tights`\n",
        "    * `Ladies/Accessories`\n",
        "* sub-kelompok dari `Baby/Children` terdiri dari:\n",
        "    * `Baby Sizes 50-98`\n",
        "    * `Children Sizes 92-140`\n",
        "    * `Children Sizes 134-170`\n",
        "    * `Children Accessories, Swimwear`\n",
        "\n",
        "Saat memilih sebuah produk fashion, salah satu faktor yang menjadi pertimbangan adalah **warna**. Mari kita coba lihat warna apa saja yang disediakan oleh H&M."
      ]
    },
    {
      "cell_type": "code",
      "execution_count": null,
      "metadata": {
        "colab": {
          "base_uri": "https://localhost:8080/",
          "height": 518
        },
        "id": "LR9ufTQNGLM1",
        "outputId": "240e8267-7286-4165-f8cb-4869aec0f97e"
      },
      "outputs": [
        {
          "data": {
            "image/png": "[encoded data removed]",
            "text/plain": [
              "<Figure size 864x576 with 1 Axes>"
            ]
          },
          "metadata": {},
          "output_type": "display_data"
        }
      ],
      "source": [
        "plot_count(y=\"perceived_colour_master_name\", data=df_articles, figsize=(12, 8))\n",
        "plt.xticks(rotation=90)\n",
        "plt.show()"
      ]
    },
    {
      "cell_type": "markdown",
      "metadata": {
        "id": "qIgcneKOJj6X"
      },
      "source": [
        "> **Insights:**\n",
        "\n",
        "Terlihat dari visualisasi di atas:\n",
        "* 5 warna yang teratas adalah:\n",
        "    * `Black`\n",
        "    * `Blue`\n",
        "    * `White`\n",
        "    * `Pink`\n",
        "    * `Grey`\n",
        "* terdapat warna `unknown` dan `undefined` yang perlu ditinjau lebih jauh lagi produk yang memiliki warna tersebut, apakah sebuah pakaian ataukah aksesoris\n",
        "\n",
        "* Perihal warna, kita mungkin sadar bahwa pakaian pria dan pakaian wanita mungkin memiliki jenis warna yang berbeda jenisnya. Sehingga, menarik untuk kita lihat bagaimana H&M memilih warna-warna untuk kelompok produk `Ladieswear` dan `Menswear`."
      ]
    },
    {
      "cell_type": "code",
      "execution_count": null,
      "metadata": {
        "colab": {
          "base_uri": "https://localhost:8080/",
          "height": 498
        },
        "id": "fBEpqZHtIcl8",
        "outputId": "a971bd06-8c1c-4309-d1aa-025cac755271"
      },
      "outputs": [
        {
          "data": {
            "image/png": "[encoded data removed]",
            "text/plain": [
              "<Figure size 1080x576 with 1 Axes>"
            ]
          },
          "metadata": {},
          "output_type": "display_data"
        }
      ],
      "source": [
        "df_ladies_mens = df_articles[df_articles.index_group_name.isin([\"Ladieswear\", \"Menswear\"])\n",
        "]\n",
        "plot_count(\n",
        "    hue=\"perceived_colour_master_name\",\n",
        "    x=\"index_group_name\",\n",
        "    data=df_ladies_mens,\n",
        "    palette=\"Paired\",\n",
        "    figsize=(15, 8),\n",
        "    hue_order=df_articles.perceived_colour_master_name.value_counts().index\n",
        ")"
      ]
    },
    {
      "cell_type": "markdown",
      "metadata": {
        "id": "mFmCTC01MQtf"
      },
      "source": [
        "> **Insights:**\n",
        "\n",
        "Dari visualisasi di atas:\n",
        "* baik `Ladieswear` dan `Menswear`, warna hitam menjadi warna yang populer dan paling banyak produknya\n",
        "* 5 warna teratas untuk kelompok pakaian `Ladieswear` adalah:\n",
        "    * `Black`\n",
        "    * `White`\n",
        "    * `Blue`\n",
        "    * `Beige`\n",
        "    * `Pink`\n",
        "* 5 warna teratas untuk kelompok pakaian `Menswear` adalah:\n",
        "    * `Black`\n",
        "    * `Blue`\n",
        "    * `Grey`\n",
        "    * `White`\n",
        "    * `Red`\n",
        "* kedua kelompok pakaian tersebut masih memiliki warna `unknown` dan `undefined`\n",
        "\n",
        "\n",
        "Selanjutnya, mari kita lihat bagaimana warna `unknown` dan `undefined` ini bisa ada di 2 kelompok tersebut."
      ]
    },
    {
      "cell_type": "code",
      "execution_count": null,
      "metadata": {
        "colab": {
          "base_uri": "https://localhost:8080/",
          "height": 669
        },
        "id": "WYFrBATZKyRb",
        "outputId": "4c7eda2a-0d95-4514-9f00-12010ca68ceb"
      },
      "outputs": [
        {
          "data": {
            "text/html": [
              "\n",
              "  <div id=\"df-1f80b34a-edb1-4bed-bea9-0c62f5f85b55\">\n",
              "    <div class=\"colab-df-container\">\n",
              "      <div>\n",
              "<style scoped>\n",
              "    .dataframe tbody tr th:only-of-type {\n",
              "        vertical-align: middle;\n",
              "    }\n",
              "\n",
              "    .dataframe tbody tr th {\n",
              "        vertical-align: top;\n",
              "    }\n",
              "\n",
              "    .dataframe thead th {\n",
              "        text-align: right;\n",
              "    }\n",
              "</style>\n",
              "<table border=\"1\" class=\"dataframe\">\n",
              "  <thead>\n",
              "    <tr style=\"text-align: right;\">\n",
              "      <th></th>\n",
              "      <th>product_type_name</th>\n",
              "      <th>product_group_name</th>\n",
              "      <th>graphical_appearance_name</th>\n",
              "      <th>perceived_colour_master_name</th>\n",
              "      <th>index_name</th>\n",
              "      <th>section_name</th>\n",
              "    </tr>\n",
              "  </thead>\n",
              "  <tbody>\n",
              "    <tr>\n",
              "      <th>89010</th>\n",
              "      <td>Hat/brim</td>\n",
              "      <td>Accessories</td>\n",
              "      <td>Solid</td>\n",
              "      <td>undefined</td>\n",
              "      <td>Ladies Accessories</td>\n",
              "      <td>Womens Big accessories</td>\n",
              "    </tr>\n",
              "    <tr>\n",
              "      <th>67939</th>\n",
              "      <td>Shorts</td>\n",
              "      <td>Garment Lower body</td>\n",
              "      <td>Solid</td>\n",
              "      <td>undefined</td>\n",
              "      <td>Ladieswear</td>\n",
              "      <td>Womens Everyday Collection</td>\n",
              "    </tr>\n",
              "    <tr>\n",
              "      <th>12578</th>\n",
              "      <td>Sweater</td>\n",
              "      <td>Garment Upper body</td>\n",
              "      <td>Solid</td>\n",
              "      <td>undefined</td>\n",
              "      <td>Ladieswear</td>\n",
              "      <td>Womens Everyday Collection</td>\n",
              "    </tr>\n",
              "    <tr>\n",
              "      <th>45344</th>\n",
              "      <td>Socks</td>\n",
              "      <td>Socks &amp; Tights</td>\n",
              "      <td>All over pattern</td>\n",
              "      <td>undefined</td>\n",
              "      <td>Lingeries/Tights</td>\n",
              "      <td>Womens Nightwear, Socks &amp; Tigh</td>\n",
              "    </tr>\n",
              "    <tr>\n",
              "      <th>2940</th>\n",
              "      <td>Dress</td>\n",
              "      <td>Garment Full body</td>\n",
              "      <td>All over pattern</td>\n",
              "      <td>undefined</td>\n",
              "      <td>Ladieswear</td>\n",
              "      <td>Mama</td>\n",
              "    </tr>\n",
              "    <tr>\n",
              "      <th>24187</th>\n",
              "      <td>Underwear bottom</td>\n",
              "      <td>Underwear</td>\n",
              "      <td>Lace</td>\n",
              "      <td>undefined</td>\n",
              "      <td>Lingeries/Tights</td>\n",
              "      <td>Womens Lingerie</td>\n",
              "    </tr>\n",
              "    <tr>\n",
              "      <th>38604</th>\n",
              "      <td>Bag</td>\n",
              "      <td>Accessories</td>\n",
              "      <td>Solid</td>\n",
              "      <td>undefined</td>\n",
              "      <td>Ladies Accessories</td>\n",
              "      <td>Womens Big accessories</td>\n",
              "    </tr>\n",
              "    <tr>\n",
              "      <th>17764</th>\n",
              "      <td>Trousers</td>\n",
              "      <td>Garment Lower body</td>\n",
              "      <td>All over pattern</td>\n",
              "      <td>undefined</td>\n",
              "      <td>Ladieswear</td>\n",
              "      <td>Womens Everyday Collection</td>\n",
              "    </tr>\n",
              "    <tr>\n",
              "      <th>34122</th>\n",
              "      <td>Blouse</td>\n",
              "      <td>Garment Upper body</td>\n",
              "      <td>Stripe</td>\n",
              "      <td>undefined</td>\n",
              "      <td>Ladieswear</td>\n",
              "      <td>Womens Tailoring</td>\n",
              "    </tr>\n",
              "    <tr>\n",
              "      <th>14175</th>\n",
              "      <td>T-shirt</td>\n",
              "      <td>Garment Upper body</td>\n",
              "      <td>Solid</td>\n",
              "      <td>undefined</td>\n",
              "      <td>Ladieswear</td>\n",
              "      <td>Womens Everyday Basics</td>\n",
              "    </tr>\n",
              "  </tbody>\n",
              "</table>\n",
              "</div>\n",
              "      <button class=\"colab-df-convert\" onclick=\"convertToInteractive('df-1f80b34a-edb1-4bed-bea9-0c62f5f85b55')\"\n",
              "              title=\"Convert this dataframe to an interactive table.\"\n",
              "              style=\"display:none;\">\n",
              "        \n",
              "  <svg xmlns=\"http://www.w3.org/2000/svg\" height=\"24px\"viewBox=\"0 0 24 24\"\n",
              "       width=\"24px\">\n",
              "    <path d=\"M0 0h24v24H0V0z\" fill=\"none\"/>\n",
              "    <path d=\"M18.56 5.44l.94 2.06.94-2.06 2.06-.94-2.06-.94-.94-2.06-.94 2.06-2.06.94zm-11 1L8.5 8.5l.94-2.06 2.06-.94-2.06-.94L8.5 2.5l-.94 2.06-2.06.94zm10 10l.94 2.06.94-2.06 2.06-.94-2.06-.94-.94-2.06-.94 2.06-2.06.94z\"/><path d=\"M17.41 7.96l-1.37-1.37c-.4-.4-.92-.59-1.43-.59-.52 0-1.04.2-1.43.59L10.3 9.45l-7.72 7.72c-.78.78-.78 2.05 0 2.83L4 21.41c.39.39.9.59 1.41.59.51 0 1.02-.2 1.41-.59l7.78-7.78 2.81-2.81c.8-.78.8-2.07 0-2.86zM5.41 20L4 18.59l7.72-7.72 1.47 1.35L5.41 20z\"/>\n",
              "  </svg>\n",
              "      </button>\n",
              "      \n",
              "  <style>\n",
              "    .colab-df-container {\n",
              "      display:flex;\n",
              "      flex-wrap:wrap;\n",
              "      gap: 12px;\n",
              "    }\n",
              "\n",
              "    .colab-df-convert {\n",
              "      background-color: #E8F0FE;\n",
              "      border: none;\n",
              "      border-radius: 50%;\n",
              "      cursor: pointer;\n",
              "      display: none;\n",
              "      fill: #1967D2;\n",
              "      height: 32px;\n",
              "      padding: 0 0 0 0;\n",
              "      width: 32px;\n",
              "    }\n",
              "\n",
              "    .colab-df-convert:hover {\n",
              "      background-color: #E2EBFA;\n",
              "      box-shadow: 0px 1px 2px rgba(60, 64, 67, 0.3), 0px 1px 3px 1px rgba(60, 64, 67, 0.15);\n",
              "      fill: #174EA6;\n",
              "    }\n",
              "\n",
              "    [theme=dark] .colab-df-convert {\n",
              "      background-color: #3B4455;\n",
              "      fill: #D2E3FC;\n",
              "    }\n",
              "\n",
              "    [theme=dark] .colab-df-convert:hover {\n",
              "      background-color: #434B5C;\n",
              "      box-shadow: 0px 1px 3px 1px rgba(0, 0, 0, 0.15);\n",
              "      filter: drop-shadow(0px 1px 2px rgba(0, 0, 0, 0.3));\n",
              "      fill: #FFFFFF;\n",
              "    }\n",
              "  </style>\n",
              "\n",
              "      <script>\n",
              "        const buttonEl =\n",
              "          document.querySelector('#df-1f80b34a-edb1-4bed-bea9-0c62f5f85b55 button.colab-df-convert');\n",
              "        buttonEl.style.display =\n",
              "          google.colab.kernel.accessAllowed ? 'block' : 'none';\n",
              "\n",
              "        async function convertToInteractive(key) {\n",
              "          const element = document.querySelector('#df-1f80b34a-edb1-4bed-bea9-0c62f5f85b55');\n",
              "          const dataTable =\n",
              "            await google.colab.kernel.invokeFunction('convertToInteractive',\n",
              "                                                     [key], {});\n",
              "          if (!dataTable) return;\n",
              "\n",
              "          const docLinkHtml = 'Like what you see? Visit the ' +\n",
              "            '<a target=\"_blank\" href=https://colab.research.google.com/notebooks/data_table.ipynb>data table notebook</a>'\n",
              "            + ' to learn more about interactive tables.';\n",
              "          element.innerHTML = '';\n",
              "          dataTable['output_type'] = 'display_data';\n",
              "          await google.colab.output.renderOutput(dataTable, element);\n",
              "          const docLink = document.createElement('div');\n",
              "          docLink.innerHTML = docLinkHtml;\n",
              "          element.appendChild(docLink);\n",
              "        }\n",
              "      </script>\n",
              "    </div>\n",
              "  </div>\n",
              "  "
            ],
            "text/plain": [
              "      product_type_name  product_group_name graphical_appearance_name  \\\n",
              "89010          Hat/brim         Accessories                     Solid   \n",
              "67939            Shorts  Garment Lower body                     Solid   \n",
              "12578           Sweater  Garment Upper body                     Solid   \n",
              "45344             Socks      Socks & Tights          All over pattern   \n",
              "2940              Dress   Garment Full body          All over pattern   \n",
              "24187  Underwear bottom           Underwear                      Lace   \n",
              "38604               Bag         Accessories                     Solid   \n",
              "17764          Trousers  Garment Lower body          All over pattern   \n",
              "34122            Blouse  Garment Upper body                    Stripe   \n",
              "14175           T-shirt  Garment Upper body                     Solid   \n",
              "\n",
              "      perceived_colour_master_name          index_name  \\\n",
              "89010                    undefined  Ladies Accessories   \n",
              "67939                    undefined          Ladieswear   \n",
              "12578                    undefined          Ladieswear   \n",
              "45344                    undefined    Lingeries/Tights   \n",
              "2940                     undefined          Ladieswear   \n",
              "24187                    undefined    Lingeries/Tights   \n",
              "38604                    undefined  Ladies Accessories   \n",
              "17764                    undefined          Ladieswear   \n",
              "34122                    undefined          Ladieswear   \n",
              "14175                    undefined          Ladieswear   \n",
              "\n",
              "                         section_name  \n",
              "89010          Womens Big accessories  \n",
              "67939      Womens Everyday Collection  \n",
              "12578      Womens Everyday Collection  \n",
              "45344  Womens Nightwear, Socks & Tigh  \n",
              "2940                             Mama  \n",
              "24187                 Womens Lingerie  \n",
              "38604          Womens Big accessories  \n",
              "17764      Womens Everyday Collection  \n",
              "34122                Womens Tailoring  \n",
              "14175          Womens Everyday Basics  "
            ]
          },
          "execution_count": 22,
          "metadata": {},
          "output_type": "execute_result"
        }
      ],
      "source": [
        "df_ladies_mens.loc[df_ladies_mens.perceived_colour_master_name.isin([\"unknown\", \"undefined\"]),\n",
        "    [\"product_type_name\", \"product_group_name\", \"graphical_appearance_name\",\n",
        "     \"perceived_colour_master_name\", \"index_name\", \"section_name\"]].sample(10)"
      ]
    },
    {
      "cell_type": "code",
      "execution_count": null,
      "metadata": {
        "colab": {
          "base_uri": "https://localhost:8080/",
          "height": 497
        },
        "id": "NKzGCWboOtop",
        "outputId": "74baa195-fc16-4e17-d9f7-ddb743bd7b22"
      },
      "outputs": [
        {
          "data": {
            "image/png": "[encoded data removed]",
            "text/plain": [
              "<Figure size 864x576 with 1 Axes>"
            ]
          },
          "metadata": {},
          "output_type": "display_data"
        }
      ],
      "source": [
        "plot_count(y=\"product_type_name\",data=df_ladies_mens[df_ladies_mens.perceived_colour_master_name.isin([\"unknown\", \"undefined\"])],\n",
        "    figsize=(12, 8))"
      ]
    },
    {
      "cell_type": "markdown",
      "metadata": {
        "id": "Q5xD2lO-QWUG"
      },
      "source": [
        "> **Question**\n",
        "\n",
        "Kesimpulan apa yang bisa kamu ambil dari visualisasi di atas?"
      ]
    },
    {
      "cell_type": "markdown",
      "metadata": {
        "id": "bBwr9lpeQZd5"
      },
      "source": [
        "### 2.2 Customers\n",
        "\n",
        "Karena banyaknya _missing values_ pada data Customers, selanjutnya kita akan coba eksplor _missing values_ tersebut."
      ]
    },
    {
      "cell_type": "markdown",
      "metadata": {
        "id": "QqZsiIPOZqZu"
      },
      "source": [
        "#### 2.2.1 Missing Values"
      ]
    },
    {
      "cell_type": "code",
      "execution_count": null,
      "metadata": {
        "colab": {
          "base_uri": "https://localhost:8080/",
          "height": 49
        },
        "id": "_lQFv9bIPqIb",
        "outputId": "a18deda6-b8da-4c8c-e82a-283596a1a869"
      },
      "outputs": [
        {
          "data": {
            "text/html": [
              "\n",
              "  <div id=\"df-d126277e-0d9b-4b61-8e56-b648985c0c18\">\n",
              "    <div class=\"colab-df-container\">\n",
              "      <div>\n",
              "<style scoped>\n",
              "    .dataframe tbody tr th:only-of-type {\n",
              "        vertical-align: middle;\n",
              "    }\n",
              "\n",
              "    .dataframe tbody tr th {\n",
              "        vertical-align: top;\n",
              "    }\n",
              "\n",
              "    .dataframe thead th {\n",
              "        text-align: right;\n",
              "    }\n",
              "</style>\n",
              "<table border=\"1\" class=\"dataframe\">\n",
              "  <thead>\n",
              "    <tr style=\"text-align: right;\">\n",
              "      <th></th>\n",
              "      <th>customer_id</th>\n",
              "      <th>FN</th>\n",
              "      <th>Active</th>\n",
              "      <th>club_member_status</th>\n",
              "      <th>fashion_news_frequency</th>\n",
              "      <th>age</th>\n",
              "      <th>postal_code</th>\n",
              "    </tr>\n",
              "  </thead>\n",
              "  <tbody>\n",
              "  </tbody>\n",
              "</table>\n",
              "</div>\n",
              "      <button class=\"colab-df-convert\" onclick=\"convertToInteractive('df-d126277e-0d9b-4b61-8e56-b648985c0c18')\"\n",
              "              title=\"Convert this dataframe to an interactive table.\"\n",
              "              style=\"display:none;\">\n",
              "        \n",
              "  <svg xmlns=\"http://www.w3.org/2000/svg\" height=\"24px\"viewBox=\"0 0 24 24\"\n",
              "       width=\"24px\">\n",
              "    <path d=\"M0 0h24v24H0V0z\" fill=\"none\"/>\n",
              "    <path d=\"M18.56 5.44l.94 2.06.94-2.06 2.06-.94-2.06-.94-.94-2.06-.94 2.06-2.06.94zm-11 1L8.5 8.5l.94-2.06 2.06-.94-2.06-.94L8.5 2.5l-.94 2.06-2.06.94zm10 10l.94 2.06.94-2.06 2.06-.94-2.06-.94-.94-2.06-.94 2.06-2.06.94z\"/><path d=\"M17.41 7.96l-1.37-1.37c-.4-.4-.92-.59-1.43-.59-.52 0-1.04.2-1.43.59L10.3 9.45l-7.72 7.72c-.78.78-.78 2.05 0 2.83L4 21.41c.39.39.9.59 1.41.59.51 0 1.02-.2 1.41-.59l7.78-7.78 2.81-2.81c.8-.78.8-2.07 0-2.86zM5.41 20L4 18.59l7.72-7.72 1.47 1.35L5.41 20z\"/>\n",
              "  </svg>\n",
              "      </button>\n",
              "      \n",
              "  <style>\n",
              "    .colab-df-container {\n",
              "      display:flex;\n",
              "      flex-wrap:wrap;\n",
              "      gap: 12px;\n",
              "    }\n",
              "\n",
              "    .colab-df-convert {\n",
              "      background-color: #E8F0FE;\n",
              "      border: none;\n",
              "      border-radius: 50%;\n",
              "      cursor: pointer;\n",
              "      display: none;\n",
              "      fill: #1967D2;\n",
              "      height: 32px;\n",
              "      padding: 0 0 0 0;\n",
              "      width: 32px;\n",
              "    }\n",
              "\n",
              "    .colab-df-convert:hover {\n",
              "      background-color: #E2EBFA;\n",
              "      box-shadow: 0px 1px 2px rgba(60, 64, 67, 0.3), 0px 1px 3px 1px rgba(60, 64, 67, 0.15);\n",
              "      fill: #174EA6;\n",
              "    }\n",
              "\n",
              "    [theme=dark] .colab-df-convert {\n",
              "      background-color: #3B4455;\n",
              "      fill: #D2E3FC;\n",
              "    }\n",
              "\n",
              "    [theme=dark] .colab-df-convert:hover {\n",
              "      background-color: #434B5C;\n",
              "      box-shadow: 0px 1px 3px 1px rgba(0, 0, 0, 0.15);\n",
              "      filter: drop-shadow(0px 1px 2px rgba(0, 0, 0, 0.3));\n",
              "      fill: #FFFFFF;\n",
              "    }\n",
              "  </style>\n",
              "\n",
              "      <script>\n",
              "        const buttonEl =\n",
              "          document.querySelector('#df-d126277e-0d9b-4b61-8e56-b648985c0c18 button.colab-df-convert');\n",
              "        buttonEl.style.display =\n",
              "          google.colab.kernel.accessAllowed ? 'block' : 'none';\n",
              "\n",
              "        async function convertToInteractive(key) {\n",
              "          const element = document.querySelector('#df-d126277e-0d9b-4b61-8e56-b648985c0c18');\n",
              "          const dataTable =\n",
              "            await google.colab.kernel.invokeFunction('convertToInteractive',\n",
              "                                                     [key], {});\n",
              "          if (!dataTable) return;\n",
              "\n",
              "          const docLinkHtml = 'Like what you see? Visit the ' +\n",
              "            '<a target=\"_blank\" href=https://colab.research.google.com/notebooks/data_table.ipynb>data table notebook</a>'\n",
              "            + ' to learn more about interactive tables.';\n",
              "          element.innerHTML = '';\n",
              "          dataTable['output_type'] = 'display_data';\n",
              "          await google.colab.output.renderOutput(dataTable, element);\n",
              "          const docLink = document.createElement('div');\n",
              "          docLink.innerHTML = docLinkHtml;\n",
              "          element.appendChild(docLink);\n",
              "        }\n",
              "      </script>\n",
              "    </div>\n",
              "  </div>\n",
              "  "
            ],
            "text/plain": [
              "Empty DataFrame\n",
              "Columns: [customer_id, FN, Active, club_member_status, fashion_news_frequency, age, postal_code]\n",
              "Index: []"
            ]
          },
          "execution_count": 24,
          "metadata": {},
          "output_type": "execute_result"
        }
      ],
      "source": [
        "df_customers[df_customers.isna().all(axis=1)]"
      ]
    },
    {
      "cell_type": "markdown",
      "metadata": {
        "id": "-8g7p-YPRjGr"
      },
      "source": [
        "> **Insights:**\n",
        "\n",
        "Dari data di atas, terlihat bahwa tidak ada baris yang semua nilai fiturnya kosong."
      ]
    },
    {
      "cell_type": "code",
      "execution_count": null,
      "metadata": {
        "colab": {
          "base_uri": "https://localhost:8080/"
        },
        "id": "dJnZ1B-aReRG",
        "outputId": "190202c8-3e48-4089-cc96-53af8c8891d1"
      },
      "outputs": [
        {
          "name": "stdout",
          "output_type": "stream",
          "text": [
            "num of unique values in FN:  [nan  1.]\n",
            "num of unique values in Active:  [nan  1.]\n",
            "num of unique values in club_member_status:  ['ACTIVE' nan 'PRE-CREATE' 'LEFT CLUB']\n",
            "num of unique values in fashion_news_frequency:  ['NONE' 'Regularly' nan 'Monthly' 'None']\n",
            "num of unique values in age:  [49. 25. 24. 54. 52. nan 20. 32. 29. 31. 56. 75. 41. 27. 30. 48. 35. 22.\n",
            " 40. 38. 45. 68. 55. 19. 60. 44. 21. 26. 28. 53. 33. 17. 23. 51. 18. 34.\n",
            " 57. 47. 70. 50. 63. 58. 43. 67. 72. 42. 39. 79. 71. 59. 36. 62. 37. 46.\n",
            " 73. 64. 74. 61. 85. 69. 76. 66. 65. 82. 16. 90. 80. 78. 81. 84. 77. 97.\n",
            " 89. 83. 98. 88. 86. 87. 93. 91. 99. 96. 94. 92. 95.]\n"
          ]
        }
      ],
      "source": [
        "for feature in df_customers.columns:\n",
        "    # hanya pilih fitur yang memiliki missing values\n",
        "    if df_customers[feature].isna().any():\n",
        "        print(f\"num of unique values in {feature}: \",\n",
        "            df_customers[feature].unique())"
      ]
    },
    {
      "cell_type": "markdown",
      "metadata": {
        "id": "U_oGIvfsT_Wa"
      },
      "source": [
        "> **Insights:**\n",
        "\n",
        "* Khusus pada fitur `FN` dan `Active`, terlihat bahwa hanya ada `1` untuk nilai _non-missing value_.\n",
        "\n",
        "* Berdasarkan representasi fitur yang sudah dibahas di slides, yaitu `FN` merepresentasikan apakah customer mendapatkan fashion newsletter atau tidak dan `Active` merepresentasikan apakah customer aktif untuk berkomunikasi, kita bisa anggap nilai `nan` sama dengan `0`.\n",
        "\n",
        "* Sehingga, kita akan isi nilai `nan` pada kedua fitur tersebut dengan nilai `0`."
      ]
    },
    {
      "cell_type": "code",
      "execution_count": null,
      "metadata": {
        "id": "TDOvPqlTTOXP"
      },
      "outputs": [],
      "source": [
        "# Pilih kedua kolom dan isi missing value dengan 0\n",
        "df_customers[[\"FN\", \"Active\"]] = df_customers[[\"FN\", \"Active\"]].fillna(0)"
      ]
    },
    {
      "cell_type": "code",
      "execution_count": null,
      "metadata": {
        "colab": {
          "base_uri": "https://localhost:8080/"
        },
        "id": "bpeXFuX2YE7G",
        "outputId": "a9b090ff-f460-4f18-9868-bfb9a327a25b"
      },
      "outputs": [
        {
          "data": {
            "text/plain": [
              "FN        0\n",
              "Active    0\n",
              "dtype: int64"
            ]
          },
          "execution_count": 27,
          "metadata": {},
          "output_type": "execute_result"
        }
      ],
      "source": [
        "# Cek missing values\n",
        "df_customers[[\"FN\", \"Active\"]].isna().sum()"
      ]
    },
    {
      "cell_type": "markdown",
      "metadata": {
        "id": "PqwMb_J4bzUH"
      },
      "source": [
        "* Selanjutnya, kita akan coba lihat _missing values_ yang ada pada fitur `club_member_status` dan `fashion_news_frequency`.\n",
        "\n",
        "* Khusus untuk `fashion_news_frequency`, terdapat tiga jenis nilai yang mungkin sama, yaitu `NONE`, `None`, dan `nan`. Untuk penyederhanaan, kita akan anggap ketiga nilai tersebut sama, yaitu `nan` (string). Kemudian, nilai `nan` tersebut akan diisi berdasarkan hubungan dengan 2 fitur yang lain, `club_member_status` dan `FN`."
      ]
    },
    {
      "cell_type": "code",
      "execution_count": null,
      "metadata": {
        "id": "Zw8-5ZAcgmed"
      },
      "outputs": [],
      "source": [
        "df_customers[\"fashion_news_frequency\"] = (df_customers[\"fashion_news_frequency\"].replace({\"NONE\": np.nan, \"None\": np.nan}))"
      ]
    },
    {
      "cell_type": "code",
      "execution_count": null,
      "metadata": {
        "colab": {
          "base_uri": "https://localhost:8080/",
          "height": 389
        },
        "id": "-XCKWTrDZdCa",
        "outputId": "0a3eff7f-ae4d-49b7-ebda-50f67be094ef"
      },
      "outputs": [
        {
          "data": {
            "image/png": "[encoded data removed]",
            "text/plain": [
              "<Figure size 1080x432 with 2 Axes>"
            ]
          },
          "metadata": {},
          "output_type": "display_data"
        }
      ],
      "source": [
        "customer_news_nan = df_customers.loc[df_customers[\"fashion_news_frequency\"].isna(),\n",
        "                                     [\"FN\", \"club_member_status\", \"fashion_news_frequency\"]].fillna(\"nan\")\n",
        "\n",
        "fig, axis = plt.subplots(1, 2, figsize=(15, 6))\n",
        "for ax, x in zip(axis, [\"FN\", \"club_member_status\"]):\n",
        "    sns.countplot(x=x, data=customer_news_nan, ax=ax)"
      ]
    },
    {
      "cell_type": "code",
      "execution_count": null,
      "metadata": {
        "colab": {
          "base_uri": "https://localhost:8080/"
        },
        "id": "CdW49SdOey1g",
        "outputId": "a2ba12fe-6a12-44be-b3bb-b9dacff5173f"
      },
      "outputs": [
        {
          "data": {
            "text/plain": [
              "FN   club_member_status  fashion_news_frequency\n",
              "0.0  ACTIVE              nan                       799632\n",
              "     PRE-CREATE          nan                        87106\n",
              "     nan                 nan                         5734\n",
              "1.0  ACTIVE              nan                          777\n",
              "0.0  LEFT CLUB           nan                          459\n",
              "1.0  PRE-CREATE          nan                            8\n",
              "     nan                 nan                            6\n",
              "dtype: int64"
            ]
          },
          "execution_count": 30,
          "metadata": {},
          "output_type": "execute_result"
        }
      ],
      "source": [
        "customer_news_nan.value_counts()"
      ]
    },
    {
      "cell_type": "markdown",
      "metadata": {
        "id": "9heZmjj4dZN3"
      },
      "source": [
        "> **Insights:**\n",
        "\n",
        "Dari visualisasi dan informasi di atas, bisa disimpulkan bahwa:\n",
        "* Semua customer dengan nilai `FN=0`, nilai `nan` pada `fashion_news_frequency` akan diisi dengan `Never`, karena customer yang tidak mengikuti newsletter **tidak akan pernah** mendapatkan berita fashion dari H&M\n",
        "* customer dengan nilai `FN=1` dan `club_member_status` bernilai `nan` atau `ACTIVE`, nilai `nan` pada fitur `fashion_news_frequency` akan diisi dengan nilai `Other`\n",
        "* customer dengan nilai `FN=1` dan `club_member_status=PRE_CREATE`, kita akan asumsikan bahwa customer tersebut masih dalam proses pembuatan akun / member, sehingga perlu jenis nilai yang berbeda. Oleh karena itu, kita akan isi nilai `nan` pada `fashion_news_frequency` dengan nilai `Not Yet`."
      ]
    },
    {
      "cell_type": "code",
      "execution_count": null,
      "metadata": {
        "id": "Sm2vTLUBdZAY"
      },
      "outputs": [],
      "source": [
        "def fill_fn_freq_nan(row):\n",
        "    if row.fashion_news_frequency is not np.nan:\n",
        "        return row.fashion_news_frequency\n",
        "\n",
        "    if row.FN == 0:\n",
        "        return \"Never\"\n",
        "\n",
        "    if (row.FN == 1) & (row.club_member_status == \"ACTIVE\"):\n",
        "        return \"Other\"\n",
        "    if (row.FN == 1) & (row.club_member_status is np.nan):\n",
        "        return \"Other\"\n",
        "\n",
        "    if (row.FN == 1) & (row.club_member_status == \"PRE-CREATE\"):\n",
        "        return \"Not Yet\""
      ]
    },
    {
      "cell_type": "code",
      "execution_count": null,
      "metadata": {
        "id": "HvE1FW7Ik42J"
      },
      "outputs": [],
      "source": [
        "df_customers[\"fashion_news_frequency\"] = df_customers.apply(fill_fn_freq_nan, axis=1)"
      ]
    },
    {
      "cell_type": "code",
      "execution_count": null,
      "metadata": {
        "colab": {
          "base_uri": "https://localhost:8080/"
        },
        "id": "GZjtMdO8lVF-",
        "outputId": "9d283515-c0ff-48de-fdb0-6b2fe469bb11"
      },
      "outputs": [
        {
          "name": "stdout",
          "output_type": "stream",
          "text": [
            "FN   club_member_status  fashion_news_frequency\n",
            "0.0  ACTIVE              Never                     799632\n",
            "1.0  ACTIVE              Regularly                 469284\n",
            "0.0  PRE-CREATE          Never                      87106\n",
            "1.0  PRE-CREATE          Regularly                   5708\n",
            "0.0  ACTIVE              Regularly                   2020\n",
            "1.0  ACTIVE              Other                        777\n",
            "                         Monthly                      765\n",
            "0.0  LEFT CLUB           Never                        459\n",
            "     PRE-CREATE          Regularly                     79\n",
            "1.0  PRE-CREATE          Monthly                       59\n",
            "0.0  ACTIVE              Monthly                       13\n",
            "1.0  LEFT CLUB           Regularly                      8\n",
            "     PRE-CREATE          Not Yet                        8\n",
            "dtype: int64\n",
            "------\n",
            "<class 'pandas.core.frame.DataFrame'>\n",
            "RangeIndex: 1371980 entries, 0 to 1371979\n",
            "Data columns (total 7 columns):\n",
            " #   Column                  Non-Null Count    Dtype  \n",
            "---  ------                  --------------    -----  \n",
            " 0   customer_id             1371980 non-null  object \n",
            " 1   FN                      1371980 non-null  float64\n",
            " 2   Active                  1371980 non-null  float64\n",
            " 3   club_member_status      1365918 non-null  object \n",
            " 4   fashion_news_frequency  1371980 non-null  object \n",
            " 5   age                     1356119 non-null  float64\n",
            " 6   postal_code             1371980 non-null  object \n",
            "dtypes: float64(3), object(4)\n",
            "memory usage: 73.3+ MB\n"
          ]
        }
      ],
      "source": [
        "print(df_customers[[\"FN\", \"club_member_status\", \"fashion_news_frequency\"]].value_counts())\n",
        "print('------')\n",
        "df_customers.info()"
      ]
    },
    {
      "cell_type": "markdown",
      "metadata": {
        "id": "kB3Nms2joE7T"
      },
      "source": [
        "* Berdasarkan info Non-Null di atas, maka kita lihat _missing values_ pada fitur `club_member_status`."
      ]
    },
    {
      "cell_type": "code",
      "execution_count": null,
      "metadata": {
        "colab": {
          "base_uri": "https://localhost:8080/"
        },
        "id": "w5okbU09nBEM",
        "outputId": "59b3386f-51ff-4ac1-f8d5-308ad52544fd"
      },
      "outputs": [
        {
          "data": {
            "text/plain": [
              "Active  club_member_status\n",
              "0.0     ACTIVE                814039\n",
              "1.0     ACTIVE                458452\n",
              "0.0     PRE-CREATE             87329\n",
              "        NaN                     5744\n",
              "1.0     PRE-CREATE              5631\n",
              "0.0     LEFT CLUB                464\n",
              "1.0     NaN                      318\n",
              "        LEFT CLUB                  3\n",
              "dtype: int64"
            ]
          },
          "execution_count": 34,
          "metadata": {},
          "output_type": "execute_result"
        }
      ],
      "source": [
        "df_customers[[\"Active\", \"club_member_status\",]].value_counts(dropna=False)"
      ]
    },
    {
      "cell_type": "markdown",
      "metadata": {
        "id": "xoWNb9HTp-S-"
      },
      "source": [
        "> **Insights:**\n",
        "\n",
        "Jika kita lihat distribusi nilai `club_member_status` berdasarkan nilai pada fitur `Active, bisa disimpulkan:\n",
        "* untuk customer dengan `Active=0`, kita akan isi `nan` pada `club_member_status` dengan `NON-ACTIVE`\n",
        "* untuk customer dengan `Active=1`, kita akan isi dengan nilai `UNKNOWN`"
      ]
    },
    {
      "cell_type": "code",
      "execution_count": null,
      "metadata": {
        "id": "wF1Y0ze1pHs4"
      },
      "outputs": [],
      "source": [
        "# Buat function berdasarkan kondisi di atas\n",
        "def fill_member_status_nan(row):\n",
        "    if row.club_member_status is not np.nan:\n",
        "        return row.club_member_status\n",
        "\n",
        "    if row.Active == 0:\n",
        "        return \"NON-ACTIVE\"\n",
        "    return \"UNKNOWN\""
      ]
    },
    {
      "cell_type": "code",
      "execution_count": null,
      "metadata": {
        "id": "bvK2prFpszJF"
      },
      "outputs": [],
      "source": [
        "# Terapkan function apply() pada kolom club_member_status\n",
        "df_customers[\"club_member_status\"] = df_customers.apply(fill_member_status_nan, axis=1)"
      ]
    },
    {
      "cell_type": "code",
      "execution_count": null,
      "metadata": {
        "colab": {
          "base_uri": "https://localhost:8080/"
        },
        "id": "KDVdRnW6tFx4",
        "outputId": "fb093ab7-e131-4956-8059-abe02592f4ac"
      },
      "outputs": [
        {
          "name": "stdout",
          "output_type": "stream",
          "text": [
            "Active  club_member_status\n",
            "0.0     ACTIVE                814039\n",
            "1.0     ACTIVE                458452\n",
            "0.0     PRE-CREATE             87329\n",
            "        NON-ACTIVE              5744\n",
            "1.0     PRE-CREATE              5631\n",
            "0.0     LEFT CLUB                464\n",
            "1.0     UNKNOWN                  318\n",
            "        LEFT CLUB                  3\n",
            "dtype: int64\n",
            "<class 'pandas.core.frame.DataFrame'>\n",
            "RangeIndex: 1371980 entries, 0 to 1371979\n",
            "Data columns (total 7 columns):\n",
            " #   Column                  Non-Null Count    Dtype  \n",
            "---  ------                  --------------    -----  \n",
            " 0   customer_id             1371980 non-null  object \n",
            " 1   FN                      1371980 non-null  float64\n",
            " 2   Active                  1371980 non-null  float64\n",
            " 3   club_member_status      1371980 non-null  object \n",
            " 4   fashion_news_frequency  1371980 non-null  object \n",
            " 5   age                     1356119 non-null  float64\n",
            " 6   postal_code             1371980 non-null  object \n",
            "dtypes: float64(3), object(4)\n",
            "memory usage: 73.3+ MB\n"
          ]
        }
      ],
      "source": [
        "print(df_customers[[\"Active\", \"club_member_status\"]].value_counts())\n",
        "df_customers.info()"
      ]
    },
    {
      "cell_type": "markdown",
      "metadata": {
        "id": "wWbaEixztML5"
      },
      "source": [
        "* Selanjutnya, kolom yang ada _missing values_ yaitu fitur `age`, untuk penyederhanaan, kita akan isi dengan nilai median fitur tersebut."
      ]
    },
    {
      "cell_type": "code",
      "execution_count": null,
      "metadata": {
        "id": "QFZgUwFHtkjs"
      },
      "outputs": [],
      "source": [
        "df_customers[\"age\"] = df_customers.age.fillna(df_customers.age.median())"
      ]
    },
    {
      "cell_type": "code",
      "execution_count": null,
      "metadata": {
        "colab": {
          "base_uri": "https://localhost:8080/"
        },
        "id": "DveKD8QHtvEi",
        "outputId": "f28b4dfe-f7b2-4fbd-f902-3be8962b9d77"
      },
      "outputs": [
        {
          "name": "stdout",
          "output_type": "stream",
          "text": [
            "<class 'pandas.core.frame.DataFrame'>\n",
            "RangeIndex: 1371980 entries, 0 to 1371979\n",
            "Data columns (total 7 columns):\n",
            " #   Column                  Non-Null Count    Dtype  \n",
            "---  ------                  --------------    -----  \n",
            " 0   customer_id             1371980 non-null  object \n",
            " 1   FN                      1371980 non-null  float64\n",
            " 2   Active                  1371980 non-null  float64\n",
            " 3   club_member_status      1371980 non-null  object \n",
            " 4   fashion_news_frequency  1371980 non-null  object \n",
            " 5   age                     1371980 non-null  float64\n",
            " 6   postal_code             1371980 non-null  object \n",
            "dtypes: float64(3), object(4)\n",
            "memory usage: 73.3+ MB\n"
          ]
        }
      ],
      "source": [
        "df_customers.info()"
      ]
    },
    {
      "cell_type": "markdown",
      "metadata": {
        "id": "Q8JlTbDptxhw"
      },
      "source": [
        "#### 2.2.2 Data Visualization"
      ]
    },
    {
      "cell_type": "code",
      "execution_count": null,
      "metadata": {
        "colab": {
          "base_uri": "https://localhost:8080/",
          "height": 388
        },
        "id": "ArlWbF3rtwYX",
        "outputId": "58c97cb8-9c20-4aa7-84ad-fd52f111690b"
      },
      "outputs": [
        {
          "data": {
            "image/png": "[encoded data removed]",
            "text/plain": [
              "<Figure size 864x432 with 1 Axes>"
            ]
          },
          "metadata": {},
          "output_type": "display_data"
        }
      ],
      "source": [
        "plot_count(x=\"FN\", data=df_customers)\n",
        "plt.xticks([0, 1], [\"Not Subscribed\", \"Subscribed\"])\n",
        "plt.show()"
      ]
    },
    {
      "cell_type": "markdown",
      "metadata": {
        "id": "dpY7AJiOt5PK"
      },
      "source": [
        "* Dari visualisasi di atas, terlihat bahwa **kebanyakan customer H&M tidak mendapatkan newsletter**."
      ]
    },
    {
      "cell_type": "code",
      "execution_count": null,
      "metadata": {
        "colab": {
          "base_uri": "https://localhost:8080/",
          "height": 388
        },
        "id": "iTaSu5Lxt5Jx",
        "outputId": "42b09cc1-cce2-40a3-f77b-ebf10b47753f"
      },
      "outputs": [
        {
          "data": {
            "image/png": "[encoded data removed]",
            "text/plain": [
              "<Figure size 864x432 with 1 Axes>"
            ]
          },
          "metadata": {},
          "output_type": "display_data"
        }
      ],
      "source": [
        "plot_count(x=\"Active\", data=df_customers)\n",
        "plt.xticks([0, 1], [\"Not Active\", \"Active\"])\n",
        "plt.show()"
      ]
    },
    {
      "cell_type": "markdown",
      "metadata": {
        "id": "yoHVkD7huVsu"
      },
      "source": [
        "* Kebanyakan dari customer juga **tidak aktif untuk berkomunikasi**."
      ]
    },
    {
      "cell_type": "code",
      "execution_count": null,
      "metadata": {
        "colab": {
          "base_uri": "https://localhost:8080/",
          "height": 400
        },
        "id": "qhAG02oqt49k",
        "outputId": "9b212af6-3070-4c17-f3c7-2e8048204e21"
      },
      "outputs": [
        {
          "data": {
            "image/png": "[encoded data removed]",
            "text/plain": [
              "<Figure size 864x432 with 1 Axes>"
            ]
          },
          "metadata": {},
          "output_type": "display_data"
        }
      ],
      "source": [
        "plot_count(x=\"club_member_status\", data=df_customers)\n",
        "plt.show()"
      ]
    },
    {
      "cell_type": "markdown",
      "metadata": {
        "id": "NRuAA8KxuvCa"
      },
      "source": [
        "* Namun secara umum, status keanggotaan customer adalah **`ACTIVE`**."
      ]
    },
    {
      "cell_type": "code",
      "execution_count": null,
      "metadata": {
        "colab": {
          "base_uri": "https://localhost:8080/",
          "height": 389
        },
        "id": "VQogrqcjuu7Z",
        "outputId": "3ffecdeb-1f8a-4813-bf00-7a0129cdd637"
      },
      "outputs": [
        {
          "data": {
            "image/png": "[encoded data removed]",
            "text/plain": [
              "<Figure size 864x432 with 1 Axes>"
            ]
          },
          "metadata": {},
          "output_type": "display_data"
        }
      ],
      "source": [
        "plot_count(x=\"fashion_news_frequency\", data=df_customers)\n",
        "plt.show()"
      ]
    },
    {
      "cell_type": "markdown",
      "metadata": {
        "id": "BkHkgeW0u82e"
      },
      "source": [
        "* Terlihat juga bahwa kebanyakan customer **tidak pernah mendapatkan berita fashion dari H&M**. Hal ini juga sangat masuk akal karena banyak customer yang tidak mengikuti _newsletter_ dari H&M."
      ]
    },
    {
      "cell_type": "code",
      "execution_count": null,
      "metadata": {
        "colab": {
          "base_uri": "https://localhost:8080/",
          "height": 388
        },
        "id": "ojo8o2OSuuxf",
        "outputId": "4dd96e00-b560-49dc-d361-ba130ec3d602"
      },
      "outputs": [
        {
          "data": {
            "image/png": "[encoded data removed]",
            "text/plain": [
              "<Figure size 864x432 with 1 Axes>"
            ]
          },
          "metadata": {},
          "output_type": "display_data"
        }
      ],
      "source": [
        "plt.figure(figsize=(12, 6))\n",
        "sns.boxplot(x=\"age\", data=df_customers)\n",
        "plt.show()"
      ]
    },
    {
      "cell_type": "markdown",
      "metadata": {
        "id": "D00O7gPDv95z"
      },
      "source": [
        "> **Insights:**\n",
        "\n",
        "* Dari visualisasi boxplot di atas, terlihat bahwa terdapat pencilan di mana umur customer lebih dari 80 tahun. Ini mungkin sangat menarik untuk ditinjau lebih jauh lagi bagaimana transaksi yang mereka lakukan yang tercermin dalam data transaksi.\n",
        "\n",
        "* Kita bisa eksplor lebih jauh lagi, seperti membuat visualisasi yang mengombinasikan beberapa fitur kategorik pada data customer."
      ]
    },
    {
      "cell_type": "markdown",
      "metadata": {
        "id": "GA3O9Hbewxnn"
      },
      "source": [
        "### 2.3 Transactions\n",
        "\n",
        "* Kita akan lakukan **join** antara data artikel dan customer dengan data transkasi. Kita bisa menggunakan `merge` atau `join` dari Pandas.\n",
        "\n",
        "* Tapi, sebelum itu, kita akan coba mengubah beberapa tipe data di data transaksi yang mungkin kurang tepat."
      ]
    },
    {
      "cell_type": "code",
      "execution_count": null,
      "metadata": {
        "colab": {
          "base_uri": "https://localhost:8080/"
        },
        "id": "20vBFU3UZA7h",
        "outputId": "11ab056c-7bc5-4ead-dcc1-7578d256b732"
      },
      "outputs": [
        {
          "name": "stdout",
          "output_type": "stream",
          "text": [
            "<class 'pandas.core.frame.DataFrame'>\n",
            "RangeIndex: 31788324 entries, 0 to 31788323\n",
            "Data columns (total 5 columns):\n",
            " #   Column            Dtype         \n",
            "---  ------            -----         \n",
            " 0   t_dat             datetime64[ns]\n",
            " 1   customer_id       object        \n",
            " 2   article_id        object        \n",
            " 3   price             float64       \n",
            " 4   sales_channel_id  int64         \n",
            "dtypes: datetime64[ns](1), float64(1), int64(1), object(2)\n",
            "memory usage: 1.2+ GB\n"
          ]
        }
      ],
      "source": [
        "df_transactions[\"t_dat\"] = df_transactions.t_dat.astype(\"datetime64\")\n",
        "df_transactions[\"article_id\"] = df_transactions.article_id.astype(\"object\")\n",
        "df_transactions.info()"
      ]
    },
    {
      "cell_type": "markdown",
      "metadata": {
        "id": "UB6pcN0EZ3Zs"
      },
      "source": [
        "* Untuk melakukan join, **data transaksi** akan bertindak sebagai **right table** dan **data artikel dan customer** akan bertindak sebagai **left table**.\n",
        "\n",
        "* Selain itu, karena kita tidak ingin kehilangan data transaksi meskipun (mungkin) tidak memiliki pasangan di data artikel ataupun customer, kita akan menggunakan prinsip **right join**.\n",
        "\n",
        "* Karena alasan keterbatasan RAM Google Colab, kita akan menggunakan sebagian data transaksi saja, yaitu **data transaksi dari bulan Juni 2020 sampai transaksi terakhir**"
      ]
    },
    {
      "cell_type": "code",
      "execution_count": null,
      "metadata": {
        "colab": {
          "base_uri": "https://localhost:8080/"
        },
        "id": "3HZbv8vzwLXx",
        "outputId": "4312292d-5ec8-4356-c20f-fb67afdd5fc1"
      },
      "outputs": [
        {
          "name": "stdout",
          "output_type": "stream",
          "text": [
            "<class 'pandas.core.frame.DataFrame'>\n",
            "RangeIndex: 5151470 entries, 0 to 5151469\n",
            "Data columns (total 5 columns):\n",
            " #   Column            Dtype         \n",
            "---  ------            -----         \n",
            " 0   t_dat             datetime64[ns]\n",
            " 1   customer_id       object        \n",
            " 2   article_id        object        \n",
            " 3   price             float64       \n",
            " 4   sales_channel_id  int64         \n",
            "dtypes: datetime64[ns](1), float64(1), int64(1), object(2)\n",
            "memory usage: 196.5+ MB\n"
          ]
        }
      ],
      "source": [
        "# Filter data transaksi\n",
        "df_transactions = df_transactions[df_transactions.t_dat >= \"2020-06\"].reset_index(drop=True)\n",
        "df_transactions.info()"
      ]
    },
    {
      "cell_type": "code",
      "execution_count": null,
      "metadata": {
        "id": "5D33BqdganqL"
      },
      "outputs": [],
      "source": [
        "# Lakukan merge() pada artikel dengan transaksi\n",
        "df_article_transactions = df_articles.merge(df_transactions, how=\"right\", on=\"article_id\")\n",
        "\n",
        "# Lakukan merge() pada gabungan artikel transaksi dengan data customer\n",
        "df_all = df_customers.merge(df_article_transactions, how=\"right\", on=\"customer_id\")"
      ]
    },
    {
      "cell_type": "code",
      "execution_count": null,
      "metadata": {
        "colab": {
          "base_uri": "https://localhost:8080/"
        },
        "id": "dd_QqxXFcUb8",
        "outputId": "2f93c73a-5f07-4be8-9f8c-d8e5d6f37bb3"
      },
      "outputs": [
        {
          "name": "stdout",
          "output_type": "stream",
          "text": [
            "<class 'pandas.core.frame.DataFrame'>\n",
            "Int64Index: 5151470 entries, 0 to 5151469\n",
            "Data columns (total 35 columns):\n",
            " #   Column                        Dtype         \n",
            "---  ------                        -----         \n",
            " 0   customer_id                   object        \n",
            " 1   FN                            float64       \n",
            " 2   Active                        float64       \n",
            " 3   club_member_status            object        \n",
            " 4   fashion_news_frequency        object        \n",
            " 5   age                           float64       \n",
            " 6   postal_code                   object        \n",
            " 7   article_id                    object        \n",
            " 8   product_code                  object        \n",
            " 9   prod_name                     object        \n",
            " 10  product_type_no               object        \n",
            " 11  product_type_name             object        \n",
            " 12  product_group_name            object        \n",
            " 13  graphical_appearance_no       object        \n",
            " 14  graphical_appearance_name     object        \n",
            " 15  colour_group_code             object        \n",
            " 16  colour_group_name             object        \n",
            " 17  perceived_colour_value_id     object        \n",
            " 18  perceived_colour_value_name   object        \n",
            " 19  perceived_colour_master_id    object        \n",
            " 20  perceived_colour_master_name  object        \n",
            " 21  department_no                 object        \n",
            " 22  department_name               object        \n",
            " 23  index_code                    object        \n",
            " 24  index_name                    object        \n",
            " 25  index_group_no                object        \n",
            " 26  index_group_name              object        \n",
            " 27  section_no                    object        \n",
            " 28  section_name                  object        \n",
            " 29  garment_group_no              object        \n",
            " 30  garment_group_name            object        \n",
            " 31  detail_desc                   object        \n",
            " 32  t_dat                         datetime64[ns]\n",
            " 33  price                         float64       \n",
            " 34  sales_channel_id              int64         \n",
            "dtypes: datetime64[ns](1), float64(4), int64(1), object(29)\n",
            "memory usage: 1.4+ GB\n"
          ]
        }
      ],
      "source": [
        "df_all.info()"
      ]
    },
    {
      "cell_type": "code",
      "execution_count": null,
      "metadata": {
        "colab": {
          "base_uri": "https://localhost:8080/"
        },
        "id": "Ichja0W2dhWM",
        "outputId": "ef88c0aa-18b1-4467-a2ca-1846ba19a17b"
      },
      "outputs": [
        {
          "data": {
            "text/plain": [
              "customer_id                        0\n",
              "FN                                 0\n",
              "Active                             0\n",
              "club_member_status                 0\n",
              "fashion_news_frequency             0\n",
              "age                                0\n",
              "postal_code                        0\n",
              "article_id                         0\n",
              "product_code                       0\n",
              "prod_name                          0\n",
              "product_type_no                    0\n",
              "product_type_name                  0\n",
              "product_group_name                 0\n",
              "graphical_appearance_no            0\n",
              "graphical_appearance_name          0\n",
              "colour_group_code                  0\n",
              "colour_group_name                  0\n",
              "perceived_colour_value_id          0\n",
              "perceived_colour_value_name        0\n",
              "perceived_colour_master_id         0\n",
              "perceived_colour_master_name       0\n",
              "department_no                      0\n",
              "department_name                    0\n",
              "index_code                         0\n",
              "index_name                         0\n",
              "index_group_no                     0\n",
              "index_group_name                   0\n",
              "section_no                         0\n",
              "section_name                       0\n",
              "garment_group_no                   0\n",
              "garment_group_name                 0\n",
              "detail_desc                     3614\n",
              "t_dat                              0\n",
              "price                              0\n",
              "sales_channel_id                   0\n",
              "dtype: int64"
            ]
          },
          "execution_count": 49,
          "metadata": {},
          "output_type": "execute_result"
        }
      ],
      "source": [
        "df_all.isna().sum()"
      ]
    },
    {
      "cell_type": "code",
      "execution_count": null,
      "metadata": {
        "colab": {
          "base_uri": "https://localhost:8080/",
          "height": 594
        },
        "id": "X1h9U6BarNZk",
        "outputId": "56523709-7944-4fb0-ff0f-8aa8058ae08d"
      },
      "outputs": [
        {
          "data": {
            "text/html": [
              "\n",
              "  <div id=\"df-d8218ebd-96f9-4e95-b469-68287d8b472c\">\n",
              "    <div class=\"colab-df-container\">\n",
              "      <div>\n",
              "<style scoped>\n",
              "    .dataframe tbody tr th:only-of-type {\n",
              "        vertical-align: middle;\n",
              "    }\n",
              "\n",
              "    .dataframe tbody tr th {\n",
              "        vertical-align: top;\n",
              "    }\n",
              "\n",
              "    .dataframe thead th {\n",
              "        text-align: right;\n",
              "    }\n",
              "</style>\n",
              "<table border=\"1\" class=\"dataframe\">\n",
              "  <thead>\n",
              "    <tr style=\"text-align: right;\">\n",
              "      <th></th>\n",
              "      <th>customer_id</th>\n",
              "      <th>FN</th>\n",
              "      <th>Active</th>\n",
              "      <th>club_member_status</th>\n",
              "      <th>fashion_news_frequency</th>\n",
              "      <th>age</th>\n",
              "      <th>postal_code</th>\n",
              "      <th>article_id</th>\n",
              "      <th>product_code</th>\n",
              "      <th>prod_name</th>\n",
              "      <th>...</th>\n",
              "      <th>index_group_no</th>\n",
              "      <th>index_group_name</th>\n",
              "      <th>section_no</th>\n",
              "      <th>section_name</th>\n",
              "      <th>garment_group_no</th>\n",
              "      <th>garment_group_name</th>\n",
              "      <th>detail_desc</th>\n",
              "      <th>t_dat</th>\n",
              "      <th>price</th>\n",
              "      <th>sales_channel_id</th>\n",
              "    </tr>\n",
              "  </thead>\n",
              "  <tbody>\n",
              "    <tr>\n",
              "      <th>0</th>\n",
              "      <td>00075ef36696a7b4ed8c83e22a4bf7ea7c90ee110991ec...</td>\n",
              "      <td>0.0</td>\n",
              "      <td>0.0</td>\n",
              "      <td>ACTIVE</td>\n",
              "      <td>Never</td>\n",
              "      <td>40.0</td>\n",
              "      <td>0c0e15f8fa88a1d4aa6ca8a0b4a8289ca1affbaebdea22...</td>\n",
              "      <td>844198001</td>\n",
              "      <td>844198</td>\n",
              "      <td>Saturn trs (J)</td>\n",
              "      <td>...</td>\n",
              "      <td>1</td>\n",
              "      <td>Ladieswear</td>\n",
              "      <td>62</td>\n",
              "      <td>Womens Nightwear, Socks &amp; Tigh</td>\n",
              "      <td>1017</td>\n",
              "      <td>Under-, Nightwear</td>\n",
              "      <td>Pyjama bottoms in sweatshirt fabric with wide ...</td>\n",
              "      <td>2020-06-01</td>\n",
              "      <td>0.016932</td>\n",
              "      <td>2</td>\n",
              "    </tr>\n",
              "    <tr>\n",
              "      <th>1</th>\n",
              "      <td>000b31552d3785c79833262bbeefa484cbc43d7b612b3c...</td>\n",
              "      <td>1.0</td>\n",
              "      <td>1.0</td>\n",
              "      <td>ACTIVE</td>\n",
              "      <td>Regularly</td>\n",
              "      <td>59.0</td>\n",
              "      <td>2c29ae653a9282cce4151bd87643c907644e09541abc28...</td>\n",
              "      <td>777016001</td>\n",
              "      <td>777016</td>\n",
              "      <td>Cisco skirt</td>\n",
              "      <td>...</td>\n",
              "      <td>1</td>\n",
              "      <td>Ladieswear</td>\n",
              "      <td>18</td>\n",
              "      <td>Womens Trend</td>\n",
              "      <td>1009</td>\n",
              "      <td>Trousers</td>\n",
              "      <td>Calf-length skirt in softly draping, patterned...</td>\n",
              "      <td>2020-06-01</td>\n",
              "      <td>0.030492</td>\n",
              "      <td>1</td>\n",
              "    </tr>\n",
              "    <tr>\n",
              "      <th>2</th>\n",
              "      <td>002d8d26c9414c981c012c6f5e4b2de7ffd3bc568c4574...</td>\n",
              "      <td>0.0</td>\n",
              "      <td>0.0</td>\n",
              "      <td>ACTIVE</td>\n",
              "      <td>Never</td>\n",
              "      <td>23.0</td>\n",
              "      <td>8d4ceb946237cf52ce5c2a1a71d1221fde77627a52d661...</td>\n",
              "      <td>820507001</td>\n",
              "      <td>820507</td>\n",
              "      <td>Charlotte Hipster Primula</td>\n",
              "      <td>...</td>\n",
              "      <td>1</td>\n",
              "      <td>Ladieswear</td>\n",
              "      <td>61</td>\n",
              "      <td>Womens Lingerie</td>\n",
              "      <td>1017</td>\n",
              "      <td>Under-, Nightwear</td>\n",
              "      <td>Hipster briefs in lace with a mid waist, lined...</td>\n",
              "      <td>2020-06-01</td>\n",
              "      <td>0.010153</td>\n",
              "      <td>2</td>\n",
              "    </tr>\n",
              "    <tr>\n",
              "      <th>3</th>\n",
              "      <td>002d8d26c9414c981c012c6f5e4b2de7ffd3bc568c4574...</td>\n",
              "      <td>0.0</td>\n",
              "      <td>0.0</td>\n",
              "      <td>ACTIVE</td>\n",
              "      <td>Never</td>\n",
              "      <td>23.0</td>\n",
              "      <td>8d4ceb946237cf52ce5c2a1a71d1221fde77627a52d661...</td>\n",
              "      <td>869811005</td>\n",
              "      <td>869811</td>\n",
              "      <td>OLEANDER LINEN STRAP TOP</td>\n",
              "      <td>...</td>\n",
              "      <td>1</td>\n",
              "      <td>Ladieswear</td>\n",
              "      <td>6</td>\n",
              "      <td>Womens Casual</td>\n",
              "      <td>1005</td>\n",
              "      <td>Jersey Fancy</td>\n",
              "      <td>Top in slub jersey made from a viscose and lin...</td>\n",
              "      <td>2020-06-01</td>\n",
              "      <td>0.016932</td>\n",
              "      <td>2</td>\n",
              "    </tr>\n",
              "    <tr>\n",
              "      <th>4</th>\n",
              "      <td>002d8d26c9414c981c012c6f5e4b2de7ffd3bc568c4574...</td>\n",
              "      <td>0.0</td>\n",
              "      <td>0.0</td>\n",
              "      <td>ACTIVE</td>\n",
              "      <td>Never</td>\n",
              "      <td>23.0</td>\n",
              "      <td>8d4ceb946237cf52ce5c2a1a71d1221fde77627a52d661...</td>\n",
              "      <td>823118004</td>\n",
              "      <td>823118</td>\n",
              "      <td>Ginger Top</td>\n",
              "      <td>...</td>\n",
              "      <td>1</td>\n",
              "      <td>Ladieswear</td>\n",
              "      <td>60</td>\n",
              "      <td>Womens Swimwear, beachwear</td>\n",
              "      <td>1018</td>\n",
              "      <td>Swimwear</td>\n",
              "      <td>Fully lined, non-wired bikini top with adjusta...</td>\n",
              "      <td>2020-06-01</td>\n",
              "      <td>0.025407</td>\n",
              "      <td>2</td>\n",
              "    </tr>\n",
              "  </tbody>\n",
              "</table>\n",
              "<p>5 rows × 35 columns</p>\n",
              "</div>\n",
              "      <button class=\"colab-df-convert\" onclick=\"convertToInteractive('df-d8218ebd-96f9-4e95-b469-68287d8b472c')\"\n",
              "              title=\"Convert this dataframe to an interactive table.\"\n",
              "              style=\"display:none;\">\n",
              "        \n",
              "  <svg xmlns=\"http://www.w3.org/2000/svg\" height=\"24px\"viewBox=\"0 0 24 24\"\n",
              "       width=\"24px\">\n",
              "    <path d=\"M0 0h24v24H0V0z\" fill=\"none\"/>\n",
              "    <path d=\"M18.56 5.44l.94 2.06.94-2.06 2.06-.94-2.06-.94-.94-2.06-.94 2.06-2.06.94zm-11 1L8.5 8.5l.94-2.06 2.06-.94-2.06-.94L8.5 2.5l-.94 2.06-2.06.94zm10 10l.94 2.06.94-2.06 2.06-.94-2.06-.94-.94-2.06-.94 2.06-2.06.94z\"/><path d=\"M17.41 7.96l-1.37-1.37c-.4-.4-.92-.59-1.43-.59-.52 0-1.04.2-1.43.59L10.3 9.45l-7.72 7.72c-.78.78-.78 2.05 0 2.83L4 21.41c.39.39.9.59 1.41.59.51 0 1.02-.2 1.41-.59l7.78-7.78 2.81-2.81c.8-.78.8-2.07 0-2.86zM5.41 20L4 18.59l7.72-7.72 1.47 1.35L5.41 20z\"/>\n",
              "  </svg>\n",
              "      </button>\n",
              "      \n",
              "  <style>\n",
              "    .colab-df-container {\n",
              "      display:flex;\n",
              "      flex-wrap:wrap;\n",
              "      gap: 12px;\n",
              "    }\n",
              "\n",
              "    .colab-df-convert {\n",
              "      background-color: #E8F0FE;\n",
              "      border: none;\n",
              "      border-radius: 50%;\n",
              "      cursor: pointer;\n",
              "      display: none;\n",
              "      fill: #1967D2;\n",
              "      height: 32px;\n",
              "      padding: 0 0 0 0;\n",
              "      width: 32px;\n",
              "    }\n",
              "\n",
              "    .colab-df-convert:hover {\n",
              "      background-color: #E2EBFA;\n",
              "      box-shadow: 0px 1px 2px rgba(60, 64, 67, 0.3), 0px 1px 3px 1px rgba(60, 64, 67, 0.15);\n",
              "      fill: #174EA6;\n",
              "    }\n",
              "\n",
              "    [theme=dark] .colab-df-convert {\n",
              "      background-color: #3B4455;\n",
              "      fill: #D2E3FC;\n",
              "    }\n",
              "\n",
              "    [theme=dark] .colab-df-convert:hover {\n",
              "      background-color: #434B5C;\n",
              "      box-shadow: 0px 1px 3px 1px rgba(0, 0, 0, 0.15);\n",
              "      filter: drop-shadow(0px 1px 2px rgba(0, 0, 0, 0.3));\n",
              "      fill: #FFFFFF;\n",
              "    }\n",
              "  </style>\n",
              "\n",
              "      <script>\n",
              "        const buttonEl =\n",
              "          document.querySelector('#df-d8218ebd-96f9-4e95-b469-68287d8b472c button.colab-df-convert');\n",
              "        buttonEl.style.display =\n",
              "          google.colab.kernel.accessAllowed ? 'block' : 'none';\n",
              "\n",
              "        async function convertToInteractive(key) {\n",
              "          const element = document.querySelector('#df-d8218ebd-96f9-4e95-b469-68287d8b472c');\n",
              "          const dataTable =\n",
              "            await google.colab.kernel.invokeFunction('convertToInteractive',\n",
              "                                                     [key], {});\n",
              "          if (!dataTable) return;\n",
              "\n",
              "          const docLinkHtml = 'Like what you see? Visit the ' +\n",
              "            '<a target=\"_blank\" href=https://colab.research.google.com/notebooks/data_table.ipynb>data table notebook</a>'\n",
              "            + ' to learn more about interactive tables.';\n",
              "          element.innerHTML = '';\n",
              "          dataTable['output_type'] = 'display_data';\n",
              "          await google.colab.output.renderOutput(dataTable, element);\n",
              "          const docLink = document.createElement('div');\n",
              "          docLink.innerHTML = docLinkHtml;\n",
              "          element.appendChild(docLink);\n",
              "        }\n",
              "      </script>\n",
              "    </div>\n",
              "  </div>\n",
              "  "
            ],
            "text/plain": [
              "                                         customer_id   FN  Active  \\\n",
              "0  00075ef36696a7b4ed8c83e22a4bf7ea7c90ee110991ec...  0.0     0.0   \n",
              "1  000b31552d3785c79833262bbeefa484cbc43d7b612b3c...  1.0     1.0   \n",
              "2  002d8d26c9414c981c012c6f5e4b2de7ffd3bc568c4574...  0.0     0.0   \n",
              "3  002d8d26c9414c981c012c6f5e4b2de7ffd3bc568c4574...  0.0     0.0   \n",
              "4  002d8d26c9414c981c012c6f5e4b2de7ffd3bc568c4574...  0.0     0.0   \n",
              "\n",
              "  club_member_status fashion_news_frequency   age  \\\n",
              "0             ACTIVE                  Never  40.0   \n",
              "1             ACTIVE              Regularly  59.0   \n",
              "2             ACTIVE                  Never  23.0   \n",
              "3             ACTIVE                  Never  23.0   \n",
              "4             ACTIVE                  Never  23.0   \n",
              "\n",
              "                                         postal_code article_id product_code  \\\n",
              "0  0c0e15f8fa88a1d4aa6ca8a0b4a8289ca1affbaebdea22...  844198001       844198   \n",
              "1  2c29ae653a9282cce4151bd87643c907644e09541abc28...  777016001       777016   \n",
              "2  8d4ceb946237cf52ce5c2a1a71d1221fde77627a52d661...  820507001       820507   \n",
              "3  8d4ceb946237cf52ce5c2a1a71d1221fde77627a52d661...  869811005       869811   \n",
              "4  8d4ceb946237cf52ce5c2a1a71d1221fde77627a52d661...  823118004       823118   \n",
              "\n",
              "                   prod_name  ... index_group_no index_group_name section_no  \\\n",
              "0             Saturn trs (J)  ...              1       Ladieswear         62   \n",
              "1                Cisco skirt  ...              1       Ladieswear         18   \n",
              "2  Charlotte Hipster Primula  ...              1       Ladieswear         61   \n",
              "3   OLEANDER LINEN STRAP TOP  ...              1       Ladieswear          6   \n",
              "4                 Ginger Top  ...              1       Ladieswear         60   \n",
              "\n",
              "                     section_name garment_group_no garment_group_name  \\\n",
              "0  Womens Nightwear, Socks & Tigh             1017  Under-, Nightwear   \n",
              "1                    Womens Trend             1009           Trousers   \n",
              "2                 Womens Lingerie             1017  Under-, Nightwear   \n",
              "3                   Womens Casual             1005       Jersey Fancy   \n",
              "4      Womens Swimwear, beachwear             1018           Swimwear   \n",
              "\n",
              "                                         detail_desc      t_dat     price  \\\n",
              "0  Pyjama bottoms in sweatshirt fabric with wide ... 2020-06-01  0.016932   \n",
              "1  Calf-length skirt in softly draping, patterned... 2020-06-01  0.030492   \n",
              "2  Hipster briefs in lace with a mid waist, lined... 2020-06-01  0.010153   \n",
              "3  Top in slub jersey made from a viscose and lin... 2020-06-01  0.016932   \n",
              "4  Fully lined, non-wired bikini top with adjusta... 2020-06-01  0.025407   \n",
              "\n",
              "  sales_channel_id  \n",
              "0                2  \n",
              "1                1  \n",
              "2                2  \n",
              "3                2  \n",
              "4                2  \n",
              "\n",
              "[5 rows x 35 columns]"
            ]
          },
          "execution_count": 50,
          "metadata": {},
          "output_type": "execute_result"
        }
      ],
      "source": [
        "# Tampilkan dari gabungan ke-3 data (artikel, customer, dan transaksi)\n",
        "df_all.head()"
      ]
    },
    {
      "cell_type": "markdown",
      "metadata": {
        "id": "wZ4lYbo2fBFg"
      },
      "source": [
        "> Kita tidak akan terlalu banyak melakukan eksplorasi karena alasan keterbatasan waktu, sehingga kamu **sangat disarankan** untuk melakukan **eksplorasi secara mandiri** sesuai dengan kreativitas kamu.\n",
        "\n"
      ]
    },
    {
      "cell_type": "code",
      "execution_count": null,
      "metadata": {
        "colab": {
          "base_uri": "https://localhost:8080/"
        },
        "id": "pq84wntXnOhu",
        "outputId": "21c2c4c5-0d14-4f39-ae26-dc026504de0c"
      },
      "outputs": [
        {
          "name": "stdout",
          "output_type": "stream",
          "text": [
            "Number of unique customers: 599002\n",
            "Number of sold items: 45975\n"
          ]
        }
      ],
      "source": [
        "num_customers = df_all.customer_id.nunique()\n",
        "num_articles = df_all.article_id.nunique()\n",
        "\n",
        "print(\"Number of unique customers:\", num_customers)\n",
        "print(\"Number of sold items:\", num_articles)"
      ]
    },
    {
      "cell_type": "markdown",
      "metadata": {
        "id": "x3AIIqynnL3-"
      },
      "source": [
        "> **Insights:**\n",
        "\n",
        "Dari informasi di atas, sebanyak **~5 juta** pengguna yang bertransaksi mulai dari bulan Juni 2020 dengan total **~45 ribu** produk terjual."
      ]
    },
    {
      "cell_type": "markdown",
      "metadata": {
        "id": "HapiLIO8vO2F"
      },
      "source": [
        "Untuk eksplorasi selanjutnya, dari `df_all` kita akan mengelompokkan data berdasarkan 3 hal:\n",
        "* **tanggal transaksi**\n",
        "* **artikel**\n",
        "* **customer**"
      ]
    },
    {
      "cell_type": "code",
      "execution_count": null,
      "metadata": {
        "id": "eGJh-Yl2ejBE"
      },
      "outputs": [],
      "source": [
        "df_by_day = df_all.groupby(\"t_dat\")\n",
        "df_by_month = df_all.groupby(df_all.t_dat.dt.month)\n",
        "df_by_customers = df_all.groupby(\"customer_id\")\n",
        "df_by_articles = df_all.groupby(\"article_id\")"
      ]
    },
    {
      "cell_type": "code",
      "execution_count": null,
      "metadata": {
        "colab": {
          "base_uri": "https://localhost:8080/",
          "height": 388
        },
        "id": "YIp1Fr8Evg21",
        "outputId": "713e2ebf-4a68-404a-b501-f6c259f15e77"
      },
      "outputs": [
        {
          "data": {
            "image/png": "[encoded data removed]",
            "text/plain": [
              "<Figure size 864x432 with 1 Axes>"
            ]
          },
          "metadata": {},
          "output_type": "display_data"
        }
      ],
      "source": [
        "daily_sales = df_by_day.agg(daily_sales=pd.NamedAgg(column=\"price\", aggfunc=\"sum\")).reset_index()\n",
        "\n",
        "plt.figure(figsize=(12, 6))\n",
        "sns.lineplot(x=\"t_dat\", y=\"daily_sales\", data=daily_sales)\n",
        "plt.xlabel(\"transaction date\")\n",
        "plt.ylabel(\"daily sales\")\n",
        "plt.show()"
      ]
    },
    {
      "cell_type": "markdown",
      "metadata": {
        "id": "LjwO72_hwgDx"
      },
      "source": [
        "> **Question**\n",
        "\n",
        "Kesimpulan apa yang bisa kamu ambil dari tren penjualan harian di atas?\n",
        "\n",
        "---\n",
        "\n"
      ]
    },
    {
      "cell_type": "code",
      "execution_count": null,
      "metadata": {
        "colab": {
          "base_uri": "https://localhost:8080/",
          "height": 389
        },
        "id": "C9bIED7fwfQd",
        "outputId": "4f8575a3-1ada-456a-e9ff-22b8d17950b0"
      },
      "outputs": [
        {
          "data": {
            "image/png": "[encoded data removed]",
            "text/plain": [
              "<Figure size 864x432 with 1 Axes>"
            ]
          },
          "metadata": {},
          "output_type": "display_data"
        }
      ],
      "source": [
        "monthly_sales = df_by_month.agg(monthly_sales=pd.NamedAgg(column=\"price\", aggfunc=\"sum\")).reset_index()\n",
        "\n",
        "plt.figure(figsize=(12, 6))\n",
        "sns.lineplot(x=\"t_dat\", y=\"monthly_sales\", data=monthly_sales)\n",
        "plt.xticks([6, 7, 8, 9], [\"June\", \"July\", \"August\", \"September\"])\n",
        "plt.ylabel(\"total sales\")\n",
        "plt.show()"
      ]
    },
    {
      "cell_type": "markdown",
      "metadata": {
        "id": "7yi8W6FaxEI3"
      },
      "source": [
        "> **Question**\n",
        "\n",
        "Kesimpulan apa yang bisa kamu ambil dari visualisasi tren penjualan bulanan di atas?\n",
        "\n",
        "\n",
        "\n",
        "---\n",
        "\n",
        "\n",
        "\n"
      ]
    },
    {
      "cell_type": "markdown",
      "metadata": {
        "id": "DeMFTQLVqYBh"
      },
      "source": [
        "> Selanjutnya, untuk melihat behavior dari tiap customer dalam melakukan transaksi, kita akan coba untuk mendapatkan fitur seperti:\n",
        "* jumlah total artikel yang dibeli\n",
        "* jumlah jenis artikel yang dibeli (_unique_)\n",
        "* total uang yang dikeluarkan\n",
        "* rata-rata transaksi\n",
        "* jumlah hari transaksi\n",
        "* jumlah varian warna"
      ]
    },
    {
      "cell_type": "code",
      "execution_count": null,
      "metadata": {
        "id": "jRdEWbNGfhaO"
      },
      "outputs": [],
      "source": [
        "df_customers_agg = df_by_customers.agg(\n",
        "    total_items_bought=pd.NamedAgg(\n",
        "        column=\"article_id\", aggfunc=lambda x: len(list(x))\n",
        "    ),\n",
        "    count_items_bought=pd.NamedAgg(\n",
        "        column=\"article_id\", aggfunc=lambda x: len(set(x))\n",
        "    ),\n",
        "    total_spending=pd.NamedAgg(\n",
        "        column=\"price\", aggfunc=lambda x: sum(x)\n",
        "    ),\n",
        "    avg_spending=pd.NamedAgg(\n",
        "        column=\"price\", aggfunc=lambda x: np.mean(x)\n",
        "    ),\n",
        "    count_buying_day=pd.NamedAgg(\n",
        "        column=\"t_dat\", aggfunc=lambda x: len(set(x))\n",
        "    ),\n",
        "    count_colour_bought=pd.NamedAgg(\n",
        "        column=\"perceived_colour_master_name\", aggfunc=lambda x: len(set(x))\n",
        "    ),\n",
        ").reset_index()"
      ]
    },
    {
      "cell_type": "code",
      "execution_count": null,
      "metadata": {
        "colab": {
          "base_uri": "https://localhost:8080/",
          "height": 238
        },
        "id": "xH2kJxfA3A92",
        "outputId": "910b3bfa-41ca-47f0-d68e-1207a03e8046"
      },
      "outputs": [
        {
          "data": {
            "text/html": [
              "\n",
              "  <div id=\"df-911272ec-e5b2-49e7-a25f-83f0269d0742\">\n",
              "    <div class=\"colab-df-container\">\n",
              "      <div>\n",
              "<style scoped>\n",
              "    .dataframe tbody tr th:only-of-type {\n",
              "        vertical-align: middle;\n",
              "    }\n",
              "\n",
              "    .dataframe tbody tr th {\n",
              "        vertical-align: top;\n",
              "    }\n",
              "\n",
              "    .dataframe thead th {\n",
              "        text-align: right;\n",
              "    }\n",
              "</style>\n",
              "<table border=\"1\" class=\"dataframe\">\n",
              "  <thead>\n",
              "    <tr style=\"text-align: right;\">\n",
              "      <th></th>\n",
              "      <th>count</th>\n",
              "      <th>mean</th>\n",
              "      <th>std</th>\n",
              "      <th>min</th>\n",
              "      <th>25%</th>\n",
              "      <th>50%</th>\n",
              "      <th>75%</th>\n",
              "      <th>max</th>\n",
              "    </tr>\n",
              "  </thead>\n",
              "  <tbody>\n",
              "    <tr>\n",
              "      <th>total_items_bought</th>\n",
              "      <td>599002.0</td>\n",
              "      <td>8.600</td>\n",
              "      <td>10.702</td>\n",
              "      <td>1.000</td>\n",
              "      <td>3.000</td>\n",
              "      <td>5.000</td>\n",
              "      <td>11.000</td>\n",
              "      <td>391.000</td>\n",
              "    </tr>\n",
              "    <tr>\n",
              "      <th>count_items_bought</th>\n",
              "      <td>599002.0</td>\n",
              "      <td>7.574</td>\n",
              "      <td>8.798</td>\n",
              "      <td>1.000</td>\n",
              "      <td>2.000</td>\n",
              "      <td>5.000</td>\n",
              "      <td>10.000</td>\n",
              "      <td>298.000</td>\n",
              "    </tr>\n",
              "    <tr>\n",
              "      <th>total_spending</th>\n",
              "      <td>599002.0</td>\n",
              "      <td>0.226</td>\n",
              "      <td>0.314</td>\n",
              "      <td>0.001</td>\n",
              "      <td>0.061</td>\n",
              "      <td>0.129</td>\n",
              "      <td>0.269</td>\n",
              "      <td>18.907</td>\n",
              "    </tr>\n",
              "    <tr>\n",
              "      <th>avg_spending</th>\n",
              "      <td>599002.0</td>\n",
              "      <td>0.027</td>\n",
              "      <td>0.013</td>\n",
              "      <td>0.001</td>\n",
              "      <td>0.019</td>\n",
              "      <td>0.025</td>\n",
              "      <td>0.032</td>\n",
              "      <td>0.507</td>\n",
              "    </tr>\n",
              "    <tr>\n",
              "      <th>count_buying_day</th>\n",
              "      <td>599002.0</td>\n",
              "      <td>2.536</td>\n",
              "      <td>2.534</td>\n",
              "      <td>1.000</td>\n",
              "      <td>1.000</td>\n",
              "      <td>2.000</td>\n",
              "      <td>3.000</td>\n",
              "      <td>85.000</td>\n",
              "    </tr>\n",
              "    <tr>\n",
              "      <th>count_colour_bought</th>\n",
              "      <td>599002.0</td>\n",
              "      <td>3.771</td>\n",
              "      <td>2.553</td>\n",
              "      <td>1.000</td>\n",
              "      <td>2.000</td>\n",
              "      <td>3.000</td>\n",
              "      <td>5.000</td>\n",
              "      <td>18.000</td>\n",
              "    </tr>\n",
              "  </tbody>\n",
              "</table>\n",
              "</div>\n",
              "      <button class=\"colab-df-convert\" onclick=\"convertToInteractive('df-911272ec-e5b2-49e7-a25f-83f0269d0742')\"\n",
              "              title=\"Convert this dataframe to an interactive table.\"\n",
              "              style=\"display:none;\">\n",
              "        \n",
              "  <svg xmlns=\"http://www.w3.org/2000/svg\" height=\"24px\"viewBox=\"0 0 24 24\"\n",
              "       width=\"24px\">\n",
              "    <path d=\"M0 0h24v24H0V0z\" fill=\"none\"/>\n",
              "    <path d=\"M18.56 5.44l.94 2.06.94-2.06 2.06-.94-2.06-.94-.94-2.06-.94 2.06-2.06.94zm-11 1L8.5 8.5l.94-2.06 2.06-.94-2.06-.94L8.5 2.5l-.94 2.06-2.06.94zm10 10l.94 2.06.94-2.06 2.06-.94-2.06-.94-.94-2.06-.94 2.06-2.06.94z\"/><path d=\"M17.41 7.96l-1.37-1.37c-.4-.4-.92-.59-1.43-.59-.52 0-1.04.2-1.43.59L10.3 9.45l-7.72 7.72c-.78.78-.78 2.05 0 2.83L4 21.41c.39.39.9.59 1.41.59.51 0 1.02-.2 1.41-.59l7.78-7.78 2.81-2.81c.8-.78.8-2.07 0-2.86zM5.41 20L4 18.59l7.72-7.72 1.47 1.35L5.41 20z\"/>\n",
              "  </svg>\n",
              "      </button>\n",
              "      \n",
              "  <style>\n",
              "    .colab-df-container {\n",
              "      display:flex;\n",
              "      flex-wrap:wrap;\n",
              "      gap: 12px;\n",
              "    }\n",
              "\n",
              "    .colab-df-convert {\n",
              "      background-color: #E8F0FE;\n",
              "      border: none;\n",
              "      border-radius: 50%;\n",
              "      cursor: pointer;\n",
              "      display: none;\n",
              "      fill: #1967D2;\n",
              "      height: 32px;\n",
              "      padding: 0 0 0 0;\n",
              "      width: 32px;\n",
              "    }\n",
              "\n",
              "    .colab-df-convert:hover {\n",
              "      background-color: #E2EBFA;\n",
              "      box-shadow: 0px 1px 2px rgba(60, 64, 67, 0.3), 0px 1px 3px 1px rgba(60, 64, 67, 0.15);\n",
              "      fill: #174EA6;\n",
              "    }\n",
              "\n",
              "    [theme=dark] .colab-df-convert {\n",
              "      background-color: #3B4455;\n",
              "      fill: #D2E3FC;\n",
              "    }\n",
              "\n",
              "    [theme=dark] .colab-df-convert:hover {\n",
              "      background-color: #434B5C;\n",
              "      box-shadow: 0px 1px 3px 1px rgba(0, 0, 0, 0.15);\n",
              "      filter: drop-shadow(0px 1px 2px rgba(0, 0, 0, 0.3));\n",
              "      fill: #FFFFFF;\n",
              "    }\n",
              "  </style>\n",
              "\n",
              "      <script>\n",
              "        const buttonEl =\n",
              "          document.querySelector('#df-911272ec-e5b2-49e7-a25f-83f0269d0742 button.colab-df-convert');\n",
              "        buttonEl.style.display =\n",
              "          google.colab.kernel.accessAllowed ? 'block' : 'none';\n",
              "\n",
              "        async function convertToInteractive(key) {\n",
              "          const element = document.querySelector('#df-911272ec-e5b2-49e7-a25f-83f0269d0742');\n",
              "          const dataTable =\n",
              "            await google.colab.kernel.invokeFunction('convertToInteractive',\n",
              "                                                     [key], {});\n",
              "          if (!dataTable) return;\n",
              "\n",
              "          const docLinkHtml = 'Like what you see? Visit the ' +\n",
              "            '<a target=\"_blank\" href=https://colab.research.google.com/notebooks/data_table.ipynb>data table notebook</a>'\n",
              "            + ' to learn more about interactive tables.';\n",
              "          element.innerHTML = '';\n",
              "          dataTable['output_type'] = 'display_data';\n",
              "          await google.colab.output.renderOutput(dataTable, element);\n",
              "          const docLink = document.createElement('div');\n",
              "          docLink.innerHTML = docLinkHtml;\n",
              "          element.appendChild(docLink);\n",
              "        }\n",
              "      </script>\n",
              "    </div>\n",
              "  </div>\n",
              "  "
            ],
            "text/plain": [
              "                        count   mean     std    min    25%    50%     75%  \\\n",
              "total_items_bought   599002.0  8.600  10.702  1.000  3.000  5.000  11.000   \n",
              "count_items_bought   599002.0  7.574   8.798  1.000  2.000  5.000  10.000   \n",
              "total_spending       599002.0  0.226   0.314  0.001  0.061  0.129   0.269   \n",
              "avg_spending         599002.0  0.027   0.013  0.001  0.019  0.025   0.032   \n",
              "count_buying_day     599002.0  2.536   2.534  1.000  1.000  2.000   3.000   \n",
              "count_colour_bought  599002.0  3.771   2.553  1.000  2.000  3.000   5.000   \n",
              "\n",
              "                         max  \n",
              "total_items_bought   391.000  \n",
              "count_items_bought   298.000  \n",
              "total_spending        18.907  \n",
              "avg_spending           0.507  \n",
              "count_buying_day      85.000  \n",
              "count_colour_bought   18.000  "
            ]
          },
          "execution_count": 56,
          "metadata": {},
          "output_type": "execute_result"
        }
      ],
      "source": [
        "# Summary statistics dari customer transaction\n",
        "df_customers_agg.describe().T.round(3)"
      ]
    },
    {
      "cell_type": "code",
      "execution_count": null,
      "metadata": {
        "colab": {
          "base_uri": "https://localhost:8080/",
          "height": 364
        },
        "id": "qa5rpkj32fSJ",
        "outputId": "12a17c26-2af1-4a40-c7a4-b6aab3a05ee9"
      },
      "outputs": [
        {
          "data": {
            "image/png": "[encoded data removed]",
            "text/plain": [
              "<Figure size 432x288 with 2 Axes>"
            ]
          },
          "metadata": {},
          "output_type": "display_data"
        }
      ],
      "source": [
        "# Visualisasikan hubungan antara variabel numerik pada df_customers_agg\n",
        "sns.heatmap(df_customers_agg.corr(), annot=True)\n",
        "plt.show()"
      ]
    },
    {
      "cell_type": "markdown",
      "metadata": {
        "id": "BUe3RxtB28Eg"
      },
      "source": [
        "> **Question**\n",
        "\n",
        " Apa yang bisa kamu ambil dari ringkasan statistik dan visualisasi korelasi antar fitur di atas?\n",
        "\n",
        "\n",
        "\n",
        "---\n",
        "\n",
        "\n"
      ]
    },
    {
      "cell_type": "markdown",
      "metadata": {
        "id": "iTmVgNkPydaS"
      },
      "source": [
        "> Selanjutnya, dari data transaksi per artikel (produk), kita akan coba untuk mendapatkan fitur seperti:\n",
        "* total penjualan\n",
        "* gmv (Gross Merchandise Value) per produk\n",
        "* jumlah customer yang membeli produk tersebut"
      ]
    },
    {
      "cell_type": "code",
      "execution_count": null,
      "metadata": {
        "id": "mxa2-U3murHq"
      },
      "outputs": [],
      "source": [
        "df_articles_agg = df_by_articles.agg(\n",
        "    total_sold=pd.NamedAgg(column=\"article_id\", aggfunc=\"count\"),\n",
        "    gmv_per_product=pd.NamedAgg(column=\"price\", aggfunc=lambda x: sum(x)*len(x)),\n",
        "    count_customer_bought=pd.NamedAgg(\n",
        "        column=\"customer_id\", aggfunc=lambda x: len(set(x))\n",
        "    )\n",
        ").reset_index()"
      ]
    },
    {
      "cell_type": "code",
      "execution_count": null,
      "metadata": {
        "colab": {
          "base_uri": "https://localhost:8080/",
          "height": 363
        },
        "id": "pssfP_JQE5Il",
        "outputId": "27020ffc-8541-4f3f-b3f9-5eaf3fc67e18"
      },
      "outputs": [
        {
          "data": {
            "text/html": [
              "\n",
              "  <div id=\"df-6f2d14e4-d199-474c-93f7-d9118e7e83ff\">\n",
              "    <div class=\"colab-df-container\">\n",
              "      <div>\n",
              "<style scoped>\n",
              "    .dataframe tbody tr th:only-of-type {\n",
              "        vertical-align: middle;\n",
              "    }\n",
              "\n",
              "    .dataframe tbody tr th {\n",
              "        vertical-align: top;\n",
              "    }\n",
              "\n",
              "    .dataframe thead th {\n",
              "        text-align: right;\n",
              "    }\n",
              "</style>\n",
              "<table border=\"1\" class=\"dataframe\">\n",
              "  <thead>\n",
              "    <tr style=\"text-align: right;\">\n",
              "      <th></th>\n",
              "      <th>article_id</th>\n",
              "      <th>total_sold</th>\n",
              "      <th>gmv_per_product</th>\n",
              "      <th>count_customer_bought</th>\n",
              "    </tr>\n",
              "  </thead>\n",
              "  <tbody>\n",
              "    <tr>\n",
              "      <th>45965</th>\n",
              "      <td>948152002</td>\n",
              "      <td>3</td>\n",
              "      <td>0.283373</td>\n",
              "      <td>3</td>\n",
              "    </tr>\n",
              "    <tr>\n",
              "      <th>45966</th>\n",
              "      <td>949198001</td>\n",
              "      <td>123</td>\n",
              "      <td>380.612034</td>\n",
              "      <td>96</td>\n",
              "    </tr>\n",
              "    <tr>\n",
              "      <th>45967</th>\n",
              "      <td>949551001</td>\n",
              "      <td>188</td>\n",
              "      <td>1171.134847</td>\n",
              "      <td>173</td>\n",
              "    </tr>\n",
              "    <tr>\n",
              "      <th>45968</th>\n",
              "      <td>949551002</td>\n",
              "      <td>83</td>\n",
              "      <td>225.193068</td>\n",
              "      <td>76</td>\n",
              "    </tr>\n",
              "    <tr>\n",
              "      <th>45969</th>\n",
              "      <td>949594001</td>\n",
              "      <td>5</td>\n",
              "      <td>1.057288</td>\n",
              "      <td>4</td>\n",
              "    </tr>\n",
              "    <tr>\n",
              "      <th>45970</th>\n",
              "      <td>952267001</td>\n",
              "      <td>41</td>\n",
              "      <td>25.184424</td>\n",
              "      <td>34</td>\n",
              "    </tr>\n",
              "    <tr>\n",
              "      <th>45971</th>\n",
              "      <td>952938001</td>\n",
              "      <td>9</td>\n",
              "      <td>3.888458</td>\n",
              "      <td>9</td>\n",
              "    </tr>\n",
              "    <tr>\n",
              "      <th>45972</th>\n",
              "      <td>953450001</td>\n",
              "      <td>17</td>\n",
              "      <td>4.865746</td>\n",
              "      <td>16</td>\n",
              "    </tr>\n",
              "    <tr>\n",
              "      <th>45973</th>\n",
              "      <td>953763001</td>\n",
              "      <td>35</td>\n",
              "      <td>26.837288</td>\n",
              "      <td>23</td>\n",
              "    </tr>\n",
              "    <tr>\n",
              "      <th>45974</th>\n",
              "      <td>956217002</td>\n",
              "      <td>21</td>\n",
              "      <td>26.085915</td>\n",
              "      <td>17</td>\n",
              "    </tr>\n",
              "  </tbody>\n",
              "</table>\n",
              "</div>\n",
              "      <button class=\"colab-df-convert\" onclick=\"convertToInteractive('df-6f2d14e4-d199-474c-93f7-d9118e7e83ff')\"\n",
              "              title=\"Convert this dataframe to an interactive table.\"\n",
              "              style=\"display:none;\">\n",
              "        \n",
              "  <svg xmlns=\"http://www.w3.org/2000/svg\" height=\"24px\"viewBox=\"0 0 24 24\"\n",
              "       width=\"24px\">\n",
              "    <path d=\"M0 0h24v24H0V0z\" fill=\"none\"/>\n",
              "    <path d=\"M18.56 5.44l.94 2.06.94-2.06 2.06-.94-2.06-.94-.94-2.06-.94 2.06-2.06.94zm-11 1L8.5 8.5l.94-2.06 2.06-.94-2.06-.94L8.5 2.5l-.94 2.06-2.06.94zm10 10l.94 2.06.94-2.06 2.06-.94-2.06-.94-.94-2.06-.94 2.06-2.06.94z\"/><path d=\"M17.41 7.96l-1.37-1.37c-.4-.4-.92-.59-1.43-.59-.52 0-1.04.2-1.43.59L10.3 9.45l-7.72 7.72c-.78.78-.78 2.05 0 2.83L4 21.41c.39.39.9.59 1.41.59.51 0 1.02-.2 1.41-.59l7.78-7.78 2.81-2.81c.8-.78.8-2.07 0-2.86zM5.41 20L4 18.59l7.72-7.72 1.47 1.35L5.41 20z\"/>\n",
              "  </svg>\n",
              "      </button>\n",
              "      \n",
              "  <style>\n",
              "    .colab-df-container {\n",
              "      display:flex;\n",
              "      flex-wrap:wrap;\n",
              "      gap: 12px;\n",
              "    }\n",
              "\n",
              "    .colab-df-convert {\n",
              "      background-color: #E8F0FE;\n",
              "      border: none;\n",
              "      border-radius: 50%;\n",
              "      cursor: pointer;\n",
              "      display: none;\n",
              "      fill: #1967D2;\n",
              "      height: 32px;\n",
              "      padding: 0 0 0 0;\n",
              "      width: 32px;\n",
              "    }\n",
              "\n",
              "    .colab-df-convert:hover {\n",
              "      background-color: #E2EBFA;\n",
              "      box-shadow: 0px 1px 2px rgba(60, 64, 67, 0.3), 0px 1px 3px 1px rgba(60, 64, 67, 0.15);\n",
              "      fill: #174EA6;\n",
              "    }\n",
              "\n",
              "    [theme=dark] .colab-df-convert {\n",
              "      background-color: #3B4455;\n",
              "      fill: #D2E3FC;\n",
              "    }\n",
              "\n",
              "    [theme=dark] .colab-df-convert:hover {\n",
              "      background-color: #434B5C;\n",
              "      box-shadow: 0px 1px 3px 1px rgba(0, 0, 0, 0.15);\n",
              "      filter: drop-shadow(0px 1px 2px rgba(0, 0, 0, 0.3));\n",
              "      fill: #FFFFFF;\n",
              "    }\n",
              "  </style>\n",
              "\n",
              "      <script>\n",
              "        const buttonEl =\n",
              "          document.querySelector('#df-6f2d14e4-d199-474c-93f7-d9118e7e83ff button.colab-df-convert');\n",
              "        buttonEl.style.display =\n",
              "          google.colab.kernel.accessAllowed ? 'block' : 'none';\n",
              "\n",
              "        async function convertToInteractive(key) {\n",
              "          const element = document.querySelector('#df-6f2d14e4-d199-474c-93f7-d9118e7e83ff');\n",
              "          const dataTable =\n",
              "            await google.colab.kernel.invokeFunction('convertToInteractive',\n",
              "                                                     [key], {});\n",
              "          if (!dataTable) return;\n",
              "\n",
              "          const docLinkHtml = 'Like what you see? Visit the ' +\n",
              "            '<a target=\"_blank\" href=https://colab.research.google.com/notebooks/data_table.ipynb>data table notebook</a>'\n",
              "            + ' to learn more about interactive tables.';\n",
              "          element.innerHTML = '';\n",
              "          dataTable['output_type'] = 'display_data';\n",
              "          await google.colab.output.renderOutput(dataTable, element);\n",
              "          const docLink = document.createElement('div');\n",
              "          docLink.innerHTML = docLinkHtml;\n",
              "          element.appendChild(docLink);\n",
              "        }\n",
              "      </script>\n",
              "    </div>\n",
              "  </div>\n",
              "  "
            ],
            "text/plain": [
              "       article_id  total_sold  gmv_per_product  count_customer_bought\n",
              "45965   948152002           3         0.283373                      3\n",
              "45966   949198001         123       380.612034                     96\n",
              "45967   949551001         188      1171.134847                    173\n",
              "45968   949551002          83       225.193068                     76\n",
              "45969   949594001           5         1.057288                      4\n",
              "45970   952267001          41        25.184424                     34\n",
              "45971   952938001           9         3.888458                      9\n",
              "45972   953450001          17         4.865746                     16\n",
              "45973   953763001          35        26.837288                     23\n",
              "45974   956217002          21        26.085915                     17"
            ]
          },
          "execution_count": 59,
          "metadata": {},
          "output_type": "execute_result"
        }
      ],
      "source": [
        "df_articles_agg.tail(10)"
      ]
    },
    {
      "cell_type": "code",
      "execution_count": null,
      "metadata": {
        "colab": {
          "base_uri": "https://localhost:8080/",
          "height": 300
        },
        "id": "1xZiYpep3VxB",
        "outputId": "138a2d63-b28d-4621-db15-817878e587c3"
      },
      "outputs": [
        {
          "data": {
            "text/html": [
              "\n",
              "  <div id=\"df-734cdaa8-b9a8-49ad-a345-ab40ca64b022\">\n",
              "    <div class=\"colab-df-container\">\n",
              "      <div>\n",
              "<style scoped>\n",
              "    .dataframe tbody tr th:only-of-type {\n",
              "        vertical-align: middle;\n",
              "    }\n",
              "\n",
              "    .dataframe tbody tr th {\n",
              "        vertical-align: top;\n",
              "    }\n",
              "\n",
              "    .dataframe thead th {\n",
              "        text-align: right;\n",
              "    }\n",
              "</style>\n",
              "<table border=\"1\" class=\"dataframe\">\n",
              "  <thead>\n",
              "    <tr style=\"text-align: right;\">\n",
              "      <th></th>\n",
              "      <th>article_id</th>\n",
              "      <th>total_sold</th>\n",
              "      <th>gmv_per_product</th>\n",
              "      <th>count_customer_bought</th>\n",
              "    </tr>\n",
              "  </thead>\n",
              "  <tbody>\n",
              "    <tr>\n",
              "      <th>count</th>\n",
              "      <td>4.597500e+04</td>\n",
              "      <td>45975.00</td>\n",
              "      <td>45975.00</td>\n",
              "      <td>45975.00</td>\n",
              "    </tr>\n",
              "    <tr>\n",
              "      <th>mean</th>\n",
              "      <td>7.629731e+08</td>\n",
              "      <td>112.05</td>\n",
              "      <td>2192.75</td>\n",
              "      <td>98.68</td>\n",
              "    </tr>\n",
              "    <tr>\n",
              "      <th>std</th>\n",
              "      <td>1.237322e+08</td>\n",
              "      <td>282.59</td>\n",
              "      <td>17478.12</td>\n",
              "      <td>242.06</td>\n",
              "    </tr>\n",
              "    <tr>\n",
              "      <th>min</th>\n",
              "      <td>1.087750e+08</td>\n",
              "      <td>1.00</td>\n",
              "      <td>0.00</td>\n",
              "      <td>1.00</td>\n",
              "    </tr>\n",
              "    <tr>\n",
              "      <th>25%</th>\n",
              "      <td>7.027950e+08</td>\n",
              "      <td>3.00</td>\n",
              "      <td>0.16</td>\n",
              "      <td>3.00</td>\n",
              "    </tr>\n",
              "    <tr>\n",
              "      <th>50%</th>\n",
              "      <td>7.914450e+08</td>\n",
              "      <td>15.00</td>\n",
              "      <td>4.74</td>\n",
              "      <td>14.00</td>\n",
              "    </tr>\n",
              "    <tr>\n",
              "      <th>75%</th>\n",
              "      <td>8.559270e+08</td>\n",
              "      <td>87.00</td>\n",
              "      <td>186.02</td>\n",
              "      <td>78.00</td>\n",
              "    </tr>\n",
              "    <tr>\n",
              "      <th>max</th>\n",
              "      <td>9.562170e+08</td>\n",
              "      <td>6780.00</td>\n",
              "      <td>1522314.55</td>\n",
              "      <td>5316.00</td>\n",
              "    </tr>\n",
              "  </tbody>\n",
              "</table>\n",
              "</div>\n",
              "      <button class=\"colab-df-convert\" onclick=\"convertToInteractive('df-734cdaa8-b9a8-49ad-a345-ab40ca64b022')\"\n",
              "              title=\"Convert this dataframe to an interactive table.\"\n",
              "              style=\"display:none;\">\n",
              "        \n",
              "  <svg xmlns=\"http://www.w3.org/2000/svg\" height=\"24px\"viewBox=\"0 0 24 24\"\n",
              "       width=\"24px\">\n",
              "    <path d=\"M0 0h24v24H0V0z\" fill=\"none\"/>\n",
              "    <path d=\"M18.56 5.44l.94 2.06.94-2.06 2.06-.94-2.06-.94-.94-2.06-.94 2.06-2.06.94zm-11 1L8.5 8.5l.94-2.06 2.06-.94-2.06-.94L8.5 2.5l-.94 2.06-2.06.94zm10 10l.94 2.06.94-2.06 2.06-.94-2.06-.94-.94-2.06-.94 2.06-2.06.94z\"/><path d=\"M17.41 7.96l-1.37-1.37c-.4-.4-.92-.59-1.43-.59-.52 0-1.04.2-1.43.59L10.3 9.45l-7.72 7.72c-.78.78-.78 2.05 0 2.83L4 21.41c.39.39.9.59 1.41.59.51 0 1.02-.2 1.41-.59l7.78-7.78 2.81-2.81c.8-.78.8-2.07 0-2.86zM5.41 20L4 18.59l7.72-7.72 1.47 1.35L5.41 20z\"/>\n",
              "  </svg>\n",
              "      </button>\n",
              "      \n",
              "  <style>\n",
              "    .colab-df-container {\n",
              "      display:flex;\n",
              "      flex-wrap:wrap;\n",
              "      gap: 12px;\n",
              "    }\n",
              "\n",
              "    .colab-df-convert {\n",
              "      background-color: #E8F0FE;\n",
              "      border: none;\n",
              "      border-radius: 50%;\n",
              "      cursor: pointer;\n",
              "      display: none;\n",
              "      fill: #1967D2;\n",
              "      height: 32px;\n",
              "      padding: 0 0 0 0;\n",
              "      width: 32px;\n",
              "    }\n",
              "\n",
              "    .colab-df-convert:hover {\n",
              "      background-color: #E2EBFA;\n",
              "      box-shadow: 0px 1px 2px rgba(60, 64, 67, 0.3), 0px 1px 3px 1px rgba(60, 64, 67, 0.15);\n",
              "      fill: #174EA6;\n",
              "    }\n",
              "\n",
              "    [theme=dark] .colab-df-convert {\n",
              "      background-color: #3B4455;\n",
              "      fill: #D2E3FC;\n",
              "    }\n",
              "\n",
              "    [theme=dark] .colab-df-convert:hover {\n",
              "      background-color: #434B5C;\n",
              "      box-shadow: 0px 1px 3px 1px rgba(0, 0, 0, 0.15);\n",
              "      filter: drop-shadow(0px 1px 2px rgba(0, 0, 0, 0.3));\n",
              "      fill: #FFFFFF;\n",
              "    }\n",
              "  </style>\n",
              "\n",
              "      <script>\n",
              "        const buttonEl =\n",
              "          document.querySelector('#df-734cdaa8-b9a8-49ad-a345-ab40ca64b022 button.colab-df-convert');\n",
              "        buttonEl.style.display =\n",
              "          google.colab.kernel.accessAllowed ? 'block' : 'none';\n",
              "\n",
              "        async function convertToInteractive(key) {\n",
              "          const element = document.querySelector('#df-734cdaa8-b9a8-49ad-a345-ab40ca64b022');\n",
              "          const dataTable =\n",
              "            await google.colab.kernel.invokeFunction('convertToInteractive',\n",
              "                                                     [key], {});\n",
              "          if (!dataTable) return;\n",
              "\n",
              "          const docLinkHtml = 'Like what you see? Visit the ' +\n",
              "            '<a target=\"_blank\" href=https://colab.research.google.com/notebooks/data_table.ipynb>data table notebook</a>'\n",
              "            + ' to learn more about interactive tables.';\n",
              "          element.innerHTML = '';\n",
              "          dataTable['output_type'] = 'display_data';\n",
              "          await google.colab.output.renderOutput(dataTable, element);\n",
              "          const docLink = document.createElement('div');\n",
              "          docLink.innerHTML = docLinkHtml;\n",
              "          element.appendChild(docLink);\n",
              "        }\n",
              "      </script>\n",
              "    </div>\n",
              "  </div>\n",
              "  "
            ],
            "text/plain": [
              "         article_id  total_sold  gmv_per_product  count_customer_bought\n",
              "count  4.597500e+04    45975.00         45975.00               45975.00\n",
              "mean   7.629731e+08      112.05          2192.75                  98.68\n",
              "std    1.237322e+08      282.59         17478.12                 242.06\n",
              "min    1.087750e+08        1.00             0.00                   1.00\n",
              "25%    7.027950e+08        3.00             0.16                   3.00\n",
              "50%    7.914450e+08       15.00             4.74                  14.00\n",
              "75%    8.559270e+08       87.00           186.02                  78.00\n",
              "max    9.562170e+08     6780.00       1522314.55                5316.00"
            ]
          },
          "execution_count": 60,
          "metadata": {},
          "output_type": "execute_result"
        }
      ],
      "source": [
        "df_articles_agg.describe().round(2)"
      ]
    },
    {
      "cell_type": "code",
      "execution_count": null,
      "metadata": {
        "colab": {
          "base_uri": "https://localhost:8080/",
          "height": 380
        },
        "id": "-COl-C7Q2S0L",
        "outputId": "c7ccf1ab-9948-426c-c7d8-79587428b680"
      },
      "outputs": [
        {
          "data": {
            "image/png": "[encoded data removed]",
            "text/plain": [
              "<Figure size 432x288 with 2 Axes>"
            ]
          },
          "metadata": {},
          "output_type": "display_data"
        }
      ],
      "source": [
        "# Visualisasikan hubungan antara variabel numerik pada df_articles_agg\n",
        "sns.heatmap(df_articles_agg.corr(), annot=True)\n",
        "plt.show()"
      ]
    },
    {
      "cell_type": "markdown",
      "metadata": {
        "id": "sUqmIq583kwi"
      },
      "source": [
        "> **Question**\n",
        "\n",
        "Apa yang bisa kamu ambil dari ringkasan statistik dan visualisasi korelasi antar fitur di atas?\n",
        "\n",
        "---\n"
      ]
    },
    {
      "cell_type": "markdown",
      "metadata": {
        "id": "e8rKR79bGGuF"
      },
      "source": [
        "# Clustering with Python - Part 2"
      ]
    },
    {
      "cell_type": "markdown",
      "metadata": {
        "id": "R3LzNV1I3nXr"
      },
      "source": [
        "## 3 Model Development\n",
        "\n",
        "* Karena kita akan melakukan segmentasi customer, maka data yang dipilih adalah data agregasi customer.\n",
        "\n",
        "* Untuk itu, kita akan coba menambahkan beberapa fitur lagi yang mungkin berguna dengan menggabungkannya dengan data customer."
      ]
    },
    {
      "cell_type": "code",
      "execution_count": null,
      "metadata": {
        "colab": {
          "base_uri": "https://localhost:8080/",
          "height": 270
        },
        "id": "-uqx7Gb93hc5",
        "outputId": "ee0d1f90-8a2d-4928-b8be-19cb28a8b818"
      },
      "outputs": [
        {
          "data": {
            "text/html": [
              "\n",
              "  <div id=\"df-de9aedcc-132e-43f0-8960-2683116c2263\">\n",
              "    <div class=\"colab-df-container\">\n",
              "      <div>\n",
              "<style scoped>\n",
              "    .dataframe tbody tr th:only-of-type {\n",
              "        vertical-align: middle;\n",
              "    }\n",
              "\n",
              "    .dataframe tbody tr th {\n",
              "        vertical-align: top;\n",
              "    }\n",
              "\n",
              "    .dataframe thead th {\n",
              "        text-align: right;\n",
              "    }\n",
              "</style>\n",
              "<table border=\"1\" class=\"dataframe\">\n",
              "  <thead>\n",
              "    <tr style=\"text-align: right;\">\n",
              "      <th></th>\n",
              "      <th>total_items_bought</th>\n",
              "      <th>count_items_bought</th>\n",
              "      <th>total_spending</th>\n",
              "      <th>avg_spending</th>\n",
              "      <th>count_buying_day</th>\n",
              "      <th>count_colour_bought</th>\n",
              "      <th>FN</th>\n",
              "      <th>Active</th>\n",
              "      <th>club_member_status</th>\n",
              "      <th>fashion_news_frequency</th>\n",
              "      <th>age</th>\n",
              "    </tr>\n",
              "  </thead>\n",
              "  <tbody>\n",
              "    <tr>\n",
              "      <th>0</th>\n",
              "      <td>1</td>\n",
              "      <td>1</td>\n",
              "      <td>0.050831</td>\n",
              "      <td>0.050831</td>\n",
              "      <td>1</td>\n",
              "      <td>1</td>\n",
              "      <td>0.0</td>\n",
              "      <td>0.0</td>\n",
              "      <td>ACTIVE</td>\n",
              "      <td>Never</td>\n",
              "      <td>49.0</td>\n",
              "    </tr>\n",
              "    <tr>\n",
              "      <th>1</th>\n",
              "      <td>1</td>\n",
              "      <td>1</td>\n",
              "      <td>0.027102</td>\n",
              "      <td>0.027102</td>\n",
              "      <td>1</td>\n",
              "      <td>1</td>\n",
              "      <td>0.0</td>\n",
              "      <td>0.0</td>\n",
              "      <td>ACTIVE</td>\n",
              "      <td>Never</td>\n",
              "      <td>25.0</td>\n",
              "    </tr>\n",
              "    <tr>\n",
              "      <th>2</th>\n",
              "      <td>1</td>\n",
              "      <td>1</td>\n",
              "      <td>0.061000</td>\n",
              "      <td>0.061000</td>\n",
              "      <td>1</td>\n",
              "      <td>1</td>\n",
              "      <td>0.0</td>\n",
              "      <td>0.0</td>\n",
              "      <td>ACTIVE</td>\n",
              "      <td>Never</td>\n",
              "      <td>24.0</td>\n",
              "    </tr>\n",
              "    <tr>\n",
              "      <th>3</th>\n",
              "      <td>7</td>\n",
              "      <td>7</td>\n",
              "      <td>0.255814</td>\n",
              "      <td>0.036545</td>\n",
              "      <td>2</td>\n",
              "      <td>3</td>\n",
              "      <td>1.0</td>\n",
              "      <td>1.0</td>\n",
              "      <td>ACTIVE</td>\n",
              "      <td>Regularly</td>\n",
              "      <td>52.0</td>\n",
              "    </tr>\n",
              "    <tr>\n",
              "      <th>4</th>\n",
              "      <td>2</td>\n",
              "      <td>2</td>\n",
              "      <td>0.076237</td>\n",
              "      <td>0.038119</td>\n",
              "      <td>1</td>\n",
              "      <td>2</td>\n",
              "      <td>0.0</td>\n",
              "      <td>0.0</td>\n",
              "      <td>ACTIVE</td>\n",
              "      <td>Never</td>\n",
              "      <td>20.0</td>\n",
              "    </tr>\n",
              "  </tbody>\n",
              "</table>\n",
              "</div>\n",
              "      <button class=\"colab-df-convert\" onclick=\"convertToInteractive('df-de9aedcc-132e-43f0-8960-2683116c2263')\"\n",
              "              title=\"Convert this dataframe to an interactive table.\"\n",
              "              style=\"display:none;\">\n",
              "        \n",
              "  <svg xmlns=\"http://www.w3.org/2000/svg\" height=\"24px\"viewBox=\"0 0 24 24\"\n",
              "       width=\"24px\">\n",
              "    <path d=\"M0 0h24v24H0V0z\" fill=\"none\"/>\n",
              "    <path d=\"M18.56 5.44l.94 2.06.94-2.06 2.06-.94-2.06-.94-.94-2.06-.94 2.06-2.06.94zm-11 1L8.5 8.5l.94-2.06 2.06-.94-2.06-.94L8.5 2.5l-.94 2.06-2.06.94zm10 10l.94 2.06.94-2.06 2.06-.94-2.06-.94-.94-2.06-.94 2.06-2.06.94z\"/><path d=\"M17.41 7.96l-1.37-1.37c-.4-.4-.92-.59-1.43-.59-.52 0-1.04.2-1.43.59L10.3 9.45l-7.72 7.72c-.78.78-.78 2.05 0 2.83L4 21.41c.39.39.9.59 1.41.59.51 0 1.02-.2 1.41-.59l7.78-7.78 2.81-2.81c.8-.78.8-2.07 0-2.86zM5.41 20L4 18.59l7.72-7.72 1.47 1.35L5.41 20z\"/>\n",
              "  </svg>\n",
              "      </button>\n",
              "      \n",
              "  <style>\n",
              "    .colab-df-container {\n",
              "      display:flex;\n",
              "      flex-wrap:wrap;\n",
              "      gap: 12px;\n",
              "    }\n",
              "\n",
              "    .colab-df-convert {\n",
              "      background-color: #E8F0FE;\n",
              "      border: none;\n",
              "      border-radius: 50%;\n",
              "      cursor: pointer;\n",
              "      display: none;\n",
              "      fill: #1967D2;\n",
              "      height: 32px;\n",
              "      padding: 0 0 0 0;\n",
              "      width: 32px;\n",
              "    }\n",
              "\n",
              "    .colab-df-convert:hover {\n",
              "      background-color: #E2EBFA;\n",
              "      box-shadow: 0px 1px 2px rgba(60, 64, 67, 0.3), 0px 1px 3px 1px rgba(60, 64, 67, 0.15);\n",
              "      fill: #174EA6;\n",
              "    }\n",
              "\n",
              "    [theme=dark] .colab-df-convert {\n",
              "      background-color: #3B4455;\n",
              "      fill: #D2E3FC;\n",
              "    }\n",
              "\n",
              "    [theme=dark] .colab-df-convert:hover {\n",
              "      background-color: #434B5C;\n",
              "      box-shadow: 0px 1px 3px 1px rgba(0, 0, 0, 0.15);\n",
              "      filter: drop-shadow(0px 1px 2px rgba(0, 0, 0, 0.3));\n",
              "      fill: #FFFFFF;\n",
              "    }\n",
              "  </style>\n",
              "\n",
              "      <script>\n",
              "        const buttonEl =\n",
              "          document.querySelector('#df-de9aedcc-132e-43f0-8960-2683116c2263 button.colab-df-convert');\n",
              "        buttonEl.style.display =\n",
              "          google.colab.kernel.accessAllowed ? 'block' : 'none';\n",
              "\n",
              "        async function convertToInteractive(key) {\n",
              "          const element = document.querySelector('#df-de9aedcc-132e-43f0-8960-2683116c2263');\n",
              "          const dataTable =\n",
              "            await google.colab.kernel.invokeFunction('convertToInteractive',\n",
              "                                                     [key], {});\n",
              "          if (!dataTable) return;\n",
              "\n",
              "          const docLinkHtml = 'Like what you see? Visit the ' +\n",
              "            '<a target=\"_blank\" href=https://colab.research.google.com/notebooks/data_table.ipynb>data table notebook</a>'\n",
              "            + ' to learn more about interactive tables.';\n",
              "          element.innerHTML = '';\n",
              "          dataTable['output_type'] = 'display_data';\n",
              "          await google.colab.output.renderOutput(dataTable, element);\n",
              "          const docLink = document.createElement('div');\n",
              "          docLink.innerHTML = docLinkHtml;\n",
              "          element.appendChild(docLink);\n",
              "        }\n",
              "      </script>\n",
              "    </div>\n",
              "  </div>\n",
              "  "
            ],
            "text/plain": [
              "   total_items_bought  count_items_bought  total_spending  avg_spending  \\\n",
              "0                   1                   1        0.050831      0.050831   \n",
              "1                   1                   1        0.027102      0.027102   \n",
              "2                   1                   1        0.061000      0.061000   \n",
              "3                   7                   7        0.255814      0.036545   \n",
              "4                   2                   2        0.076237      0.038119   \n",
              "\n",
              "   count_buying_day  count_colour_bought   FN  Active club_member_status  \\\n",
              "0                 1                    1  0.0     0.0             ACTIVE   \n",
              "1                 1                    1  0.0     0.0             ACTIVE   \n",
              "2                 1                    1  0.0     0.0             ACTIVE   \n",
              "3                 2                    3  1.0     1.0             ACTIVE   \n",
              "4                 1                    2  0.0     0.0             ACTIVE   \n",
              "\n",
              "  fashion_news_frequency   age  \n",
              "0                  Never  49.0  \n",
              "1                  Never  25.0  \n",
              "2                  Never  24.0  \n",
              "3              Regularly  52.0  \n",
              "4                  Never  20.0  "
            ]
          },
          "execution_count": 62,
          "metadata": {},
          "output_type": "execute_result"
        }
      ],
      "source": [
        "X = df_customers_agg.merge(df_customers, how=\"left\", on=\"customer_id\")\n",
        "X.drop(columns=[\"customer_id\", \"postal_code\"], inplace=True)\n",
        "X.head()"
      ]
    },
    {
      "cell_type": "code",
      "execution_count": null,
      "metadata": {
        "colab": {
          "base_uri": "https://localhost:8080/"
        },
        "id": "-5iSoB4hEGDH",
        "outputId": "f9c6930e-17e5-4768-a828-d1061e154957"
      },
      "outputs": [
        {
          "name": "stdout",
          "output_type": "stream",
          "text": [
            "<class 'pandas.core.frame.DataFrame'>\n",
            "Int64Index: 599002 entries, 0 to 599001\n",
            "Data columns (total 11 columns):\n",
            " #   Column                  Non-Null Count   Dtype  \n",
            "---  ------                  --------------   -----  \n",
            " 0   total_items_bought      599002 non-null  int64  \n",
            " 1   count_items_bought      599002 non-null  int64  \n",
            " 2   total_spending          599002 non-null  float64\n",
            " 3   avg_spending            599002 non-null  float64\n",
            " 4   count_buying_day        599002 non-null  int64  \n",
            " 5   count_colour_bought     599002 non-null  int64  \n",
            " 6   FN                      599002 non-null  float64\n",
            " 7   Active                  599002 non-null  float64\n",
            " 8   club_member_status      599002 non-null  object \n",
            " 9   fashion_news_frequency  599002 non-null  object \n",
            " 10  age                     599002 non-null  float64\n",
            "dtypes: float64(5), int64(4), object(2)\n",
            "memory usage: 54.8+ MB\n"
          ]
        }
      ],
      "source": [
        "X.info()"
      ]
    },
    {
      "cell_type": "markdown",
      "metadata": {
        "id": "i066NLHDMBJz"
      },
      "source": [
        "### 3.1 Data Preparation\n",
        "\n",
        "Persiapan data yang akan kita lakukan adalah:\n",
        "* mengubah fitur kategorik (`club_member_status` dan `fashion_news_frequency`) menjadi matriks one-hot\n",
        "* melakukan standardisasi semua fitur numerik yang sudah terbentuk"
      ]
    },
    {
      "cell_type": "code",
      "execution_count": null,
      "metadata": {
        "colab": {
          "base_uri": "https://localhost:8080/",
          "height": 288
        },
        "id": "NVC0Q4XoKbhm",
        "outputId": "ae3716bd-39a8-4d8f-d321-8dfeaa47812d"
      },
      "outputs": [
        {
          "data": {
            "text/html": [
              "\n",
              "  <div id=\"df-d1382a39-a66b-400e-8382-f1aba95ab3d2\">\n",
              "    <div class=\"colab-df-container\">\n",
              "      <div>\n",
              "<style scoped>\n",
              "    .dataframe tbody tr th:only-of-type {\n",
              "        vertical-align: middle;\n",
              "    }\n",
              "\n",
              "    .dataframe tbody tr th {\n",
              "        vertical-align: top;\n",
              "    }\n",
              "\n",
              "    .dataframe thead th {\n",
              "        text-align: right;\n",
              "    }\n",
              "</style>\n",
              "<table border=\"1\" class=\"dataframe\">\n",
              "  <thead>\n",
              "    <tr style=\"text-align: right;\">\n",
              "      <th></th>\n",
              "      <th>total_items_bought</th>\n",
              "      <th>count_items_bought</th>\n",
              "      <th>total_spending</th>\n",
              "      <th>avg_spending</th>\n",
              "      <th>count_buying_day</th>\n",
              "      <th>count_colour_bought</th>\n",
              "      <th>FN</th>\n",
              "      <th>Active</th>\n",
              "      <th>age</th>\n",
              "      <th>club_member_status_ACTIVE</th>\n",
              "      <th>club_member_status_LEFT CLUB</th>\n",
              "      <th>club_member_status_NON-ACTIVE</th>\n",
              "      <th>club_member_status_PRE-CREATE</th>\n",
              "      <th>club_member_status_UNKNOWN</th>\n",
              "      <th>fashion_news_frequency_Monthly</th>\n",
              "      <th>fashion_news_frequency_Never</th>\n",
              "      <th>fashion_news_frequency_Other</th>\n",
              "      <th>fashion_news_frequency_Regularly</th>\n",
              "    </tr>\n",
              "  </thead>\n",
              "  <tbody>\n",
              "    <tr>\n",
              "      <th>0</th>\n",
              "      <td>-0.710171</td>\n",
              "      <td>-0.747204</td>\n",
              "      <td>-0.557355</td>\n",
              "      <td>1.798960</td>\n",
              "      <td>-0.606332</td>\n",
              "      <td>-1.085357</td>\n",
              "      <td>-0.840605</td>\n",
              "      <td>-0.828615</td>\n",
              "      <td>0.999776</td>\n",
              "      <td>0.157498</td>\n",
              "      <td>-0.01119</td>\n",
              "      <td>-0.03597</td>\n",
              "      <td>-0.152254</td>\n",
              "      <td>-0.011485</td>\n",
              "      <td>-0.017906</td>\n",
              "      <td>0.843115</td>\n",
              "      <td>-0.018184</td>\n",
              "      <td>-0.841985</td>\n",
              "    </tr>\n",
              "    <tr>\n",
              "      <th>1</th>\n",
              "      <td>-0.710171</td>\n",
              "      <td>-0.747204</td>\n",
              "      <td>-0.632871</td>\n",
              "      <td>0.018130</td>\n",
              "      <td>-0.606332</td>\n",
              "      <td>-1.085357</td>\n",
              "      <td>-0.840605</td>\n",
              "      <td>-0.828615</td>\n",
              "      <td>-0.726408</td>\n",
              "      <td>0.157498</td>\n",
              "      <td>-0.01119</td>\n",
              "      <td>-0.03597</td>\n",
              "      <td>-0.152254</td>\n",
              "      <td>-0.011485</td>\n",
              "      <td>-0.017906</td>\n",
              "      <td>0.843115</td>\n",
              "      <td>-0.018184</td>\n",
              "      <td>-0.841985</td>\n",
              "    </tr>\n",
              "    <tr>\n",
              "      <th>2</th>\n",
              "      <td>-0.710171</td>\n",
              "      <td>-0.747204</td>\n",
              "      <td>-0.524990</td>\n",
              "      <td>2.562173</td>\n",
              "      <td>-0.606332</td>\n",
              "      <td>-1.085357</td>\n",
              "      <td>-0.840605</td>\n",
              "      <td>-0.828615</td>\n",
              "      <td>-0.798332</td>\n",
              "      <td>0.157498</td>\n",
              "      <td>-0.01119</td>\n",
              "      <td>-0.03597</td>\n",
              "      <td>-0.152254</td>\n",
              "      <td>-0.011485</td>\n",
              "      <td>-0.017906</td>\n",
              "      <td>0.843115</td>\n",
              "      <td>-0.018184</td>\n",
              "      <td>-0.841985</td>\n",
              "    </tr>\n",
              "    <tr>\n",
              "      <th>3</th>\n",
              "      <td>-0.149516</td>\n",
              "      <td>-0.065215</td>\n",
              "      <td>0.094999</td>\n",
              "      <td>0.726828</td>\n",
              "      <td>-0.211644</td>\n",
              "      <td>-0.301915</td>\n",
              "      <td>1.189619</td>\n",
              "      <td>1.206833</td>\n",
              "      <td>1.215549</td>\n",
              "      <td>0.157498</td>\n",
              "      <td>-0.01119</td>\n",
              "      <td>-0.03597</td>\n",
              "      <td>-0.152254</td>\n",
              "      <td>-0.011485</td>\n",
              "      <td>-0.017906</td>\n",
              "      <td>-1.186078</td>\n",
              "      <td>-0.018184</td>\n",
              "      <td>1.187669</td>\n",
              "    </tr>\n",
              "    <tr>\n",
              "      <th>4</th>\n",
              "      <td>-0.616728</td>\n",
              "      <td>-0.633539</td>\n",
              "      <td>-0.476498</td>\n",
              "      <td>0.844944</td>\n",
              "      <td>-0.606332</td>\n",
              "      <td>-0.693636</td>\n",
              "      <td>-0.840605</td>\n",
              "      <td>-0.828615</td>\n",
              "      <td>-1.086029</td>\n",
              "      <td>0.157498</td>\n",
              "      <td>-0.01119</td>\n",
              "      <td>-0.03597</td>\n",
              "      <td>-0.152254</td>\n",
              "      <td>-0.011485</td>\n",
              "      <td>-0.017906</td>\n",
              "      <td>0.843115</td>\n",
              "      <td>-0.018184</td>\n",
              "      <td>-0.841985</td>\n",
              "    </tr>\n",
              "  </tbody>\n",
              "</table>\n",
              "</div>\n",
              "      <button class=\"colab-df-convert\" onclick=\"convertToInteractive('df-d1382a39-a66b-400e-8382-f1aba95ab3d2')\"\n",
              "              title=\"Convert this dataframe to an interactive table.\"\n",
              "              style=\"display:none;\">\n",
              "        \n",
              "  <svg xmlns=\"http://www.w3.org/2000/svg\" height=\"24px\"viewBox=\"0 0 24 24\"\n",
              "       width=\"24px\">\n",
              "    <path d=\"M0 0h24v24H0V0z\" fill=\"none\"/>\n",
              "    <path d=\"M18.56 5.44l.94 2.06.94-2.06 2.06-.94-2.06-.94-.94-2.06-.94 2.06-2.06.94zm-11 1L8.5 8.5l.94-2.06 2.06-.94-2.06-.94L8.5 2.5l-.94 2.06-2.06.94zm10 10l.94 2.06.94-2.06 2.06-.94-2.06-.94-.94-2.06-.94 2.06-2.06.94z\"/><path d=\"M17.41 7.96l-1.37-1.37c-.4-.4-.92-.59-1.43-.59-.52 0-1.04.2-1.43.59L10.3 9.45l-7.72 7.72c-.78.78-.78 2.05 0 2.83L4 21.41c.39.39.9.59 1.41.59.51 0 1.02-.2 1.41-.59l7.78-7.78 2.81-2.81c.8-.78.8-2.07 0-2.86zM5.41 20L4 18.59l7.72-7.72 1.47 1.35L5.41 20z\"/>\n",
              "  </svg>\n",
              "      </button>\n",
              "      \n",
              "  <style>\n",
              "    .colab-df-container {\n",
              "      display:flex;\n",
              "      flex-wrap:wrap;\n",
              "      gap: 12px;\n",
              "    }\n",
              "\n",
              "    .colab-df-convert {\n",
              "      background-color: #E8F0FE;\n",
              "      border: none;\n",
              "      border-radius: 50%;\n",
              "      cursor: pointer;\n",
              "      display: none;\n",
              "      fill: #1967D2;\n",
              "      height: 32px;\n",
              "      padding: 0 0 0 0;\n",
              "      width: 32px;\n",
              "    }\n",
              "\n",
              "    .colab-df-convert:hover {\n",
              "      background-color: #E2EBFA;\n",
              "      box-shadow: 0px 1px 2px rgba(60, 64, 67, 0.3), 0px 1px 3px 1px rgba(60, 64, 67, 0.15);\n",
              "      fill: #174EA6;\n",
              "    }\n",
              "\n",
              "    [theme=dark] .colab-df-convert {\n",
              "      background-color: #3B4455;\n",
              "      fill: #D2E3FC;\n",
              "    }\n",
              "\n",
              "    [theme=dark] .colab-df-convert:hover {\n",
              "      background-color: #434B5C;\n",
              "      box-shadow: 0px 1px 3px 1px rgba(0, 0, 0, 0.15);\n",
              "      filter: drop-shadow(0px 1px 2px rgba(0, 0, 0, 0.3));\n",
              "      fill: #FFFFFF;\n",
              "    }\n",
              "  </style>\n",
              "\n",
              "      <script>\n",
              "        const buttonEl =\n",
              "          document.querySelector('#df-d1382a39-a66b-400e-8382-f1aba95ab3d2 button.colab-df-convert');\n",
              "        buttonEl.style.display =\n",
              "          google.colab.kernel.accessAllowed ? 'block' : 'none';\n",
              "\n",
              "        async function convertToInteractive(key) {\n",
              "          const element = document.querySelector('#df-d1382a39-a66b-400e-8382-f1aba95ab3d2');\n",
              "          const dataTable =\n",
              "            await google.colab.kernel.invokeFunction('convertToInteractive',\n",
              "                                                     [key], {});\n",
              "          if (!dataTable) return;\n",
              "\n",
              "          const docLinkHtml = 'Like what you see? Visit the ' +\n",
              "            '<a target=\"_blank\" href=https://colab.research.google.com/notebooks/data_table.ipynb>data table notebook</a>'\n",
              "            + ' to learn more about interactive tables.';\n",
              "          element.innerHTML = '';\n",
              "          dataTable['output_type'] = 'display_data';\n",
              "          await google.colab.output.renderOutput(dataTable, element);\n",
              "          const docLink = document.createElement('div');\n",
              "          docLink.innerHTML = docLinkHtml;\n",
              "          element.appendChild(docLink);\n",
              "        }\n",
              "      </script>\n",
              "    </div>\n",
              "  </div>\n",
              "  "
            ],
            "text/plain": [
              "   total_items_bought  count_items_bought  total_spending  avg_spending  \\\n",
              "0           -0.710171           -0.747204       -0.557355      1.798960   \n",
              "1           -0.710171           -0.747204       -0.632871      0.018130   \n",
              "2           -0.710171           -0.747204       -0.524990      2.562173   \n",
              "3           -0.149516           -0.065215        0.094999      0.726828   \n",
              "4           -0.616728           -0.633539       -0.476498      0.844944   \n",
              "\n",
              "   count_buying_day  count_colour_bought        FN    Active       age  \\\n",
              "0         -0.606332            -1.085357 -0.840605 -0.828615  0.999776   \n",
              "1         -0.606332            -1.085357 -0.840605 -0.828615 -0.726408   \n",
              "2         -0.606332            -1.085357 -0.840605 -0.828615 -0.798332   \n",
              "3         -0.211644            -0.301915  1.189619  1.206833  1.215549   \n",
              "4         -0.606332            -0.693636 -0.840605 -0.828615 -1.086029   \n",
              "\n",
              "   club_member_status_ACTIVE  club_member_status_LEFT CLUB  \\\n",
              "0                   0.157498                      -0.01119   \n",
              "1                   0.157498                      -0.01119   \n",
              "2                   0.157498                      -0.01119   \n",
              "3                   0.157498                      -0.01119   \n",
              "4                   0.157498                      -0.01119   \n",
              "\n",
              "   club_member_status_NON-ACTIVE  club_member_status_PRE-CREATE  \\\n",
              "0                       -0.03597                      -0.152254   \n",
              "1                       -0.03597                      -0.152254   \n",
              "2                       -0.03597                      -0.152254   \n",
              "3                       -0.03597                      -0.152254   \n",
              "4                       -0.03597                      -0.152254   \n",
              "\n",
              "   club_member_status_UNKNOWN  fashion_news_frequency_Monthly  \\\n",
              "0                   -0.011485                       -0.017906   \n",
              "1                   -0.011485                       -0.017906   \n",
              "2                   -0.011485                       -0.017906   \n",
              "3                   -0.011485                       -0.017906   \n",
              "4                   -0.011485                       -0.017906   \n",
              "\n",
              "   fashion_news_frequency_Never  fashion_news_frequency_Other  \\\n",
              "0                      0.843115                     -0.018184   \n",
              "1                      0.843115                     -0.018184   \n",
              "2                      0.843115                     -0.018184   \n",
              "3                     -1.186078                     -0.018184   \n",
              "4                      0.843115                     -0.018184   \n",
              "\n",
              "   fashion_news_frequency_Regularly  \n",
              "0                         -0.841985  \n",
              "1                         -0.841985  \n",
              "2                         -0.841985  \n",
              "3                          1.187669  \n",
              "4                         -0.841985  "
            ]
          },
          "execution_count": 64,
          "metadata": {},
          "output_type": "execute_result"
        }
      ],
      "source": [
        "encoder = OneHotEncoder()\n",
        "encoder.fit(X.select_dtypes(include=\"object\"))\n",
        "X_onehot = pd.DataFrame(encoder.transform(X.select_dtypes(include=\"object\")).toarray(),columns=encoder.get_feature_names_out())\n",
        "\n",
        "X_preprocessed = pd.concat([X.select_dtypes(exclude=\"object\"), X_onehot],axis=1)\n",
        "\n",
        "scaler = StandardScaler()\n",
        "scaler.fit(X_preprocessed)\n",
        "X_scaled = pd.DataFrame(scaler.transform(X_preprocessed),columns=X_preprocessed.columns)\n",
        "\n",
        "X_scaled.head()"
      ]
    },
    {
      "cell_type": "markdown",
      "metadata": {
        "id": "YZTQ5hLgbXK6"
      },
      "source": [
        "### 3.2 K-Means\n",
        "\n",
        "* Dalam tahap awal kita akan menentukan initial `k`, dimana kita akan coba membuat cluster dengan nilai `k=5`.\n",
        "\n",
        "* *Notes*. Durasi pelatihan model akan berbanding lurus dengan banyaknya data dan jumlah cluster (`k`) yang ditentukan"
      ]
    },
    {
      "cell_type": "code",
      "execution_count": null,
      "metadata": {
        "colab": {
          "base_uri": "https://localhost:8080/"
        },
        "id": "sI1plFxua8Xg",
        "outputId": "3f1bfdd0-1b5b-4904-b1d0-78ac24413e48"
      },
      "outputs": [
        {
          "name": "stdout",
          "output_type": "stream",
          "text": [
            "Done fitting kMeans in 11.061s\n"
          ]
        }
      ],
      "source": [
        "K = 5\n",
        "kmeans_5 = KMeans(n_clusters=K, random_state=11)\n",
        "\n",
        "start = time()\n",
        "kmeans_5.fit(X_scaled)\n",
        "print(f\"Done fitting kMeans in {time()-start:.3f}s\")"
      ]
    },
    {
      "cell_type": "markdown",
      "metadata": {
        "id": "jW-QADHQdfye"
      },
      "source": [
        "* Setelah selesai dilatih, kita akan coba membuat kolom baru `clusters_of_5` pada data `X` untuk selanjutnya dicari nilai _cardinality_ dan juga `magnitude` dari tiap cluster.\n",
        "\n",
        "* Sebagai perbandingan, kita juga akan mencoba menggunakan model lain dengan `k` yang lebih besar, yaitu 15."
      ]
    },
    {
      "cell_type": "code",
      "execution_count": null,
      "metadata": {
        "colab": {
          "base_uri": "https://localhost:8080/"
        },
        "id": "espqPaw4e2j_",
        "outputId": "d89008a2-5bdb-4138-cf36-0f00ea69453c"
      },
      "outputs": [
        {
          "name": "stdout",
          "output_type": "stream",
          "text": [
            "Done fitting kMeans in 37.856s\n"
          ]
        }
      ],
      "source": [
        "K = 15\n",
        "kmeans_15 = KMeans(n_clusters=K, random_state=11)\n",
        "\n",
        "start = time()\n",
        "kmeans_15.fit(X_scaled)\n",
        "print(f\"Done fitting kMeans in {time()-start:.3f}s\")"
      ]
    },
    {
      "cell_type": "markdown",
      "metadata": {
        "id": "5P_Yg-VSfNRN"
      },
      "source": [
        "> Bisa kita lihat bahwa semakin banyak jumlah cluster yang ingin dibentuk, maka proses training akan semakin lama. Scikit-learn menyediakan sebuah alternatif yang dapat melakukan clustering lebih cepat, yaitu [`MiniBatchKMeans`](https://scikit-learn.org/stable/modules/clustering.html#mini-batch-k-means)."
      ]
    },
    {
      "cell_type": "code",
      "execution_count": null,
      "metadata": {
        "colab": {
          "base_uri": "https://localhost:8080/"
        },
        "id": "WGEoHO6ie2Xw",
        "outputId": "218a8e06-7417-4d21-edfa-738eda9c8edb"
      },
      "outputs": [
        {
          "name": "stdout",
          "output_type": "stream",
          "text": [
            "Done fitting kMeans in 0.653s\n"
          ]
        }
      ],
      "source": [
        "K = 15\n",
        "mb_kmeans_15 = MiniBatchKMeans(n_clusters=K)\n",
        "\n",
        "start = time()\n",
        "mb_kmeans_15.fit(X_scaled)\n",
        "print(f\"Done fitting kMeans in {time()-start:.3f}s\")"
      ]
    },
    {
      "cell_type": "markdown",
      "metadata": {
        "id": "e4Iz9jhvf-Ex"
      },
      "source": [
        "* Selanjutnya, kita akan membuat kolom baru pada data `X` yang merepresentasikan cluster dari model-model tersebut."
      ]
    },
    {
      "cell_type": "code",
      "execution_count": null,
      "metadata": {
        "colab": {
          "base_uri": "https://localhost:8080/",
          "height": 270
        },
        "id": "sSpLhYWKgVph",
        "outputId": "8eba2283-bad2-4b95-8b81-0bbcc352c200"
      },
      "outputs": [
        {
          "data": {
            "text/html": [
              "\n",
              "  <div id=\"df-9c39b306-fe35-4722-89f6-ce1af018450f\">\n",
              "    <div class=\"colab-df-container\">\n",
              "      <div>\n",
              "<style scoped>\n",
              "    .dataframe tbody tr th:only-of-type {\n",
              "        vertical-align: middle;\n",
              "    }\n",
              "\n",
              "    .dataframe tbody tr th {\n",
              "        vertical-align: top;\n",
              "    }\n",
              "\n",
              "    .dataframe thead th {\n",
              "        text-align: right;\n",
              "    }\n",
              "</style>\n",
              "<table border=\"1\" class=\"dataframe\">\n",
              "  <thead>\n",
              "    <tr style=\"text-align: right;\">\n",
              "      <th></th>\n",
              "      <th>total_items_bought</th>\n",
              "      <th>count_items_bought</th>\n",
              "      <th>total_spending</th>\n",
              "      <th>avg_spending</th>\n",
              "      <th>count_buying_day</th>\n",
              "      <th>count_colour_bought</th>\n",
              "      <th>FN</th>\n",
              "      <th>Active</th>\n",
              "      <th>club_member_status</th>\n",
              "      <th>fashion_news_frequency</th>\n",
              "      <th>age</th>\n",
              "      <th>clusters_of_5</th>\n",
              "      <th>clusters_of_15</th>\n",
              "      <th>clusters_of_15_mb</th>\n",
              "    </tr>\n",
              "  </thead>\n",
              "  <tbody>\n",
              "    <tr>\n",
              "      <th>0</th>\n",
              "      <td>1</td>\n",
              "      <td>1</td>\n",
              "      <td>0.050831</td>\n",
              "      <td>0.050831</td>\n",
              "      <td>1</td>\n",
              "      <td>1</td>\n",
              "      <td>0.0</td>\n",
              "      <td>0.0</td>\n",
              "      <td>ACTIVE</td>\n",
              "      <td>Never</td>\n",
              "      <td>49.0</td>\n",
              "      <td>0</td>\n",
              "      <td>9</td>\n",
              "      <td>14</td>\n",
              "    </tr>\n",
              "    <tr>\n",
              "      <th>1</th>\n",
              "      <td>1</td>\n",
              "      <td>1</td>\n",
              "      <td>0.027102</td>\n",
              "      <td>0.027102</td>\n",
              "      <td>1</td>\n",
              "      <td>1</td>\n",
              "      <td>0.0</td>\n",
              "      <td>0.0</td>\n",
              "      <td>ACTIVE</td>\n",
              "      <td>Never</td>\n",
              "      <td>25.0</td>\n",
              "      <td>0</td>\n",
              "      <td>0</td>\n",
              "      <td>12</td>\n",
              "    </tr>\n",
              "    <tr>\n",
              "      <th>2</th>\n",
              "      <td>1</td>\n",
              "      <td>1</td>\n",
              "      <td>0.061000</td>\n",
              "      <td>0.061000</td>\n",
              "      <td>1</td>\n",
              "      <td>1</td>\n",
              "      <td>0.0</td>\n",
              "      <td>0.0</td>\n",
              "      <td>ACTIVE</td>\n",
              "      <td>Never</td>\n",
              "      <td>24.0</td>\n",
              "      <td>0</td>\n",
              "      <td>9</td>\n",
              "      <td>6</td>\n",
              "    </tr>\n",
              "    <tr>\n",
              "      <th>3</th>\n",
              "      <td>7</td>\n",
              "      <td>7</td>\n",
              "      <td>0.255814</td>\n",
              "      <td>0.036545</td>\n",
              "      <td>2</td>\n",
              "      <td>3</td>\n",
              "      <td>1.0</td>\n",
              "      <td>1.0</td>\n",
              "      <td>ACTIVE</td>\n",
              "      <td>Regularly</td>\n",
              "      <td>52.0</td>\n",
              "      <td>1</td>\n",
              "      <td>14</td>\n",
              "      <td>0</td>\n",
              "    </tr>\n",
              "    <tr>\n",
              "      <th>4</th>\n",
              "      <td>2</td>\n",
              "      <td>2</td>\n",
              "      <td>0.076237</td>\n",
              "      <td>0.038119</td>\n",
              "      <td>1</td>\n",
              "      <td>2</td>\n",
              "      <td>0.0</td>\n",
              "      <td>0.0</td>\n",
              "      <td>ACTIVE</td>\n",
              "      <td>Never</td>\n",
              "      <td>20.0</td>\n",
              "      <td>0</td>\n",
              "      <td>0</td>\n",
              "      <td>12</td>\n",
              "    </tr>\n",
              "  </tbody>\n",
              "</table>\n",
              "</div>\n",
              "      <button class=\"colab-df-convert\" onclick=\"convertToInteractive('df-9c39b306-fe35-4722-89f6-ce1af018450f')\"\n",
              "              title=\"Convert this dataframe to an interactive table.\"\n",
              "              style=\"display:none;\">\n",
              "        \n",
              "  <svg xmlns=\"http://www.w3.org/2000/svg\" height=\"24px\"viewBox=\"0 0 24 24\"\n",
              "       width=\"24px\">\n",
              "    <path d=\"M0 0h24v24H0V0z\" fill=\"none\"/>\n",
              "    <path d=\"M18.56 5.44l.94 2.06.94-2.06 2.06-.94-2.06-.94-.94-2.06-.94 2.06-2.06.94zm-11 1L8.5 8.5l.94-2.06 2.06-.94-2.06-.94L8.5 2.5l-.94 2.06-2.06.94zm10 10l.94 2.06.94-2.06 2.06-.94-2.06-.94-.94-2.06-.94 2.06-2.06.94z\"/><path d=\"M17.41 7.96l-1.37-1.37c-.4-.4-.92-.59-1.43-.59-.52 0-1.04.2-1.43.59L10.3 9.45l-7.72 7.72c-.78.78-.78 2.05 0 2.83L4 21.41c.39.39.9.59 1.41.59.51 0 1.02-.2 1.41-.59l7.78-7.78 2.81-2.81c.8-.78.8-2.07 0-2.86zM5.41 20L4 18.59l7.72-7.72 1.47 1.35L5.41 20z\"/>\n",
              "  </svg>\n",
              "      </button>\n",
              "      \n",
              "  <style>\n",
              "    .colab-df-container {\n",
              "      display:flex;\n",
              "      flex-wrap:wrap;\n",
              "      gap: 12px;\n",
              "    }\n",
              "\n",
              "    .colab-df-convert {\n",
              "      background-color: #E8F0FE;\n",
              "      border: none;\n",
              "      border-radius: 50%;\n",
              "      cursor: pointer;\n",
              "      display: none;\n",
              "      fill: #1967D2;\n",
              "      height: 32px;\n",
              "      padding: 0 0 0 0;\n",
              "      width: 32px;\n",
              "    }\n",
              "\n",
              "    .colab-df-convert:hover {\n",
              "      background-color: #E2EBFA;\n",
              "      box-shadow: 0px 1px 2px rgba(60, 64, 67, 0.3), 0px 1px 3px 1px rgba(60, 64, 67, 0.15);\n",
              "      fill: #174EA6;\n",
              "    }\n",
              "\n",
              "    [theme=dark] .colab-df-convert {\n",
              "      background-color: #3B4455;\n",
              "      fill: #D2E3FC;\n",
              "    }\n",
              "\n",
              "    [theme=dark] .colab-df-convert:hover {\n",
              "      background-color: #434B5C;\n",
              "      box-shadow: 0px 1px 3px 1px rgba(0, 0, 0, 0.15);\n",
              "      filter: drop-shadow(0px 1px 2px rgba(0, 0, 0, 0.3));\n",
              "      fill: #FFFFFF;\n",
              "    }\n",
              "  </style>\n",
              "\n",
              "      <script>\n",
              "        const buttonEl =\n",
              "          document.querySelector('#df-9c39b306-fe35-4722-89f6-ce1af018450f button.colab-df-convert');\n",
              "        buttonEl.style.display =\n",
              "          google.colab.kernel.accessAllowed ? 'block' : 'none';\n",
              "\n",
              "        async function convertToInteractive(key) {\n",
              "          const element = document.querySelector('#df-9c39b306-fe35-4722-89f6-ce1af018450f');\n",
              "          const dataTable =\n",
              "            await google.colab.kernel.invokeFunction('convertToInteractive',\n",
              "                                                     [key], {});\n",
              "          if (!dataTable) return;\n",
              "\n",
              "          const docLinkHtml = 'Like what you see? Visit the ' +\n",
              "            '<a target=\"_blank\" href=https://colab.research.google.com/notebooks/data_table.ipynb>data table notebook</a>'\n",
              "            + ' to learn more about interactive tables.';\n",
              "          element.innerHTML = '';\n",
              "          dataTable['output_type'] = 'display_data';\n",
              "          await google.colab.output.renderOutput(dataTable, element);\n",
              "          const docLink = document.createElement('div');\n",
              "          docLink.innerHTML = docLinkHtml;\n",
              "          element.appendChild(docLink);\n",
              "        }\n",
              "      </script>\n",
              "    </div>\n",
              "  </div>\n",
              "  "
            ],
            "text/plain": [
              "   total_items_bought  count_items_bought  total_spending  avg_spending  \\\n",
              "0                   1                   1        0.050831      0.050831   \n",
              "1                   1                   1        0.027102      0.027102   \n",
              "2                   1                   1        0.061000      0.061000   \n",
              "3                   7                   7        0.255814      0.036545   \n",
              "4                   2                   2        0.076237      0.038119   \n",
              "\n",
              "   count_buying_day  count_colour_bought   FN  Active club_member_status  \\\n",
              "0                 1                    1  0.0     0.0             ACTIVE   \n",
              "1                 1                    1  0.0     0.0             ACTIVE   \n",
              "2                 1                    1  0.0     0.0             ACTIVE   \n",
              "3                 2                    3  1.0     1.0             ACTIVE   \n",
              "4                 1                    2  0.0     0.0             ACTIVE   \n",
              "\n",
              "  fashion_news_frequency   age  clusters_of_5  clusters_of_15  \\\n",
              "0                  Never  49.0              0               9   \n",
              "1                  Never  25.0              0               0   \n",
              "2                  Never  24.0              0               9   \n",
              "3              Regularly  52.0              1              14   \n",
              "4                  Never  20.0              0               0   \n",
              "\n",
              "   clusters_of_15_mb  \n",
              "0                 14  \n",
              "1                 12  \n",
              "2                  6  \n",
              "3                  0  \n",
              "4                 12  "
            ]
          },
          "metadata": {},
          "output_type": "display_data"
        }
      ],
      "source": [
        "X = X.assign(\n",
        "    clusters_of_5=kmeans_5.predict(X_scaled),\n",
        "    clusters_of_15=kmeans_15.predict(X_scaled),\n",
        "    clusters_of_15_mb=mb_kmeans_15.predict(X_scaled),\n",
        ")\n",
        "\n",
        "with pd.option_context(\"display.max_columns\", None):\n",
        "    display(X.head())"
      ]
    },
    {
      "cell_type": "markdown",
      "metadata": {
        "id": "a1aqaVd5f8dN"
      },
      "source": [
        "## 4. Model Evaluation\n",
        "\n",
        "Pada tahap evaluasi model, kita akan coba menganalisis _cardinality_ dan _magnitude_ dari masing-masing clusters di masing-masing model tersebut (k1 = 5, k2 = 15, k3minibatch = 15)"
      ]
    },
    {
      "cell_type": "markdown",
      "metadata": {
        "id": "ZCg4bqrnuJYw"
      },
      "source": [
        "### 4.1 Cluster Cardinality"
      ]
    },
    {
      "cell_type": "code",
      "execution_count": null,
      "metadata": {
        "colab": {
          "base_uri": "https://localhost:8080/",
          "height": 393
        },
        "id": "TaHHWPJff4X9",
        "outputId": "fa6b250d-fa11-45b1-918e-a944fa8b5dae"
      },
      "outputs": [
        {
          "data": {
            "image/png": "[encoded data removed]",
            "text/plain": [
              "<Figure size 1296x432 with 3 Axes>"
            ]
          },
          "metadata": {},
          "output_type": "display_data"
        }
      ],
      "source": [
        "fig, axis = plt.subplots(1, 3, figsize=(18, 6))\n",
        "for ax, preds in zip(axis, [\"clusters_of_5\", \"clusters_of_15\", \"clusters_of_15_mb\"]):\n",
        "    sns.countplot(x=preds, data=X, ax=ax, palette=\"Paired\")\n",
        "    ax.set_title(preds)\n",
        "plt.suptitle(\"Cluster Cardinality\")\n",
        "plt.show()"
      ]
    },
    {
      "cell_type": "markdown",
      "metadata": {
        "id": "JymBXitlirjm"
      },
      "source": [
        "> **Insights**\n",
        "\n",
        "Dari visualisasi _cluster cardinality_ di atas:\n",
        "* Model dengan 5 cluster (k=5), terlihat bahwa terdapat perbedaan cukup jauh antara cluster `0` dan `1` dengan cluster `2`, `3`, dan `4`\n",
        "* Model dengan 15 cluster (k=15), terlihat kardinalitas cluster `0` sangat jauh lebih banyak dibandingkan dengan cluster yang lain. Sebaliknya, cluster `3`, `4`, `6`, `7`, `8`, dan `10` memiliki jumlah elemen yang jauh lebih kecil\n",
        "* beberapa cluster dengan kardinalitas yang ekstrim tersebut bisa kita tinjau lebih dalam lagi bagaimana karaketeristik customer di dalamnya. Akan tetapi, karena kita belum menentukan jumlah cluster yang optimal, silakan eksplor secara mandiri\n",
        "\n",
        "> perlu diperhatikan bahwa nilai kardinalitas yang ekstrim bisa jadi wajar terjadi jika memang sesuai dengan konteks bisnis ([ref](https://towardsdatascience.com/common-mistakes-in-cluster-analysis-and-how-to-avoid-them-eb960116d773))"
      ]
    },
    {
      "cell_type": "markdown",
      "metadata": {
        "id": "1WXFKshwuMII"
      },
      "source": [
        "### 4.2 Cluster Magnitude"
      ]
    },
    {
      "cell_type": "code",
      "execution_count": null,
      "metadata": {
        "colab": {
          "base_uri": "https://localhost:8080/",
          "height": 389
        },
        "id": "7FwsWpQJebG0",
        "outputId": "392015dc-966e-4efc-d3d8-5492a675cfd5"
      },
      "outputs": [
        {
          "data": {
            "image/png": "[encoded data removed]",
            "text/plain": [
              "<Figure size 1296x432 with 3 Axes>"
            ]
          },
          "metadata": {},
          "output_type": "display_data"
        }
      ],
      "source": [
        "fig, axis = plt.subplots(1, 3, figsize=(18, 6))\n",
        "for ax, model, name in zip(axis,[kmeans_5, kmeans_15, mb_kmeans_15],[\"kmeans_5\", \"kmeans_15\", \"mb_kmeans_15\"]):\n",
        "    distances = model.transform(X_scaled)\n",
        "    preds = model.predict(X_scaled)\n",
        "    inertia_per_cluster = np.array([sum(dist[c]**2 for dist, c in zip(distances, preds) if c == cluster)\n",
        "        for cluster in range(model.n_clusters)])\n",
        "    ax.bar(x=range(model.n_clusters), height=inertia_per_cluster)\n",
        "    ax.set_title(name)\n",
        "plt.suptitle(\"Cluster Magnitude\")\n",
        "plt.show()"
      ]
    },
    {
      "cell_type": "markdown",
      "metadata": {
        "id": "ATVXnjLSuPaA"
      },
      "source": [
        "> **Question**\n",
        "\n",
        "Apa yang bisa kamu ambil dari visualisasi di atas? ([ref](https://developers.google.com/machine-learning/clustering/interpret))"
      ]
    },
    {
      "cell_type": "markdown",
      "metadata": {
        "id": "DrfaaPwRenUu"
      },
      "source": [
        "### 4.3 Elbow Method\n",
        "\n",
        "Untuk menggunakan elbow method, kita perlu menghitung **inertia** dari seluruh cluster.\n",
        "\n",
        "> **inertia** adalah jumlah kuadrat jarak sampel ke pusat cluster terdekat ([ref](https://scikit-learn.org/stable/modules/generated/sklearn.cluster.KMeans.html))\n",
        "\n",
        "Kita akan mencoba beberapa nilai `k` (jumlah cluster) untuk dihitung nilai inertia-nya. Kemudian, kita akan buat visualisasi tren nilai inertia untuk masing-masing nilai `k`. **Jumlah cluster yang optimal ditentukan secara visual dengan mencari bentuk siku _elbow_ pada plot setelah inertia mulai menurun secara linier**. ([ref](https://towardsdatascience.com/common-mistakes-in-cluster-analysis-and-how-to-avoid-them-eb960116d773))"
      ]
    },
    {
      "cell_type": "code",
      "execution_count": null,
      "metadata": {
        "colab": {
          "base_uri": "https://localhost:8080/"
        },
        "id": "YZIGzx7ncOIk",
        "outputId": "d9f46222-1a53-4ff6-b138-34e2ba9280d3"
      },
      "outputs": [
        {
          "name": "stdout",
          "output_type": "stream",
          "text": [
            "Clustering with n_clusters=1\n",
            "Done clustering in 1.844s\n",
            "Clustering with n_clusters=2\n",
            "Done clustering in 3.058s\n",
            "Clustering with n_clusters=3\n",
            "Done clustering in 5.599s\n",
            "Clustering with n_clusters=4\n",
            "Done clustering in 7.663s\n",
            "Clustering with n_clusters=5\n",
            "Done clustering in 11.104s\n",
            "Clustering with n_clusters=6\n",
            "Done clustering in 11.480s\n",
            "Clustering with n_clusters=7\n",
            "Done clustering in 12.152s\n",
            "Clustering with n_clusters=8\n",
            "Done clustering in 13.491s\n",
            "Clustering with n_clusters=9\n",
            "Done clustering in 16.267s\n",
            "Clustering with n_clusters=10\n",
            "Done clustering in 16.332s\n",
            "Clustering with n_clusters=11\n",
            "Done clustering in 19.798s\n",
            "Clustering with n_clusters=12\n",
            "Done clustering in 26.422s\n",
            "Clustering with n_clusters=13\n",
            "Done clustering in 30.273s\n",
            "Clustering with n_clusters=14\n",
            "Done clustering in 28.826s\n",
            "Clustering with n_clusters=15\n",
            "Done clustering in 36.199s\n",
            "Clustering with n_clusters=16\n",
            "Done clustering in 38.990s\n",
            "Clustering with n_clusters=17\n",
            "Done clustering in 37.289s\n",
            "Clustering with n_clusters=18\n",
            "Done clustering in 40.581s\n",
            "Clustering with n_clusters=19\n",
            "Done clustering in 50.385s\n"
          ]
        }
      ],
      "source": [
        "# sum of squared distances\n",
        "ssd = []\n",
        "\n",
        "# may take a longer time to run (takes up to approximately 6 min)\n",
        "for k in range(1, 20):\n",
        "    model = KMeans(n_clusters=k, random_state=11)\n",
        "    print(f\"Clustering with n_clusters={k}\")\n",
        "    start = time()\n",
        "    model.fit(X_scaled)\n",
        "    print(f\"Done clustering in {time()-start:.3f}s\")\n",
        "\n",
        "    ssd.append(model.inertia_)"
      ]
    },
    {
      "cell_type": "code",
      "execution_count": null,
      "metadata": {
        "colab": {
          "base_uri": "https://localhost:8080/",
          "height": 385
        },
        "id": "7pIabvouwQPI",
        "outputId": "0a14002f-e7dc-49f1-a39a-758a8e1b0706"
      },
      "outputs": [
        {
          "data": {
            "image/png": "[encoded data removed]",
            "text/plain": [
              "<Figure size 864x432 with 1 Axes>"
            ]
          },
          "metadata": {},
          "output_type": "display_data"
        }
      ],
      "source": [
        "plt.figure(figsize=(12, 6))\n",
        "sns.lineplot(x=range(1, 20), y=ssd)\n",
        "sns.scatterplot(x=range(1, 20), y=ssd)\n",
        "plt.xticks(range(1, 20))\n",
        "plt.show()"
      ]
    },
    {
      "cell_type": "markdown",
      "metadata": {
        "id": "1WMPd5nkm6pg"
      },
      "source": [
        "> Menurut kamu, dari visualisasi di atas, kira-kira berapa jumlah cluster yang paling optimal?"
      ]
    },
    {
      "cell_type": "markdown",
      "metadata": {
        "id": "0PwOcyvsnC6c"
      },
      "source": [
        "### 4.4 Silhouette Coefficient\n",
        "\n",
        "* Koefisien silhouette dihitung menggunakan persamaan:\n",
        "\n",
        "$$\n",
        "\\frac{b-a}{\\max{(a, b)}},\n",
        "$$\n",
        "\n",
        "* dengan $a$ adalah jarak **intra-cluster**, yaitu jarak antar elemen dalam satu cluster, dan $a$ adalah jarak **inter-cluster**, yaitu jarak suatu elemen dengan elemen lain yang tidak dalam satu cluster yang sama.\n",
        "\n",
        "* Nilai koefisien silhouette berada pada rentang antara -1 sampai 1. Jika koefisien silhouette semakin mendekati 1, maka bisa dikatakan cluster yang dihasilkan sudah optimal.\n",
        "\n",
        "* Kita bisa menggunakan fungsi `silhouette_score` dari scikit-learn."
      ]
    },
    {
      "cell_type": "code",
      "execution_count": null,
      "metadata": {
        "id": "yvISHsFRnCS6"
      },
      "outputs": [],
      "source": [
        "# Code for the whole dataset\n",
        "silhouette_scores = []\n",
        "\n",
        "# may take a longer time to run\n",
        "for k in range(2, 21):\n",
        "    model = KMeans(n_clusters=k, random_state=11)\n",
        "    print(f\"Clustering with n_clusters={k}\")\n",
        "    start = time()\n",
        "    model.fit(X_scaled)\n",
        "    print(f\"Done clustering in {time()-start:.3f}s\")\n",
        "\n",
        "    print(\"Calculating silhouette coefficient..\")\n",
        "    start = time()\n",
        "    silhouette_scores.append(silhouette_score(X_scaled, model.labels_))\n",
        "    print(f\"Done calculating in {time()-start:.3f}s\")"
      ]
    },
    {
      "cell_type": "markdown",
      "metadata": {
        "id": "VldsfvyA35h7"
      },
      "source": [
        "* Dikarenakan data kita yang cukup besar maka untuk latihan simulasi mendapatkan nilai silhouette, kita akan coba lakukan ambil 20% dari X_scaled."
      ]
    },
    {
      "cell_type": "code",
      "execution_count": null,
      "metadata": {
        "id": "I7pXW5lPjlpn"
      },
      "outputs": [],
      "source": [
        "X_scaled_sample = X_scaled[0:int(len(X_scaled)*0.2)]"
      ]
    },
    {
      "cell_type": "code",
      "execution_count": null,
      "metadata": {
        "colab": {
          "background_save": true,
          "base_uri": "https://localhost:8080/"
        },
        "id": "PzyONM3bklCl",
        "outputId": "0d62361c-6f76-4a6b-ff39-a4d5a9b85246"
      },
      "outputs": [
        {
          "name": "stdout",
          "output_type": "stream",
          "text": [
            "Clustering with n_clusters=2\n",
            "Done clustering in 1.434s\n",
            "Calculating silhouette coefficient..\n",
            "Done calculating in 194.939s\n",
            "Clustering with n_clusters=3\n",
            "Done clustering in 2.001s\n",
            "Calculating silhouette coefficient..\n",
            "Done calculating in 186.764s\n",
            "Clustering with n_clusters=4\n",
            "Done clustering in 2.036s\n",
            "Calculating silhouette coefficient..\n",
            "Done calculating in 186.257s\n",
            "Clustering with n_clusters=5\n",
            "Done clustering in 2.562s\n",
            "Calculating silhouette coefficient..\n",
            "Done calculating in 185.787s\n",
            "Clustering with n_clusters=6\n",
            "Done clustering in 2.812s\n",
            "Calculating silhouette coefficient..\n",
            "Done calculating in 185.945s\n",
            "Clustering with n_clusters=7\n",
            "Done clustering in 3.556s\n",
            "Calculating silhouette coefficient..\n",
            "Done calculating in 186.605s\n",
            "Clustering with n_clusters=8\n",
            "Done clustering in 3.113s\n",
            "Calculating silhouette coefficient..\n",
            "Done calculating in 186.074s\n",
            "Clustering with n_clusters=9\n",
            "Done clustering in 3.503s\n",
            "Calculating silhouette coefficient..\n",
            "Done calculating in 184.804s\n",
            "Clustering with n_clusters=10\n",
            "Done clustering in 5.582s\n",
            "Calculating silhouette coefficient..\n",
            "Done calculating in 183.236s\n",
            "Clustering with n_clusters=11\n",
            "Done clustering in 5.282s\n",
            "Calculating silhouette coefficient..\n",
            "Done calculating in 181.972s\n",
            "Clustering with n_clusters=12\n",
            "Done clustering in 4.881s\n",
            "Calculating silhouette coefficient..\n",
            "Done calculating in 179.589s\n",
            "Clustering with n_clusters=13\n",
            "Done clustering in 6.294s\n",
            "Calculating silhouette coefficient..\n",
            "Done calculating in 178.949s\n",
            "Clustering with n_clusters=14\n",
            "Done clustering in 7.382s\n",
            "Calculating silhouette coefficient..\n",
            "Done calculating in 177.088s\n",
            "Clustering with n_clusters=15\n",
            "Done clustering in 7.292s\n",
            "Calculating silhouette coefficient..\n",
            "Done calculating in 177.682s\n",
            "Clustering with n_clusters=16\n",
            "Done clustering in 7.911s\n",
            "Calculating silhouette coefficient..\n",
            "Done calculating in 177.394s\n",
            "Clustering with n_clusters=17\n",
            "Done clustering in 9.226s\n",
            "Calculating silhouette coefficient..\n",
            "Done calculating in 173.327s\n",
            "Clustering with n_clusters=18\n",
            "Done clustering in 9.520s\n",
            "Calculating silhouette coefficient..\n",
            "Done calculating in 173.179s\n",
            "Clustering with n_clusters=19\n",
            "Done clustering in 10.086s\n",
            "Calculating silhouette coefficient..\n",
            "Done calculating in 169.522s\n",
            "Clustering with n_clusters=20\n",
            "Done clustering in 11.258s\n",
            "Calculating silhouette coefficient..\n",
            "Done calculating in 170.551s\n"
          ]
        }
      ],
      "source": [
        "silhouette_scores = []\n",
        "\n",
        "# INFORMATION\n",
        "# It may take a longer time to run, the sample data took around 46m 30s to be completed\n",
        "\n",
        "for k in range(2, 21):\n",
        "    model = KMeans(n_clusters=k, random_state=11)\n",
        "    print(f\"Clustering with n_clusters={k}\")\n",
        "    start = time()\n",
        "    model.fit(X_scaled_sample)\n",
        "    print(f\"Done clustering in {time()-start:.3f}s\")\n",
        "\n",
        "    print(\"Calculating silhouette coefficient..\")\n",
        "    start = time()\n",
        "    silhouette_scores.append(silhouette_score(X_scaled_sample, model.labels_))\n",
        "    print(f\"Done calculating in {time()-start:.3f}s\")"
      ]
    },
    {
      "cell_type": "code",
      "execution_count": null,
      "metadata": {
        "id": "YW4U3O4lql3I",
        "colab": {
          "base_uri": "https://localhost:8080/",
          "height": 375
        },
        "outputId": "dcdc7302-5289-43cc-b17d-40be75db4a1b"
      },
      "outputs": [
        {
          "output_type": "display_data",
          "data": {
            "text/plain": [
              "<Figure size 864x432 with 1 Axes>"
            ],
            "image/png": "[encoded data removed]"
          },
          "metadata": {
            "needs_background": "light"
          }
        }
      ],
      "source": [
        "plt.figure(figsize=(12, 6))\n",
        "sns.lineplot(x=range(2, 21), y=silhouette_scores)\n",
        "sns.scatterplot(x=range(2, 21), y=silhouette_scores)\n",
        "plt.xticks(range(1, 20))\n",
        "plt.show()"
      ]
    },
    {
      "cell_type": "markdown",
      "metadata": {
        "id": "XvyIHejNjWN5"
      },
      "source": [
        "> **Questions**\n",
        "\n",
        "Apa yang bisa kamu ambil dari visualisasi silhouette score di atas? Berapa jumlah cluster dengan nilai silhouette coefficient yang paling besar?"
      ]
    },
    {
      "cell_type": "markdown",
      "metadata": {
        "id": "Yajgj4PM1YmB"
      },
      "source": [
        "> **Catatan:**\n",
        "> Untuk kasus segmentasi customer, sebenarnya tidak cukup hanya sampai membuat cluster. Akan tetapi, hasil dari clustering kemudian akan digunakan untuk melakukan eksplorasi lebih lanjut untuk mengetahui karakteristik masing-masing cluster."
      ]
    }
  ],
  "metadata": {
    "colab": {
      "provenance": []
    },
    "kernelspec": {
      "display_name": "Python 3",
      "name": "python3"
    },
    "language_info": {
      "name": "python"
    }
  },
  "nbformat": 4,
  "nbformat_minor": 0
}